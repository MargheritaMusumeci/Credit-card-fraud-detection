{
  "nbformat": 4,
  "nbformat_minor": 0,
  "metadata": {
    "colab": {
      "name": "LogisticRegression.ipynb",
      "provenance": [],
      "collapsed_sections": []
    },
    "kernelspec": {
      "name": "python3",
      "display_name": "Python 3"
    },
    "language_info": {
      "name": "python"
    },
    "widgets": {
      "application/vnd.jupyter.widget-state+json": {
        "1163f68d93c345648fda04b8dd1c848a": {
          "model_module": "@jupyter-widgets/controls",
          "model_name": "HBoxModel",
          "model_module_version": "1.5.0",
          "state": {
            "_view_name": "HBoxView",
            "_dom_classes": [],
            "_model_name": "HBoxModel",
            "_view_module": "@jupyter-widgets/controls",
            "_model_module_version": "1.5.0",
            "_view_count": null,
            "_view_module_version": "1.5.0",
            "box_style": "",
            "layout": "IPY_MODEL_4eea39e8948e4d8cb1bb2d6c17c0aa60",
            "_model_module": "@jupyter-widgets/controls",
            "children": [
              "IPY_MODEL_e32329b1d5e544e192c5621472e63435",
              "IPY_MODEL_3543efe45b9e4256b2821991aa961f11",
              "IPY_MODEL_a757b94d6e2d4a4091ec197df9ef4a6b"
            ]
          }
        },
        "4eea39e8948e4d8cb1bb2d6c17c0aa60": {
          "model_module": "@jupyter-widgets/base",
          "model_name": "LayoutModel",
          "model_module_version": "1.2.0",
          "state": {
            "_view_name": "LayoutView",
            "grid_template_rows": null,
            "right": null,
            "justify_content": null,
            "_view_module": "@jupyter-widgets/base",
            "overflow": null,
            "_model_module_version": "1.2.0",
            "_view_count": null,
            "flex_flow": null,
            "width": null,
            "min_width": null,
            "border": null,
            "align_items": null,
            "bottom": null,
            "_model_module": "@jupyter-widgets/base",
            "top": null,
            "grid_column": null,
            "overflow_y": null,
            "overflow_x": null,
            "grid_auto_flow": null,
            "grid_area": null,
            "grid_template_columns": null,
            "flex": null,
            "_model_name": "LayoutModel",
            "justify_items": null,
            "grid_row": null,
            "max_height": null,
            "align_content": null,
            "visibility": null,
            "align_self": null,
            "height": null,
            "min_height": null,
            "padding": null,
            "grid_auto_rows": null,
            "grid_gap": null,
            "max_width": null,
            "order": null,
            "_view_module_version": "1.2.0",
            "grid_template_areas": null,
            "object_position": null,
            "object_fit": null,
            "grid_auto_columns": null,
            "margin": null,
            "display": null,
            "left": null
          }
        },
        "e32329b1d5e544e192c5621472e63435": {
          "model_module": "@jupyter-widgets/controls",
          "model_name": "HTMLModel",
          "model_module_version": "1.5.0",
          "state": {
            "_view_name": "HTMLView",
            "style": "IPY_MODEL_a6f9610f2f0f4fc9a3f16f523963c0d5",
            "_dom_classes": [],
            "description": "",
            "_model_name": "HTMLModel",
            "placeholder": "​",
            "_view_module": "@jupyter-widgets/controls",
            "_model_module_version": "1.5.0",
            "value": "100%",
            "_view_count": null,
            "_view_module_version": "1.5.0",
            "description_tooltip": null,
            "_model_module": "@jupyter-widgets/controls",
            "layout": "IPY_MODEL_6c6b6ce6d35445289721cb79e3b255c9"
          }
        },
        "3543efe45b9e4256b2821991aa961f11": {
          "model_module": "@jupyter-widgets/controls",
          "model_name": "FloatProgressModel",
          "model_module_version": "1.5.0",
          "state": {
            "_view_name": "ProgressView",
            "style": "IPY_MODEL_47788cae5ce243d191fd820a39aa229b",
            "_dom_classes": [],
            "description": "",
            "_model_name": "FloatProgressModel",
            "bar_style": "success",
            "max": 500,
            "_view_module": "@jupyter-widgets/controls",
            "_model_module_version": "1.5.0",
            "value": 500,
            "_view_count": null,
            "_view_module_version": "1.5.0",
            "orientation": "horizontal",
            "min": 0,
            "description_tooltip": null,
            "_model_module": "@jupyter-widgets/controls",
            "layout": "IPY_MODEL_b9d9f519073d47f582cf1fbbcb4629f3"
          }
        },
        "a757b94d6e2d4a4091ec197df9ef4a6b": {
          "model_module": "@jupyter-widgets/controls",
          "model_name": "HTMLModel",
          "model_module_version": "1.5.0",
          "state": {
            "_view_name": "HTMLView",
            "style": "IPY_MODEL_6b3fb020e2f84baba316a18bc6884a1c",
            "_dom_classes": [],
            "description": "",
            "_model_name": "HTMLModel",
            "placeholder": "​",
            "_view_module": "@jupyter-widgets/controls",
            "_model_module_version": "1.5.0",
            "value": " 500/500 [00:16&lt;00:00, 31.74it/s]",
            "_view_count": null,
            "_view_module_version": "1.5.0",
            "description_tooltip": null,
            "_model_module": "@jupyter-widgets/controls",
            "layout": "IPY_MODEL_2e6f02719ffe4d99a3649d36a15af5ca"
          }
        },
        "a6f9610f2f0f4fc9a3f16f523963c0d5": {
          "model_module": "@jupyter-widgets/controls",
          "model_name": "DescriptionStyleModel",
          "model_module_version": "1.5.0",
          "state": {
            "_view_name": "StyleView",
            "_model_name": "DescriptionStyleModel",
            "description_width": "",
            "_view_module": "@jupyter-widgets/base",
            "_model_module_version": "1.5.0",
            "_view_count": null,
            "_view_module_version": "1.2.0",
            "_model_module": "@jupyter-widgets/controls"
          }
        },
        "6c6b6ce6d35445289721cb79e3b255c9": {
          "model_module": "@jupyter-widgets/base",
          "model_name": "LayoutModel",
          "model_module_version": "1.2.0",
          "state": {
            "_view_name": "LayoutView",
            "grid_template_rows": null,
            "right": null,
            "justify_content": null,
            "_view_module": "@jupyter-widgets/base",
            "overflow": null,
            "_model_module_version": "1.2.0",
            "_view_count": null,
            "flex_flow": null,
            "width": null,
            "min_width": null,
            "border": null,
            "align_items": null,
            "bottom": null,
            "_model_module": "@jupyter-widgets/base",
            "top": null,
            "grid_column": null,
            "overflow_y": null,
            "overflow_x": null,
            "grid_auto_flow": null,
            "grid_area": null,
            "grid_template_columns": null,
            "flex": null,
            "_model_name": "LayoutModel",
            "justify_items": null,
            "grid_row": null,
            "max_height": null,
            "align_content": null,
            "visibility": null,
            "align_self": null,
            "height": null,
            "min_height": null,
            "padding": null,
            "grid_auto_rows": null,
            "grid_gap": null,
            "max_width": null,
            "order": null,
            "_view_module_version": "1.2.0",
            "grid_template_areas": null,
            "object_position": null,
            "object_fit": null,
            "grid_auto_columns": null,
            "margin": null,
            "display": null,
            "left": null
          }
        },
        "47788cae5ce243d191fd820a39aa229b": {
          "model_module": "@jupyter-widgets/controls",
          "model_name": "ProgressStyleModel",
          "model_module_version": "1.5.0",
          "state": {
            "_view_name": "StyleView",
            "_model_name": "ProgressStyleModel",
            "description_width": "",
            "_view_module": "@jupyter-widgets/base",
            "_model_module_version": "1.5.0",
            "_view_count": null,
            "_view_module_version": "1.2.0",
            "bar_color": null,
            "_model_module": "@jupyter-widgets/controls"
          }
        },
        "b9d9f519073d47f582cf1fbbcb4629f3": {
          "model_module": "@jupyter-widgets/base",
          "model_name": "LayoutModel",
          "model_module_version": "1.2.0",
          "state": {
            "_view_name": "LayoutView",
            "grid_template_rows": null,
            "right": null,
            "justify_content": null,
            "_view_module": "@jupyter-widgets/base",
            "overflow": null,
            "_model_module_version": "1.2.0",
            "_view_count": null,
            "flex_flow": null,
            "width": null,
            "min_width": null,
            "border": null,
            "align_items": null,
            "bottom": null,
            "_model_module": "@jupyter-widgets/base",
            "top": null,
            "grid_column": null,
            "overflow_y": null,
            "overflow_x": null,
            "grid_auto_flow": null,
            "grid_area": null,
            "grid_template_columns": null,
            "flex": null,
            "_model_name": "LayoutModel",
            "justify_items": null,
            "grid_row": null,
            "max_height": null,
            "align_content": null,
            "visibility": null,
            "align_self": null,
            "height": null,
            "min_height": null,
            "padding": null,
            "grid_auto_rows": null,
            "grid_gap": null,
            "max_width": null,
            "order": null,
            "_view_module_version": "1.2.0",
            "grid_template_areas": null,
            "object_position": null,
            "object_fit": null,
            "grid_auto_columns": null,
            "margin": null,
            "display": null,
            "left": null
          }
        },
        "6b3fb020e2f84baba316a18bc6884a1c": {
          "model_module": "@jupyter-widgets/controls",
          "model_name": "DescriptionStyleModel",
          "model_module_version": "1.5.0",
          "state": {
            "_view_name": "StyleView",
            "_model_name": "DescriptionStyleModel",
            "description_width": "",
            "_view_module": "@jupyter-widgets/base",
            "_model_module_version": "1.5.0",
            "_view_count": null,
            "_view_module_version": "1.2.0",
            "_model_module": "@jupyter-widgets/controls"
          }
        },
        "2e6f02719ffe4d99a3649d36a15af5ca": {
          "model_module": "@jupyter-widgets/base",
          "model_name": "LayoutModel",
          "model_module_version": "1.2.0",
          "state": {
            "_view_name": "LayoutView",
            "grid_template_rows": null,
            "right": null,
            "justify_content": null,
            "_view_module": "@jupyter-widgets/base",
            "overflow": null,
            "_model_module_version": "1.2.0",
            "_view_count": null,
            "flex_flow": null,
            "width": null,
            "min_width": null,
            "border": null,
            "align_items": null,
            "bottom": null,
            "_model_module": "@jupyter-widgets/base",
            "top": null,
            "grid_column": null,
            "overflow_y": null,
            "overflow_x": null,
            "grid_auto_flow": null,
            "grid_area": null,
            "grid_template_columns": null,
            "flex": null,
            "_model_name": "LayoutModel",
            "justify_items": null,
            "grid_row": null,
            "max_height": null,
            "align_content": null,
            "visibility": null,
            "align_self": null,
            "height": null,
            "min_height": null,
            "padding": null,
            "grid_auto_rows": null,
            "grid_gap": null,
            "max_width": null,
            "order": null,
            "_view_module_version": "1.2.0",
            "grid_template_areas": null,
            "object_position": null,
            "object_fit": null,
            "grid_auto_columns": null,
            "margin": null,
            "display": null,
            "left": null
          }
        }
      }
    }
  },
  "cells": [
    {
      "cell_type": "markdown",
      "source": [
        "# Logistic Regression"
      ],
      "metadata": {
        "id": "1MDfKK6m_SCK"
      }
    },
    {
      "cell_type": "markdown",
      "metadata": {
        "id": "LWxlDFYZx31S"
      },
      "source": [
        "## Data import"
      ]
    },
    {
      "cell_type": "code",
      "execution_count": 34,
      "metadata": {
        "id": "sPaRJQs9pshL"
      },
      "outputs": [],
      "source": [
        "import numpy as np\n",
        "import matplotlib.pyplot as plt\n",
        "import pandas as pd\n",
        "import seaborn as sns\n",
        "import time\n",
        "import jax.numpy as jnp\n",
        "import jax\n",
        "\n",
        "from tqdm.notebook import tqdm\n",
        "from math import sqrt\n",
        "from random import seed\n",
        "from random import randrange\n",
        "from math import pi\n",
        "from math import exp"
      ]
    },
    {
      "cell_type": "code",
      "metadata": {
        "id": "Tb2dI5WU-2ji"
      },
      "source": [
        "# read data\n",
        "data = pd.read_csv('creditcard.csv')\n"
      ],
      "execution_count": 35,
      "outputs": []
    },
    {
      "cell_type": "markdown",
      "source": [
        "## Data Division"
      ],
      "metadata": {
        "id": "xDNUKwGV8UNF"
      }
    },
    {
      "cell_type": "code",
      "source": [
        "# remove 'Class' column\n",
        "dataset_to_be_normalized = data.iloc[:,:-1]\n",
        "\n",
        "# compute the mean \n",
        "data_mean = dataset_to_be_normalized.mean()\n",
        "# compute the standard deviation\n",
        "data_std = dataset_to_be_normalized.std()\n",
        "# normalize the data\n",
        "data_normalized = (dataset_to_be_normalized - data_mean) / data_std\n",
        "\n",
        "# append 'Class' column\n",
        "data_normalized['Class'] = data.iloc[:,-1]"
      ],
      "metadata": {
        "id": "Ct7ubrH9MhJE"
      },
      "execution_count": 36,
      "outputs": []
    },
    {
      "cell_type": "markdown",
      "source": [
        "Divide in training and test set "
      ],
      "metadata": {
        "id": "FxA_mM7K8cY5"
      }
    },
    {
      "cell_type": "code",
      "source": [
        "# convert data to numpy 2D array\n",
        "data_normalized_np = data_normalized.to_numpy()\n",
        "\n",
        "# shuffle data\n",
        "np.random.seed(0) # set seed to 0 for reproducibility\n",
        "np.random.shuffle(data_normalized_np) \n",
        "fraction_validation = 0.3\n",
        "\n",
        "# divide into training_set and test_set\n",
        "num_train = int(data_normalized_np.shape[0] * (1 - fraction_validation))\n",
        "\n",
        "train_set = data_normalized_np[:num_train,:]\n",
        "valid_set = data_normalized_np[num_train:,:]\n",
        "\n",
        "train_set.shape, valid_set.shape"
      ],
      "metadata": {
        "colab": {
          "base_uri": "https://localhost:8080/"
        },
        "id": "z21mRUrWvZ3_",
        "outputId": "ff134414-ed03-46ee-f96d-9de412870d92"
      },
      "execution_count": 37,
      "outputs": [
        {
          "output_type": "execute_result",
          "data": {
            "text/plain": [
              "((144240, 31), (61818, 31))"
            ]
          },
          "metadata": {},
          "execution_count": 37
        }
      ]
    },
    {
      "cell_type": "markdown",
      "source": [
        "Divide the training set in subsets with specific ratios"
      ],
      "metadata": {
        "id": "k46a-b9m0B50"
      }
    },
    {
      "cell_type": "code",
      "source": [
        "fraud = train_set[train_set[:,-1] == 1]\n",
        "non_fraud = train_set[train_set[:,-1] == 0]\n",
        "\n",
        "np.random.seed(0) # set seed to 0 for reproducibility\n",
        "np.random.shuffle(non_fraud) \n",
        "\n",
        "# ratio 50:50\n",
        "new_non_fraud = non_fraud[:fraud.shape[0],:]\n",
        "\n",
        "# concatenate the two matrix\n",
        "train_set1 = np.r_[new_non_fraud,fraud]\n",
        "\n",
        "np.random.seed(0) # set seed to 0 for reproducibility\n",
        "np.random.shuffle(non_fraud) \n",
        "\n",
        "# ratio 34:64\n",
        "new_non_fraud = non_fraud[:int(fraud.shape[0] * (66/34)),:]\n",
        "\n",
        "# concatenate the two matrix\n",
        "train_set2 = np.r_[new_non_fraud,fraud]\n",
        "\n",
        "np.random.seed(0) # set seed to 0 for reproducibility\n",
        "np.random.shuffle(non_fraud) \n",
        "\n",
        "# ratio 25:75\n",
        "new_non_fraud = non_fraud[:int(fraud.shape[0] * (75/25)),:]\n",
        "\n",
        "# concatenate the two matrix\n",
        "train_set3 = np.r_[new_non_fraud,fraud]\n",
        "\n",
        "train_set1.shape, train_set2.shape, train_set3.shape"
      ],
      "metadata": {
        "colab": {
          "base_uri": "https://localhost:8080/"
        },
        "id": "5dDWS4fSwB66",
        "outputId": "9ee60d11-dc91-44d0-8502-4c3f70d05e2c"
      },
      "execution_count": 38,
      "outputs": [
        {
          "output_type": "execute_result",
          "data": {
            "text/plain": [
              "((520, 31), (764, 31), (1040, 31))"
            ]
          },
          "metadata": {},
          "execution_count": 38
        }
      ]
    },
    {
      "cell_type": "code",
      "source": [
        "x1 = train_set1[:,:-1]\n",
        "y1 = train_set1[:,-1]\n",
        "\n",
        "x1.shape,y1.shape"
      ],
      "metadata": {
        "colab": {
          "base_uri": "https://localhost:8080/"
        },
        "id": "1y7WtU06_xai",
        "outputId": "692feb16-5906-41a1-b4c3-eb348d394043"
      },
      "execution_count": 77,
      "outputs": [
        {
          "output_type": "execute_result",
          "data": {
            "text/plain": [
              "((520, 30), (520,))"
            ]
          },
          "metadata": {},
          "execution_count": 77
        }
      ]
    },
    {
      "cell_type": "code",
      "source": [
        "x2 = train_set2[:,:-1]\n",
        "y2 = train_set2[:,-1]\n",
        "\n",
        "x2.shape,y2.shape"
      ],
      "metadata": {
        "colab": {
          "base_uri": "https://localhost:8080/"
        },
        "id": "2cXZ9JIiADl2",
        "outputId": "9c730d92-9de4-4313-81e8-18fbf6d7e75b"
      },
      "execution_count": 78,
      "outputs": [
        {
          "output_type": "execute_result",
          "data": {
            "text/plain": [
              "((764, 30), (764,))"
            ]
          },
          "metadata": {},
          "execution_count": 78
        }
      ]
    },
    {
      "cell_type": "code",
      "source": [
        "x3 = train_set3[:,:-1]\n",
        "y3 = train_set3[:,-1]\n",
        "\n",
        "x3.shape,y3.shape"
      ],
      "metadata": {
        "colab": {
          "base_uri": "https://localhost:8080/"
        },
        "id": "-RvSuSJeAHKe",
        "outputId": "a9588164-adbb-4abc-e323-7afb742359d6"
      },
      "execution_count": 79,
      "outputs": [
        {
          "output_type": "execute_result",
          "data": {
            "text/plain": [
              "((1040, 30), (1040,))"
            ]
          },
          "metadata": {},
          "execution_count": 79
        }
      ]
    },
    {
      "cell_type": "code",
      "source": [
        "xValid = valid_set[:,:-1]\n",
        "yValid = valid_set[:,-1]\n",
        "\n",
        "xValid.shape, yValid.shape"
      ],
      "metadata": {
        "colab": {
          "base_uri": "https://localhost:8080/"
        },
        "id": "U6v2y3yRAKbm",
        "outputId": "452bcb55-ec17-462b-f52d-814546dc8478"
      },
      "execution_count": 80,
      "outputs": [
        {
          "output_type": "execute_result",
          "data": {
            "text/plain": [
              "((61818, 30), (61818,))"
            ]
          },
          "metadata": {},
          "execution_count": 80
        }
      ]
    },
    {
      "cell_type": "markdown",
      "source": [
        "## Define functions "
      ],
      "metadata": {
        "id": "SeZR7LnoAYoT"
      }
    },
    {
      "cell_type": "code",
      "source": [
        "def initialize_params(weight_size):\n",
        "  \"\"\"\n",
        "  The purpose of this function is to initialize the weights and bias\n",
        "\n",
        "  @params: weight_size: number of features \n",
        "  @return: array of dimention (weights_size + 1) initialize to zero \n",
        "  \"\"\"\n",
        "  return np.zeros(weight_size) "
      ],
      "metadata": {
        "id": "3Q82YK3qA-xL"
      },
      "execution_count": 42,
      "outputs": []
    },
    {
      "cell_type": "code",
      "execution_count": 43,
      "metadata": {
        "id": "vUzGENhzxl_r"
      },
      "outputs": [],
      "source": [
        "def sigmoid(z):\n",
        "  \"\"\"\n",
        "  This function returns the value of the sigmoid function given an input value\n",
        "\n",
        "  @params: z: a linear combination of the input and the features associated with the training examples\n",
        "  \"\"\"\n",
        "  return (1/(1+jnp.exp(-z)))"
      ]
    },
    {
      "cell_type": "code",
      "source": [
        "def loss(x,y,params):\n",
        "  # phi = sigmoid(x1 @ params)\n",
        "  # logical = (y1 == (1-(phi)))\n",
        "  return - jnp.mean(jnp.log( y*(sigmoid(x @ params)) + (1-y)*(1-sigmoid(x @ params))))"
      ],
      "metadata": {
        "id": "KA2EHN5eAfjy"
      },
      "execution_count": 158,
      "outputs": []
    },
    {
      "cell_type": "code",
      "source": [
        "from jax._src.numpy.lax_numpy import gradient\n",
        "# hyperparameters\n",
        "num_epochs = 500\n",
        "learning_rate_min = 5e-2\n",
        "learning_rate_max = 1e-1\n",
        "learning_rate_decay = 2000\n",
        "batch_size = 500\n",
        "num_train = x1.shape[0]\n",
        "# setup\n",
        "params = initialize_params(x1.shape[1])\n",
        "\n",
        "grad_jit = jax.jit(jax.grad(loss, argnums=2))\n",
        "loss_jit = jax.jit(loss)\n",
        "\n",
        "train_history = [loss_jit(x1, y1, params)]\n",
        "\n",
        "# training loop\n",
        "t0 = time.time()\n",
        "for epoch in tqdm(range(num_epochs)):\n",
        "  learning_rate = max(learning_rate_min, learning_rate_max * (1 - epoch/learning_rate_decay))\n",
        "  minibatch = np.random.choice(num_train, batch_size)\n",
        "  gradients = grad_jit(x1[minibatch,:], y1[minibatch], params) \n",
        "  for i in range(len(params)):\n",
        "    params[i] -= learning_rate * gradients[i]\n",
        " \n",
        "  train_history.append(loss_jit(x1, y1, params))\n",
        "\n",
        "print('train loss: %1.3e' % train_history[-1])\n",
        "plt.loglog(train_history, label = 'train loss')"
      ],
      "metadata": {
        "colab": {
          "base_uri": "https://localhost:8080/",
          "height": 345,
          "referenced_widgets": [
            "1163f68d93c345648fda04b8dd1c848a",
            "4eea39e8948e4d8cb1bb2d6c17c0aa60",
            "e32329b1d5e544e192c5621472e63435",
            "3543efe45b9e4256b2821991aa961f11",
            "a757b94d6e2d4a4091ec197df9ef4a6b",
            "a6f9610f2f0f4fc9a3f16f523963c0d5",
            "6c6b6ce6d35445289721cb79e3b255c9",
            "47788cae5ce243d191fd820a39aa229b",
            "b9d9f519073d47f582cf1fbbcb4629f3",
            "6b3fb020e2f84baba316a18bc6884a1c",
            "2e6f02719ffe4d99a3649d36a15af5ca"
          ]
        },
        "id": "OPoedGtmDpDy",
        "outputId": "9a735021-e4ff-41c5-a182-8ee49bea3f0c"
      },
      "execution_count": 159,
      "outputs": [
        {
          "output_type": "display_data",
          "data": {
            "application/vnd.jupyter.widget-view+json": {
              "model_id": "1163f68d93c345648fda04b8dd1c848a",
              "version_minor": 0,
              "version_major": 2
            },
            "text/plain": [
              "  0%|          | 0/500 [00:00<?, ?it/s]"
            ]
          },
          "metadata": {}
        },
        {
          "output_type": "stream",
          "name": "stdout",
          "text": [
            "train loss: 3.313e-01\n"
          ]
        },
        {
          "output_type": "execute_result",
          "data": {
            "text/plain": [
              "[<matplotlib.lines.Line2D at 0x7f697b148190>]"
            ]
          },
          "metadata": {},
          "execution_count": 159
        },
        {
          "output_type": "display_data",
          "data": {
            "image/png": "[encoded data removed]",
            "text/plain": [
              "<Figure size 432x288 with 1 Axes>"
            ]
          },
          "metadata": {
            "needs_background": "light"
          }
        }
      ]
    },
    {
      "cell_type": "code",
      "source": [
        "def predicted(x,params):\n",
        "  phi = sigmoid(x @ params)\n",
        "  pred = list()\n",
        "  for i in range(phi.shape[0]):\n",
        "    pred.append(1 if phi[i] >= 0.5 else 0)\n",
        "                \n",
        "  return pred "
      ],
      "metadata": {
        "id": "E8s9sQA2SKxT"
      },
      "execution_count": 160,
      "outputs": []
    },
    {
      "cell_type": "code",
      "source": [
        "pred = predicted(xValid,params)"
      ],
      "metadata": {
        "id": "f03_FIo3Sxvt"
      },
      "execution_count": 161,
      "outputs": []
    },
    {
      "cell_type": "code",
      "source": [
        "TP = 0\n",
        "TN = 0\n",
        "FP = 0\n",
        "FN = 0\n",
        "for i in range(len(xValid)):\n",
        "  if(yValid[i] == 1) and (pred[i]==1):\n",
        "    TP += 1\n",
        "  if(yValid[i] == 0) and (pred[i]==0):\n",
        "    TN += 1\n",
        "  if(yValid[i] == 0) and (pred[i]==1):\n",
        "    FP += 1\n",
        "  if(yValid[i] == 1) and (pred[i]==0):\n",
        "    FN += 1"
      ],
      "metadata": {
        "id": "qnvGpLl9UM_K"
      },
      "execution_count": 162,
      "outputs": []
    },
    {
      "cell_type": "code",
      "source": [
        "print(\"TP %d \" % TP)\n",
        "print(\"TN %d \" % TN)\n",
        "print(\"FP %d \" % FP)\n",
        "print(\"FN %d \" % FN)"
      ],
      "metadata": {
        "colab": {
          "base_uri": "https://localhost:8080/"
        },
        "id": "5HmCBz_UVb0j",
        "outputId": "18711af1-f454-4bc9-a3ac-47ebe893257e"
      },
      "execution_count": 163,
      "outputs": [
        {
          "output_type": "stream",
          "name": "stdout",
          "text": [
            "TP 130 \n",
            "TN 34643 \n",
            "FP 27042 \n",
            "FN 3 \n"
          ]
        }
      ]
    },
    {
      "cell_type": "code",
      "source": [
        "def accuracy(TP,TN,FP,FN):\n",
        "  return (TP + TN) / (TP + FP + TN + FN)"
      ],
      "metadata": {
        "id": "1i3Pwoj2mlxD"
      },
      "execution_count": 54,
      "outputs": []
    },
    {
      "cell_type": "code",
      "source": [
        "def sensitivity(TP,FN):\n",
        "  return TP/(TP+FN)"
      ],
      "metadata": {
        "id": "w-eIQkNcmyyO"
      },
      "execution_count": 55,
      "outputs": []
    },
    {
      "cell_type": "code",
      "source": [
        "def specificity(TN,FP):\n",
        "  return TN/(FP+TN)"
      ],
      "metadata": {
        "id": "7YVnPoKGm6Pl"
      },
      "execution_count": 56,
      "outputs": []
    },
    {
      "cell_type": "code",
      "source": [
        "def precision(TP,FP):\n",
        "  return TP/(TP+FP)"
      ],
      "metadata": {
        "id": "CSoLnwIMnCyc"
      },
      "execution_count": 57,
      "outputs": []
    },
    {
      "cell_type": "code",
      "source": [
        "def F_measure(precision,sensitivity):\n",
        "  return (2 * ((precision * sensitivity)/(precision + sensitivity)))"
      ],
      "metadata": {
        "id": "4H4IkSEFnK6Y"
      },
      "execution_count": 58,
      "outputs": []
    },
    {
      "cell_type": "code",
      "source": [
        "def AUC(sensitivity, specificity):\n",
        "  return (0.5 * (sensitivity + specificity))"
      ],
      "metadata": {
        "id": "SQPBBEmInsyr"
      },
      "execution_count": 59,
      "outputs": []
    },
    {
      "cell_type": "code",
      "source": [
        "acc = accuracy(TP,TN,FP,FN)\n",
        "sens = sensitivity(TP,FN)\n",
        "spec = specificity(TN,FP)\n",
        "prec = precision(TP,FP)\n",
        "f = F_measure(prec,sens)\n",
        "auc = AUC(sens, spec)\n",
        "\n",
        "  \n",
        "print('Accurancy   ' + '{:.1%}'.format(acc))\n",
        "print('Sensitivity ' + '{:.1%}'.format(sens))\n",
        "print('Specificity ' + '{:.1%}'.format(spec))\n",
        "print('Precision   ' + '{:.1%}'.format(prec))\n",
        "print('F_measure   ' + '{:.1%}'.format(f))\n",
        "print('AUC         ' + '{:.1%}'.format(auc) + '\\n')"
      ],
      "metadata": {
        "colab": {
          "base_uri": "https://localhost:8080/"
        },
        "id": "CdBIB6ilU6tE",
        "outputId": "2dcf15e4-4e42-477c-dd5e-18254e6b0b44"
      },
      "execution_count": 164,
      "outputs": [
        {
          "output_type": "stream",
          "name": "stdout",
          "text": [
            "Accurancy   56.3%\n",
            "Sensitivity 97.7%\n",
            "Specificity 56.2%\n",
            "Precision   0.5%\n",
            "F_measure   1.0%\n",
            "AUC         77.0%\n",
            "\n"
          ]
        }
      ]
    }
  ]
}