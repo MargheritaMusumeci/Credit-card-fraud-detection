{
  "nbformat": 4,
  "nbformat_minor": 0,
  "metadata": {
    "colab": {
      "name": "ANN.ipynb",
      "provenance": []
    },
    "kernelspec": {
      "name": "python3",
      "display_name": "Python 3"
    },
    "language_info": {
      "name": "python"
    },
    "widgets": {
      "application/vnd.jupyter.widget-state+json": {
        "cb60519100e9441389da4eece73ca952": {
          "model_module": "@jupyter-widgets/controls",
          "model_name": "HBoxModel",
          "model_module_version": "1.5.0",
          "state": {
            "_view_name": "HBoxView",
            "_dom_classes": [],
            "_model_name": "HBoxModel",
            "_view_module": "@jupyter-widgets/controls",
            "_model_module_version": "1.5.0",
            "_view_count": null,
            "_view_module_version": "1.5.0",
            "box_style": "",
            "layout": "IPY_MODEL_6abab612a77242ffbfc5b8bdae0ea735",
            "_model_module": "@jupyter-widgets/controls",
            "children": [
              "IPY_MODEL_76ecdf225e7e42a080f2dbd839697883",
              "IPY_MODEL_98dbfd62ef5f46219ab66fdfaa4da33e",
              "IPY_MODEL_992d05cb8d544d4999d8a1732d988280"
            ]
          }
        },
        "6abab612a77242ffbfc5b8bdae0ea735": {
          "model_module": "@jupyter-widgets/base",
          "model_name": "LayoutModel",
          "model_module_version": "1.2.0",
          "state": {
            "_view_name": "LayoutView",
            "grid_template_rows": null,
            "right": null,
            "justify_content": null,
            "_view_module": "@jupyter-widgets/base",
            "overflow": null,
            "_model_module_version": "1.2.0",
            "_view_count": null,
            "flex_flow": null,
            "width": null,
            "min_width": null,
            "border": null,
            "align_items": null,
            "bottom": null,
            "_model_module": "@jupyter-widgets/base",
            "top": null,
            "grid_column": null,
            "overflow_y": null,
            "overflow_x": null,
            "grid_auto_flow": null,
            "grid_area": null,
            "grid_template_columns": null,
            "flex": null,
            "_model_name": "LayoutModel",
            "justify_items": null,
            "grid_row": null,
            "max_height": null,
            "align_content": null,
            "visibility": null,
            "align_self": null,
            "height": null,
            "min_height": null,
            "padding": null,
            "grid_auto_rows": null,
            "grid_gap": null,
            "max_width": null,
            "order": null,
            "_view_module_version": "1.2.0",
            "grid_template_areas": null,
            "object_position": null,
            "object_fit": null,
            "grid_auto_columns": null,
            "margin": null,
            "display": null,
            "left": null
          }
        },
        "76ecdf225e7e42a080f2dbd839697883": {
          "model_module": "@jupyter-widgets/controls",
          "model_name": "HTMLModel",
          "model_module_version": "1.5.0",
          "state": {
            "_view_name": "HTMLView",
            "style": "IPY_MODEL_48a58bb77b9646e6b8b77c12d551814b",
            "_dom_classes": [],
            "description": "",
            "_model_name": "HTMLModel",
            "placeholder": "​",
            "_view_module": "@jupyter-widgets/controls",
            "_model_module_version": "1.5.0",
            "value": "100%",
            "_view_count": null,
            "_view_module_version": "1.5.0",
            "description_tooltip": null,
            "_model_module": "@jupyter-widgets/controls",
            "layout": "IPY_MODEL_cbb59e34359645dcab96b710de3d0677"
          }
        },
        "98dbfd62ef5f46219ab66fdfaa4da33e": {
          "model_module": "@jupyter-widgets/controls",
          "model_name": "FloatProgressModel",
          "model_module_version": "1.5.0",
          "state": {
            "_view_name": "ProgressView",
            "style": "IPY_MODEL_610f26f6b8c54ea6934f1078e55afc9f",
            "_dom_classes": [],
            "description": "",
            "_model_name": "FloatProgressModel",
            "bar_style": "success",
            "max": 500,
            "_view_module": "@jupyter-widgets/controls",
            "_model_module_version": "1.5.0",
            "value": 500,
            "_view_count": null,
            "_view_module_version": "1.5.0",
            "orientation": "horizontal",
            "min": 0,
            "description_tooltip": null,
            "_model_module": "@jupyter-widgets/controls",
            "layout": "IPY_MODEL_7d225a92977d4e959f38cb1477b3e3bb"
          }
        },
        "992d05cb8d544d4999d8a1732d988280": {
          "model_module": "@jupyter-widgets/controls",
          "model_name": "HTMLModel",
          "model_module_version": "1.5.0",
          "state": {
            "_view_name": "HTMLView",
            "style": "IPY_MODEL_528342529fd2401fa4336363bb95248c",
            "_dom_classes": [],
            "description": "",
            "_model_name": "HTMLModel",
            "placeholder": "​",
            "_view_module": "@jupyter-widgets/controls",
            "_model_module_version": "1.5.0",
            "value": " 500/500 [00:10&lt;00:00, 245.82it/s]",
            "_view_count": null,
            "_view_module_version": "1.5.0",
            "description_tooltip": null,
            "_model_module": "@jupyter-widgets/controls",
            "layout": "IPY_MODEL_f783d3d6205f48c3ad7da638358c7167"
          }
        },
        "48a58bb77b9646e6b8b77c12d551814b": {
          "model_module": "@jupyter-widgets/controls",
          "model_name": "DescriptionStyleModel",
          "model_module_version": "1.5.0",
          "state": {
            "_view_name": "StyleView",
            "_model_name": "DescriptionStyleModel",
            "description_width": "",
            "_view_module": "@jupyter-widgets/base",
            "_model_module_version": "1.5.0",
            "_view_count": null,
            "_view_module_version": "1.2.0",
            "_model_module": "@jupyter-widgets/controls"
          }
        },
        "cbb59e34359645dcab96b710de3d0677": {
          "model_module": "@jupyter-widgets/base",
          "model_name": "LayoutModel",
          "model_module_version": "1.2.0",
          "state": {
            "_view_name": "LayoutView",
            "grid_template_rows": null,
            "right": null,
            "justify_content": null,
            "_view_module": "@jupyter-widgets/base",
            "overflow": null,
            "_model_module_version": "1.2.0",
            "_view_count": null,
            "flex_flow": null,
            "width": null,
            "min_width": null,
            "border": null,
            "align_items": null,
            "bottom": null,
            "_model_module": "@jupyter-widgets/base",
            "top": null,
            "grid_column": null,
            "overflow_y": null,
            "overflow_x": null,
            "grid_auto_flow": null,
            "grid_area": null,
            "grid_template_columns": null,
            "flex": null,
            "_model_name": "LayoutModel",
            "justify_items": null,
            "grid_row": null,
            "max_height": null,
            "align_content": null,
            "visibility": null,
            "align_self": null,
            "height": null,
            "min_height": null,
            "padding": null,
            "grid_auto_rows": null,
            "grid_gap": null,
            "max_width": null,
            "order": null,
            "_view_module_version": "1.2.0",
            "grid_template_areas": null,
            "object_position": null,
            "object_fit": null,
            "grid_auto_columns": null,
            "margin": null,
            "display": null,
            "left": null
          }
        },
        "610f26f6b8c54ea6934f1078e55afc9f": {
          "model_module": "@jupyter-widgets/controls",
          "model_name": "ProgressStyleModel",
          "model_module_version": "1.5.0",
          "state": {
            "_view_name": "StyleView",
            "_model_name": "ProgressStyleModel",
            "description_width": "",
            "_view_module": "@jupyter-widgets/base",
            "_model_module_version": "1.5.0",
            "_view_count": null,
            "_view_module_version": "1.2.0",
            "bar_color": null,
            "_model_module": "@jupyter-widgets/controls"
          }
        },
        "7d225a92977d4e959f38cb1477b3e3bb": {
          "model_module": "@jupyter-widgets/base",
          "model_name": "LayoutModel",
          "model_module_version": "1.2.0",
          "state": {
            "_view_name": "LayoutView",
            "grid_template_rows": null,
            "right": null,
            "justify_content": null,
            "_view_module": "@jupyter-widgets/base",
            "overflow": null,
            "_model_module_version": "1.2.0",
            "_view_count": null,
            "flex_flow": null,
            "width": null,
            "min_width": null,
            "border": null,
            "align_items": null,
            "bottom": null,
            "_model_module": "@jupyter-widgets/base",
            "top": null,
            "grid_column": null,
            "overflow_y": null,
            "overflow_x": null,
            "grid_auto_flow": null,
            "grid_area": null,
            "grid_template_columns": null,
            "flex": null,
            "_model_name": "LayoutModel",
            "justify_items": null,
            "grid_row": null,
            "max_height": null,
            "align_content": null,
            "visibility": null,
            "align_self": null,
            "height": null,
            "min_height": null,
            "padding": null,
            "grid_auto_rows": null,
            "grid_gap": null,
            "max_width": null,
            "order": null,
            "_view_module_version": "1.2.0",
            "grid_template_areas": null,
            "object_position": null,
            "object_fit": null,
            "grid_auto_columns": null,
            "margin": null,
            "display": null,
            "left": null
          }
        },
        "528342529fd2401fa4336363bb95248c": {
          "model_module": "@jupyter-widgets/controls",
          "model_name": "DescriptionStyleModel",
          "model_module_version": "1.5.0",
          "state": {
            "_view_name": "StyleView",
            "_model_name": "DescriptionStyleModel",
            "description_width": "",
            "_view_module": "@jupyter-widgets/base",
            "_model_module_version": "1.5.0",
            "_view_count": null,
            "_view_module_version": "1.2.0",
            "_model_module": "@jupyter-widgets/controls"
          }
        },
        "f783d3d6205f48c3ad7da638358c7167": {
          "model_module": "@jupyter-widgets/base",
          "model_name": "LayoutModel",
          "model_module_version": "1.2.0",
          "state": {
            "_view_name": "LayoutView",
            "grid_template_rows": null,
            "right": null,
            "justify_content": null,
            "_view_module": "@jupyter-widgets/base",
            "overflow": null,
            "_model_module_version": "1.2.0",
            "_view_count": null,
            "flex_flow": null,
            "width": null,
            "min_width": null,
            "border": null,
            "align_items": null,
            "bottom": null,
            "_model_module": "@jupyter-widgets/base",
            "top": null,
            "grid_column": null,
            "overflow_y": null,
            "overflow_x": null,
            "grid_auto_flow": null,
            "grid_area": null,
            "grid_template_columns": null,
            "flex": null,
            "_model_name": "LayoutModel",
            "justify_items": null,
            "grid_row": null,
            "max_height": null,
            "align_content": null,
            "visibility": null,
            "align_self": null,
            "height": null,
            "min_height": null,
            "padding": null,
            "grid_auto_rows": null,
            "grid_gap": null,
            "max_width": null,
            "order": null,
            "_view_module_version": "1.2.0",
            "grid_template_areas": null,
            "object_position": null,
            "object_fit": null,
            "grid_auto_columns": null,
            "margin": null,
            "display": null,
            "left": null
          }
        },
        "af867318c9a64c2eae2abd8078fe9d02": {
          "model_module": "@jupyter-widgets/controls",
          "model_name": "HBoxModel",
          "model_module_version": "1.5.0",
          "state": {
            "_view_name": "HBoxView",
            "_dom_classes": [],
            "_model_name": "HBoxModel",
            "_view_module": "@jupyter-widgets/controls",
            "_model_module_version": "1.5.0",
            "_view_count": null,
            "_view_module_version": "1.5.0",
            "box_style": "",
            "layout": "IPY_MODEL_7ad99901675c4e4a96150e75ef82add1",
            "_model_module": "@jupyter-widgets/controls",
            "children": [
              "IPY_MODEL_363eaad0fbe84e46a70cbc913156c02e",
              "IPY_MODEL_faab81e4543f45cea3dfcdeb6e2e24f1",
              "IPY_MODEL_f7ab6b2840bd4945b47beae547013cdb"
            ]
          }
        },
        "7ad99901675c4e4a96150e75ef82add1": {
          "model_module": "@jupyter-widgets/base",
          "model_name": "LayoutModel",
          "model_module_version": "1.2.0",
          "state": {
            "_view_name": "LayoutView",
            "grid_template_rows": null,
            "right": null,
            "justify_content": null,
            "_view_module": "@jupyter-widgets/base",
            "overflow": null,
            "_model_module_version": "1.2.0",
            "_view_count": null,
            "flex_flow": null,
            "width": null,
            "min_width": null,
            "border": null,
            "align_items": null,
            "bottom": null,
            "_model_module": "@jupyter-widgets/base",
            "top": null,
            "grid_column": null,
            "overflow_y": null,
            "overflow_x": null,
            "grid_auto_flow": null,
            "grid_area": null,
            "grid_template_columns": null,
            "flex": null,
            "_model_name": "LayoutModel",
            "justify_items": null,
            "grid_row": null,
            "max_height": null,
            "align_content": null,
            "visibility": null,
            "align_self": null,
            "height": null,
            "min_height": null,
            "padding": null,
            "grid_auto_rows": null,
            "grid_gap": null,
            "max_width": null,
            "order": null,
            "_view_module_version": "1.2.0",
            "grid_template_areas": null,
            "object_position": null,
            "object_fit": null,
            "grid_auto_columns": null,
            "margin": null,
            "display": null,
            "left": null
          }
        },
        "363eaad0fbe84e46a70cbc913156c02e": {
          "model_module": "@jupyter-widgets/controls",
          "model_name": "HTMLModel",
          "model_module_version": "1.5.0",
          "state": {
            "_view_name": "HTMLView",
            "style": "IPY_MODEL_7c1b5ff178074587af8d3bda29dea513",
            "_dom_classes": [],
            "description": "",
            "_model_name": "HTMLModel",
            "placeholder": "​",
            "_view_module": "@jupyter-widgets/controls",
            "_model_module_version": "1.5.0",
            "value": "100%",
            "_view_count": null,
            "_view_module_version": "1.5.0",
            "description_tooltip": null,
            "_model_module": "@jupyter-widgets/controls",
            "layout": "IPY_MODEL_fabccb9395374083b1375067fd539632"
          }
        },
        "faab81e4543f45cea3dfcdeb6e2e24f1": {
          "model_module": "@jupyter-widgets/controls",
          "model_name": "FloatProgressModel",
          "model_module_version": "1.5.0",
          "state": {
            "_view_name": "ProgressView",
            "style": "IPY_MODEL_7bad86d5be114418bd7b91fdf3dbc40e",
            "_dom_classes": [],
            "description": "",
            "_model_name": "FloatProgressModel",
            "bar_style": "success",
            "max": 500,
            "_view_module": "@jupyter-widgets/controls",
            "_model_module_version": "1.5.0",
            "value": 500,
            "_view_count": null,
            "_view_module_version": "1.5.0",
            "orientation": "horizontal",
            "min": 0,
            "description_tooltip": null,
            "_model_module": "@jupyter-widgets/controls",
            "layout": "IPY_MODEL_eff9a00ba18c46c59fa8a46de0371380"
          }
        },
        "f7ab6b2840bd4945b47beae547013cdb": {
          "model_module": "@jupyter-widgets/controls",
          "model_name": "HTMLModel",
          "model_module_version": "1.5.0",
          "state": {
            "_view_name": "HTMLView",
            "style": "IPY_MODEL_b3ed89dd7dbb43b6a5b90a112a07d7f2",
            "_dom_classes": [],
            "description": "",
            "_model_name": "HTMLModel",
            "placeholder": "​",
            "_view_module": "@jupyter-widgets/controls",
            "_model_module_version": "1.5.0",
            "value": " 500/500 [00:10&lt;00:00, 271.19it/s]",
            "_view_count": null,
            "_view_module_version": "1.5.0",
            "description_tooltip": null,
            "_model_module": "@jupyter-widgets/controls",
            "layout": "IPY_MODEL_56749279b79e4ea181c1fd02ae77bfbc"
          }
        },
        "7c1b5ff178074587af8d3bda29dea513": {
          "model_module": "@jupyter-widgets/controls",
          "model_name": "DescriptionStyleModel",
          "model_module_version": "1.5.0",
          "state": {
            "_view_name": "StyleView",
            "_model_name": "DescriptionStyleModel",
            "description_width": "",
            "_view_module": "@jupyter-widgets/base",
            "_model_module_version": "1.5.0",
            "_view_count": null,
            "_view_module_version": "1.2.0",
            "_model_module": "@jupyter-widgets/controls"
          }
        },
        "fabccb9395374083b1375067fd539632": {
          "model_module": "@jupyter-widgets/base",
          "model_name": "LayoutModel",
          "model_module_version": "1.2.0",
          "state": {
            "_view_name": "LayoutView",
            "grid_template_rows": null,
            "right": null,
            "justify_content": null,
            "_view_module": "@jupyter-widgets/base",
            "overflow": null,
            "_model_module_version": "1.2.0",
            "_view_count": null,
            "flex_flow": null,
            "width": null,
            "min_width": null,
            "border": null,
            "align_items": null,
            "bottom": null,
            "_model_module": "@jupyter-widgets/base",
            "top": null,
            "grid_column": null,
            "overflow_y": null,
            "overflow_x": null,
            "grid_auto_flow": null,
            "grid_area": null,
            "grid_template_columns": null,
            "flex": null,
            "_model_name": "LayoutModel",
            "justify_items": null,
            "grid_row": null,
            "max_height": null,
            "align_content": null,
            "visibility": null,
            "align_self": null,
            "height": null,
            "min_height": null,
            "padding": null,
            "grid_auto_rows": null,
            "grid_gap": null,
            "max_width": null,
            "order": null,
            "_view_module_version": "1.2.0",
            "grid_template_areas": null,
            "object_position": null,
            "object_fit": null,
            "grid_auto_columns": null,
            "margin": null,
            "display": null,
            "left": null
          }
        },
        "7bad86d5be114418bd7b91fdf3dbc40e": {
          "model_module": "@jupyter-widgets/controls",
          "model_name": "ProgressStyleModel",
          "model_module_version": "1.5.0",
          "state": {
            "_view_name": "StyleView",
            "_model_name": "ProgressStyleModel",
            "description_width": "",
            "_view_module": "@jupyter-widgets/base",
            "_model_module_version": "1.5.0",
            "_view_count": null,
            "_view_module_version": "1.2.0",
            "bar_color": null,
            "_model_module": "@jupyter-widgets/controls"
          }
        },
        "eff9a00ba18c46c59fa8a46de0371380": {
          "model_module": "@jupyter-widgets/base",
          "model_name": "LayoutModel",
          "model_module_version": "1.2.0",
          "state": {
            "_view_name": "LayoutView",
            "grid_template_rows": null,
            "right": null,
            "justify_content": null,
            "_view_module": "@jupyter-widgets/base",
            "overflow": null,
            "_model_module_version": "1.2.0",
            "_view_count": null,
            "flex_flow": null,
            "width": null,
            "min_width": null,
            "border": null,
            "align_items": null,
            "bottom": null,
            "_model_module": "@jupyter-widgets/base",
            "top": null,
            "grid_column": null,
            "overflow_y": null,
            "overflow_x": null,
            "grid_auto_flow": null,
            "grid_area": null,
            "grid_template_columns": null,
            "flex": null,
            "_model_name": "LayoutModel",
            "justify_items": null,
            "grid_row": null,
            "max_height": null,
            "align_content": null,
            "visibility": null,
            "align_self": null,
            "height": null,
            "min_height": null,
            "padding": null,
            "grid_auto_rows": null,
            "grid_gap": null,
            "max_width": null,
            "order": null,
            "_view_module_version": "1.2.0",
            "grid_template_areas": null,
            "object_position": null,
            "object_fit": null,
            "grid_auto_columns": null,
            "margin": null,
            "display": null,
            "left": null
          }
        },
        "b3ed89dd7dbb43b6a5b90a112a07d7f2": {
          "model_module": "@jupyter-widgets/controls",
          "model_name": "DescriptionStyleModel",
          "model_module_version": "1.5.0",
          "state": {
            "_view_name": "StyleView",
            "_model_name": "DescriptionStyleModel",
            "description_width": "",
            "_view_module": "@jupyter-widgets/base",
            "_model_module_version": "1.5.0",
            "_view_count": null,
            "_view_module_version": "1.2.0",
            "_model_module": "@jupyter-widgets/controls"
          }
        },
        "56749279b79e4ea181c1fd02ae77bfbc": {
          "model_module": "@jupyter-widgets/base",
          "model_name": "LayoutModel",
          "model_module_version": "1.2.0",
          "state": {
            "_view_name": "LayoutView",
            "grid_template_rows": null,
            "right": null,
            "justify_content": null,
            "_view_module": "@jupyter-widgets/base",
            "overflow": null,
            "_model_module_version": "1.2.0",
            "_view_count": null,
            "flex_flow": null,
            "width": null,
            "min_width": null,
            "border": null,
            "align_items": null,
            "bottom": null,
            "_model_module": "@jupyter-widgets/base",
            "top": null,
            "grid_column": null,
            "overflow_y": null,
            "overflow_x": null,
            "grid_auto_flow": null,
            "grid_area": null,
            "grid_template_columns": null,
            "flex": null,
            "_model_name": "LayoutModel",
            "justify_items": null,
            "grid_row": null,
            "max_height": null,
            "align_content": null,
            "visibility": null,
            "align_self": null,
            "height": null,
            "min_height": null,
            "padding": null,
            "grid_auto_rows": null,
            "grid_gap": null,
            "max_width": null,
            "order": null,
            "_view_module_version": "1.2.0",
            "grid_template_areas": null,
            "object_position": null,
            "object_fit": null,
            "grid_auto_columns": null,
            "margin": null,
            "display": null,
            "left": null
          }
        },
        "7facfe1cb8bd49e1aa333487143a2b7e": {
          "model_module": "@jupyter-widgets/controls",
          "model_name": "HBoxModel",
          "model_module_version": "1.5.0",
          "state": {
            "_view_name": "HBoxView",
            "_dom_classes": [],
            "_model_name": "HBoxModel",
            "_view_module": "@jupyter-widgets/controls",
            "_model_module_version": "1.5.0",
            "_view_count": null,
            "_view_module_version": "1.5.0",
            "box_style": "",
            "layout": "IPY_MODEL_c4d75b37c8064a80b0e3cacbeef7deb6",
            "_model_module": "@jupyter-widgets/controls",
            "children": [
              "IPY_MODEL_82ce745ae9cf4d589c7f1beb6835ba99",
              "IPY_MODEL_ee29ca61e2174ff7a1ccece84fc74301",
              "IPY_MODEL_1d41815a58154a73bfbab32d1bae5f60"
            ]
          }
        },
        "c4d75b37c8064a80b0e3cacbeef7deb6": {
          "model_module": "@jupyter-widgets/base",
          "model_name": "LayoutModel",
          "model_module_version": "1.2.0",
          "state": {
            "_view_name": "LayoutView",
            "grid_template_rows": null,
            "right": null,
            "justify_content": null,
            "_view_module": "@jupyter-widgets/base",
            "overflow": null,
            "_model_module_version": "1.2.0",
            "_view_count": null,
            "flex_flow": null,
            "width": null,
            "min_width": null,
            "border": null,
            "align_items": null,
            "bottom": null,
            "_model_module": "@jupyter-widgets/base",
            "top": null,
            "grid_column": null,
            "overflow_y": null,
            "overflow_x": null,
            "grid_auto_flow": null,
            "grid_area": null,
            "grid_template_columns": null,
            "flex": null,
            "_model_name": "LayoutModel",
            "justify_items": null,
            "grid_row": null,
            "max_height": null,
            "align_content": null,
            "visibility": null,
            "align_self": null,
            "height": null,
            "min_height": null,
            "padding": null,
            "grid_auto_rows": null,
            "grid_gap": null,
            "max_width": null,
            "order": null,
            "_view_module_version": "1.2.0",
            "grid_template_areas": null,
            "object_position": null,
            "object_fit": null,
            "grid_auto_columns": null,
            "margin": null,
            "display": null,
            "left": null
          }
        },
        "82ce745ae9cf4d589c7f1beb6835ba99": {
          "model_module": "@jupyter-widgets/controls",
          "model_name": "HTMLModel",
          "model_module_version": "1.5.0",
          "state": {
            "_view_name": "HTMLView",
            "style": "IPY_MODEL_af8786f0fd8b4b5bb893c6edea7af7cf",
            "_dom_classes": [],
            "description": "",
            "_model_name": "HTMLModel",
            "placeholder": "​",
            "_view_module": "@jupyter-widgets/controls",
            "_model_module_version": "1.5.0",
            "value": "100%",
            "_view_count": null,
            "_view_module_version": "1.5.0",
            "description_tooltip": null,
            "_model_module": "@jupyter-widgets/controls",
            "layout": "IPY_MODEL_821e5f0a50e84b89865e8fde876a5c38"
          }
        },
        "ee29ca61e2174ff7a1ccece84fc74301": {
          "model_module": "@jupyter-widgets/controls",
          "model_name": "FloatProgressModel",
          "model_module_version": "1.5.0",
          "state": {
            "_view_name": "ProgressView",
            "style": "IPY_MODEL_9f022bcd4409479ba99971b1105974e8",
            "_dom_classes": [],
            "description": "",
            "_model_name": "FloatProgressModel",
            "bar_style": "success",
            "max": 500,
            "_view_module": "@jupyter-widgets/controls",
            "_model_module_version": "1.5.0",
            "value": 500,
            "_view_count": null,
            "_view_module_version": "1.5.0",
            "orientation": "horizontal",
            "min": 0,
            "description_tooltip": null,
            "_model_module": "@jupyter-widgets/controls",
            "layout": "IPY_MODEL_734ee008c0634563872ba5a617e44662"
          }
        },
        "1d41815a58154a73bfbab32d1bae5f60": {
          "model_module": "@jupyter-widgets/controls",
          "model_name": "HTMLModel",
          "model_module_version": "1.5.0",
          "state": {
            "_view_name": "HTMLView",
            "style": "IPY_MODEL_32c8d2b57b5a49d995bb85b934f474ab",
            "_dom_classes": [],
            "description": "",
            "_model_name": "HTMLModel",
            "placeholder": "​",
            "_view_module": "@jupyter-widgets/controls",
            "_model_module_version": "1.5.0",
            "value": " 500/500 [00:12&lt;00:00, 209.70it/s]",
            "_view_count": null,
            "_view_module_version": "1.5.0",
            "description_tooltip": null,
            "_model_module": "@jupyter-widgets/controls",
            "layout": "IPY_MODEL_b4008290c58e48da9478fcb4e45ee18f"
          }
        },
        "af8786f0fd8b4b5bb893c6edea7af7cf": {
          "model_module": "@jupyter-widgets/controls",
          "model_name": "DescriptionStyleModel",
          "model_module_version": "1.5.0",
          "state": {
            "_view_name": "StyleView",
            "_model_name": "DescriptionStyleModel",
            "description_width": "",
            "_view_module": "@jupyter-widgets/base",
            "_model_module_version": "1.5.0",
            "_view_count": null,
            "_view_module_version": "1.2.0",
            "_model_module": "@jupyter-widgets/controls"
          }
        },
        "821e5f0a50e84b89865e8fde876a5c38": {
          "model_module": "@jupyter-widgets/base",
          "model_name": "LayoutModel",
          "model_module_version": "1.2.0",
          "state": {
            "_view_name": "LayoutView",
            "grid_template_rows": null,
            "right": null,
            "justify_content": null,
            "_view_module": "@jupyter-widgets/base",
            "overflow": null,
            "_model_module_version": "1.2.0",
            "_view_count": null,
            "flex_flow": null,
            "width": null,
            "min_width": null,
            "border": null,
            "align_items": null,
            "bottom": null,
            "_model_module": "@jupyter-widgets/base",
            "top": null,
            "grid_column": null,
            "overflow_y": null,
            "overflow_x": null,
            "grid_auto_flow": null,
            "grid_area": null,
            "grid_template_columns": null,
            "flex": null,
            "_model_name": "LayoutModel",
            "justify_items": null,
            "grid_row": null,
            "max_height": null,
            "align_content": null,
            "visibility": null,
            "align_self": null,
            "height": null,
            "min_height": null,
            "padding": null,
            "grid_auto_rows": null,
            "grid_gap": null,
            "max_width": null,
            "order": null,
            "_view_module_version": "1.2.0",
            "grid_template_areas": null,
            "object_position": null,
            "object_fit": null,
            "grid_auto_columns": null,
            "margin": null,
            "display": null,
            "left": null
          }
        },
        "9f022bcd4409479ba99971b1105974e8": {
          "model_module": "@jupyter-widgets/controls",
          "model_name": "ProgressStyleModel",
          "model_module_version": "1.5.0",
          "state": {
            "_view_name": "StyleView",
            "_model_name": "ProgressStyleModel",
            "description_width": "",
            "_view_module": "@jupyter-widgets/base",
            "_model_module_version": "1.5.0",
            "_view_count": null,
            "_view_module_version": "1.2.0",
            "bar_color": null,
            "_model_module": "@jupyter-widgets/controls"
          }
        },
        "734ee008c0634563872ba5a617e44662": {
          "model_module": "@jupyter-widgets/base",
          "model_name": "LayoutModel",
          "model_module_version": "1.2.0",
          "state": {
            "_view_name": "LayoutView",
            "grid_template_rows": null,
            "right": null,
            "justify_content": null,
            "_view_module": "@jupyter-widgets/base",
            "overflow": null,
            "_model_module_version": "1.2.0",
            "_view_count": null,
            "flex_flow": null,
            "width": null,
            "min_width": null,
            "border": null,
            "align_items": null,
            "bottom": null,
            "_model_module": "@jupyter-widgets/base",
            "top": null,
            "grid_column": null,
            "overflow_y": null,
            "overflow_x": null,
            "grid_auto_flow": null,
            "grid_area": null,
            "grid_template_columns": null,
            "flex": null,
            "_model_name": "LayoutModel",
            "justify_items": null,
            "grid_row": null,
            "max_height": null,
            "align_content": null,
            "visibility": null,
            "align_self": null,
            "height": null,
            "min_height": null,
            "padding": null,
            "grid_auto_rows": null,
            "grid_gap": null,
            "max_width": null,
            "order": null,
            "_view_module_version": "1.2.0",
            "grid_template_areas": null,
            "object_position": null,
            "object_fit": null,
            "grid_auto_columns": null,
            "margin": null,
            "display": null,
            "left": null
          }
        },
        "32c8d2b57b5a49d995bb85b934f474ab": {
          "model_module": "@jupyter-widgets/controls",
          "model_name": "DescriptionStyleModel",
          "model_module_version": "1.5.0",
          "state": {
            "_view_name": "StyleView",
            "_model_name": "DescriptionStyleModel",
            "description_width": "",
            "_view_module": "@jupyter-widgets/base",
            "_model_module_version": "1.5.0",
            "_view_count": null,
            "_view_module_version": "1.2.0",
            "_model_module": "@jupyter-widgets/controls"
          }
        },
        "b4008290c58e48da9478fcb4e45ee18f": {
          "model_module": "@jupyter-widgets/base",
          "model_name": "LayoutModel",
          "model_module_version": "1.2.0",
          "state": {
            "_view_name": "LayoutView",
            "grid_template_rows": null,
            "right": null,
            "justify_content": null,
            "_view_module": "@jupyter-widgets/base",
            "overflow": null,
            "_model_module_version": "1.2.0",
            "_view_count": null,
            "flex_flow": null,
            "width": null,
            "min_width": null,
            "border": null,
            "align_items": null,
            "bottom": null,
            "_model_module": "@jupyter-widgets/base",
            "top": null,
            "grid_column": null,
            "overflow_y": null,
            "overflow_x": null,
            "grid_auto_flow": null,
            "grid_area": null,
            "grid_template_columns": null,
            "flex": null,
            "_model_name": "LayoutModel",
            "justify_items": null,
            "grid_row": null,
            "max_height": null,
            "align_content": null,
            "visibility": null,
            "align_self": null,
            "height": null,
            "min_height": null,
            "padding": null,
            "grid_auto_rows": null,
            "grid_gap": null,
            "max_width": null,
            "order": null,
            "_view_module_version": "1.2.0",
            "grid_template_areas": null,
            "object_position": null,
            "object_fit": null,
            "grid_auto_columns": null,
            "margin": null,
            "display": null,
            "left": null
          }
        }
      }
    }
  },
  "cells": [
    {
      "cell_type": "markdown",
      "metadata": {
        "id": "4ky2ALT8aFZq"
      },
      "source": [
        "# Neural Network"
      ]
    },
    {
      "cell_type": "markdown",
      "metadata": {
        "id": "LWxlDFYZx31S"
      },
      "source": [
        "## Data import"
      ]
    },
    {
      "cell_type": "code",
      "execution_count": 36,
      "metadata": {
        "id": "sPaRJQs9pshL"
      },
      "outputs": [],
      "source": [
        "import numpy as np\n",
        "import matplotlib.pyplot as plt\n",
        "import pandas as pd\n",
        "import seaborn as sns\n",
        "import time\n",
        "import jax.numpy as jnp\n",
        "import jax\n",
        "\n",
        "from tqdm.notebook import tqdm\n",
        "from math import sqrt\n",
        "from random import seed\n",
        "from random import randrange\n",
        "from math import pi\n",
        "from math import exp"
      ]
    },
    {
      "cell_type": "code",
      "metadata": {
        "id": "Tb2dI5WU-2ji",
        "colab": {
          "base_uri": "https://localhost:8080/"
        },
        "outputId": "d5196333-851d-4d2d-a6e6-a100a1455966"
      },
      "source": [
        "# read data\n",
        "data = pd.read_csv('creditcard.csv')\n",
        "\n",
        "# convert data to numpy 2D array\n",
        "data = data.to_numpy()\n",
        "data.shape"
      ],
      "execution_count": 37,
      "outputs": [
        {
          "output_type": "execute_result",
          "data": {
            "text/plain": [
              "(284807, 31)"
            ]
          },
          "metadata": {},
          "execution_count": 37
        }
      ]
    },
    {
      "cell_type": "markdown",
      "source": [
        "## Data Division"
      ],
      "metadata": {
        "id": "xDNUKwGV8UNF"
      }
    },
    {
      "cell_type": "markdown",
      "source": [
        "Divide in training and test set "
      ],
      "metadata": {
        "id": "FxA_mM7K8cY5"
      }
    },
    {
      "cell_type": "code",
      "source": [
        "# shuffle data\n",
        "np.random.seed(0) # set seed to 0 for reproducibility\n",
        "np.random.shuffle(data) \n",
        "fraction_validation = 0.3\n",
        "\n",
        "# divide into training_set and test_set\n",
        "num_train = int(data.shape[0] * (1 - fraction_validation))\n",
        "\n",
        "train_set = data[:num_train,:]\n",
        "valid_set = data[num_train:,:]\n",
        "\n",
        "train_set.shape, valid_set.shape"
      ],
      "metadata": {
        "colab": {
          "base_uri": "https://localhost:8080/"
        },
        "id": "z21mRUrWvZ3_",
        "outputId": "ebab259f-cdbc-45ba-e139-64056bc1e871"
      },
      "execution_count": 38,
      "outputs": [
        {
          "output_type": "execute_result",
          "data": {
            "text/plain": [
              "((199364, 31), (85443, 31))"
            ]
          },
          "metadata": {},
          "execution_count": 38
        }
      ]
    },
    {
      "cell_type": "markdown",
      "source": [
        "Divide the training set in subsets with specific ratios"
      ],
      "metadata": {
        "id": "k46a-b9m0B50"
      }
    },
    {
      "cell_type": "code",
      "source": [
        "fraud = train_set[train_set[:,-1] == 1]\n",
        "non_fraud = train_set[train_set[:,-1] == 0]\n",
        "\n",
        "np.random.seed(0) # set seed to 0 for reproducibility\n",
        "np.random.shuffle(non_fraud) \n",
        "\n",
        "# ratio 50:50\n",
        "new_non_fraud = non_fraud[:fraud.shape[0],:]\n",
        "\n",
        "# concatenate the two matrix\n",
        "train_set1 = np.r_[new_non_fraud,fraud]\n",
        "\n",
        "np.random.seed(0) # set seed to 0 for reproducibility\n",
        "np.random.shuffle(non_fraud) \n",
        "\n",
        "# ratio 34:64\n",
        "new_non_fraud = non_fraud[:int(fraud.shape[0] * (66/34)),:]\n",
        "\n",
        "# concatenate the two matrix\n",
        "train_set2 = np.r_[new_non_fraud,fraud]\n",
        "\n",
        "np.random.seed(0) # set seed to 0 for reproducibility\n",
        "np.random.shuffle(non_fraud) \n",
        "\n",
        "# ratio 25:75\n",
        "new_non_fraud = non_fraud[:int(fraud.shape[0] * (75/25)),:]\n",
        "\n",
        "# concatenate the two matrix\n",
        "train_set3 = np.r_[new_non_fraud,fraud]\n",
        "\n",
        "train_set1.shape, train_set2.shape, train_set3.shape"
      ],
      "metadata": {
        "colab": {
          "base_uri": "https://localhost:8080/"
        },
        "id": "5dDWS4fSwB66",
        "outputId": "3107c5cf-6e50-4c83-f7a3-0d3fc586b2f3"
      },
      "execution_count": 39,
      "outputs": [
        {
          "output_type": "execute_result",
          "data": {
            "text/plain": [
              "((674, 31), (991, 31), (1348, 31))"
            ]
          },
          "metadata": {},
          "execution_count": 39
        }
      ]
    },
    {
      "cell_type": "markdown",
      "metadata": {
        "id": "TtWMNidPv9y_"
      },
      "source": [
        "Store the data in a matrix and the labels (0 - 1) in a vector"
      ]
    },
    {
      "cell_type": "code",
      "metadata": {
        "id": "yzGMpNrABkpe",
        "colab": {
          "base_uri": "https://localhost:8080/"
        },
        "outputId": "ee885937-7417-4fdd-d599-b5c245ac7a31"
      },
      "source": [
        "labels_train1 = train_set1[:,30]\n",
        "x_data1 = train_set1[:,:30].transpose() \n",
        "\n",
        "labels_train1.shape, x_data1.shape"
      ],
      "execution_count": 40,
      "outputs": [
        {
          "output_type": "execute_result",
          "data": {
            "text/plain": [
              "((674,), (30, 674))"
            ]
          },
          "metadata": {},
          "execution_count": 40
        }
      ]
    },
    {
      "cell_type": "code",
      "source": [
        "labels_train2 = train_set2[:,30]\n",
        "x_data2 = train_set2[:,:30].transpose() \n",
        "\n",
        "labels_train2.shape, x_data2.shape"
      ],
      "metadata": {
        "colab": {
          "base_uri": "https://localhost:8080/"
        },
        "id": "vka4X4RY0QIV",
        "outputId": "7fb16f44-9099-4c01-c94c-518109ab5185"
      },
      "execution_count": 41,
      "outputs": [
        {
          "output_type": "execute_result",
          "data": {
            "text/plain": [
              "((991,), (30, 991))"
            ]
          },
          "metadata": {},
          "execution_count": 41
        }
      ]
    },
    {
      "cell_type": "code",
      "source": [
        "labels_train3 = train_set3[:,30]\n",
        "x_data3 = train_set3[:,:30].transpose() \n",
        "\n",
        "labels_train3.shape, x_data3.shape"
      ],
      "metadata": {
        "colab": {
          "base_uri": "https://localhost:8080/"
        },
        "id": "mvV9chcE0XHh",
        "outputId": "82c18cc1-051c-4a79-cadd-c2bfead38eef"
      },
      "execution_count": 42,
      "outputs": [
        {
          "output_type": "execute_result",
          "data": {
            "text/plain": [
              "((1348,), (30, 1348))"
            ]
          },
          "metadata": {},
          "execution_count": 42
        }
      ]
    },
    {
      "cell_type": "code",
      "source": [
        "labels_valid = valid_set[:,30]\n",
        "x_data_valid = valid_set[:,:30].transpose() \n",
        "\n",
        "labels_valid.shape, x_data_valid.shape"
      ],
      "metadata": {
        "colab": {
          "base_uri": "https://localhost:8080/"
        },
        "id": "43ygUac4bOEW",
        "outputId": "bf2966c7-cabf-4a0d-ff5f-712e436069a4"
      },
      "execution_count": 43,
      "outputs": [
        {
          "output_type": "execute_result",
          "data": {
            "text/plain": [
              "((85443,), (30, 85443))"
            ]
          },
          "metadata": {},
          "execution_count": 43
        }
      ]
    },
    {
      "cell_type": "markdown",
      "metadata": {
        "id": "i8lATi3kOnBs"
      },
      "source": [
        "Create a [one-hot](https://en.wikipedia.org/wiki/One-hot) representation of the labels, that is a matrix where each row corresponds to a class (i.e. a digit).\n",
        "the entries of the matrix are 1 if the sample corresponds to that digit, 0 otherwise"
      ]
    },
    {
      "cell_type": "code",
      "metadata": {
        "id": "fvaLuITMCstt"
      },
      "source": [
        "y_data1 = np.zeros((2, labels_train1.shape[0]))\n",
        "for i in range(2):\n",
        "  y_data1[i, labels_train1==i] = 1"
      ],
      "execution_count": 44,
      "outputs": []
    },
    {
      "cell_type": "code",
      "source": [
        "y_data2 = np.zeros((2, labels_train2.shape[0]))\n",
        "for i in range(2):\n",
        "  y_data2[i, labels_train2==i] = 1"
      ],
      "metadata": {
        "id": "YmzGxmUU0620"
      },
      "execution_count": 45,
      "outputs": []
    },
    {
      "cell_type": "code",
      "source": [
        "y_data3 = np.zeros((2, labels_train3.shape[0]))\n",
        "for i in range(2):\n",
        "  y_data3[i, labels_train3==i] = 1"
      ],
      "metadata": {
        "id": "LYbw9pkm06_A"
      },
      "execution_count": 46,
      "outputs": []
    },
    {
      "cell_type": "code",
      "source": [
        "y_data_valid = np.zeros((2, labels_valid.shape[0]))\n",
        "for i in range(2):\n",
        "  y_data_valid[i, labels_valid==i] = 1"
      ],
      "metadata": {
        "id": "205jJG6_07H1"
      },
      "execution_count": 47,
      "outputs": []
    },
    {
      "cell_type": "markdown",
      "metadata": {
        "id": "4ZGpB1VwSceh"
      },
      "source": [
        "Check that the matrix has exactly one element \"1\" in each column."
      ]
    },
    {
      "cell_type": "code",
      "metadata": {
        "id": "Exa59aV0SYHq",
        "colab": {
          "base_uri": "https://localhost:8080/"
        },
        "outputId": "41b2ba67-ab98-4788-ab49-3f261c9fe94d"
      },
      "source": [
        "row_sums = np.sum(y_data1, axis = 0)\n",
        "row_sums.min(), row_sums.max()"
      ],
      "execution_count": 48,
      "outputs": [
        {
          "output_type": "execute_result",
          "data": {
            "text/plain": [
              "(1.0, 1.0)"
            ]
          },
          "metadata": {},
          "execution_count": 48
        }
      ]
    },
    {
      "cell_type": "code",
      "source": [
        "y_data1.shape, y_data2.shape, y_data3.shape"
      ],
      "metadata": {
        "colab": {
          "base_uri": "https://localhost:8080/"
        },
        "id": "_13bXl2xS-y4",
        "outputId": "f5d915c7-1ab7-4a3e-bb33-f161527f9683"
      },
      "execution_count": 73,
      "outputs": [
        {
          "output_type": "execute_result",
          "data": {
            "text/plain": [
              "((2, 674), (2, 991), (2, 1348))"
            ]
          },
          "metadata": {},
          "execution_count": 73
        }
      ]
    },
    {
      "cell_type": "markdown",
      "source": [
        "## ANN training\n"
      ],
      "metadata": {
        "id": "R0gFMcBi-Gz-"
      }
    },
    {
      "cell_type": "markdown",
      "metadata": {
        "id": "KDkeuzgpTonk"
      },
      "source": [
        "The following function initialize the parameters (with Glorot Normal initialization) and a function implementing a feedforward ANN with tanh activation function.\n",
        "\n",
        "To the last layer of the ANN, apply a *soft-max* layer. If $z_1, \\dots, z_n$ are the activations of the last layer neurons, the soft-max layer produces $\\hat{z}_1, \\dots, \\hat{z}_n$, defined as\n",
        "$$\n",
        "\\hat{z}_i = \\frac{e^{z_i}}{\\sum_{j=1}^n e^{z_j}}\n",
        "$$\n",
        "In this manner the outputs of the ANN satisfy by construction:\n",
        "- $\\hat{z}_i \\in [0,1]$\n",
        "- $\\sum_{j=1}^n \\hat{z}_j = 1$\n",
        "\n",
        "Therefore, they can be intepreted as probabilities.\n",
        "\n",
        "When the ANN will be trained, we will take the digit corresponding the the hightest proabability as prediction of the model."
      ]
    },
    {
      "cell_type": "code",
      "source": [
        "def initialize_params(layers_size):\n",
        "  np.random.seed(0)\n",
        "  params = list()\n",
        "  for i in range(len(layers_size) - 1):\n",
        "    params.append(np.random.randn(layers_size[i+1], layers_size[i]) * np.sqrt(2 / (layers_size[i] + layers_size[i+1])))\n",
        "    params.append(np.zeros((layers_size[i+1],1)))\n",
        "  return params\n",
        "\n",
        "def ANN(x, params):\n",
        "  W = params[0::2]\n",
        "  b = params[1::2]\n",
        "  layer = x \n",
        "  for i in range(len(W)):\n",
        "    layer = W[i] @ layer - b[i]\n",
        "    if i < len(W) - 1:\n",
        "      layer = jnp.tanh(layer)\n",
        "  layer_exp = jnp.exp(layer)\n",
        "  return layer_exp / jnp.sum(layer_exp, axis = 0)"
      ],
      "metadata": {
        "id": "WCuLCQ7ijFoa"
      },
      "execution_count": 74,
      "outputs": []
    },
    {
      "cell_type": "markdown",
      "metadata": {
        "id": "qwfvKVggVH0b"
      },
      "source": [
        "Test the ANN and check that the above properties are satisfied."
      ]
    },
    {
      "cell_type": "code",
      "source": [
        "params = initialize_params([30, 20, 10, 5, 2])\n",
        "y = ANN(x_data1, params)\n",
        "y.shape\n",
        "y.min(), y.max()\n",
        "y_sum = jnp.sum(y, axis = 0)\n",
        "y_sum.min(), y_sum.max()"
      ],
      "metadata": {
        "colab": {
          "base_uri": "https://localhost:8080/"
        },
        "id": "8Ks730F_kQSX",
        "outputId": "c52a2107-e88f-4888-b6d5-dea7a723758d"
      },
      "execution_count": 75,
      "outputs": [
        {
          "output_type": "execute_result",
          "data": {
            "text/plain": [
              "(DeviceArray(1., dtype=float32), DeviceArray(1., dtype=float32))"
            ]
          },
          "metadata": {},
          "execution_count": 75
        }
      ]
    },
    {
      "cell_type": "markdown",
      "metadata": {
        "id": "pMbemXuAU7gh"
      },
      "source": [
        "In order to evaluete the algorithm we use the following metrics:\n",
        "- mean square error\n",
        "- cross entropy\n",
        "- accuracy (fraction of samples correctly classified)"
      ]
    },
    {
      "cell_type": "code",
      "source": [
        "def MSE(x, y, params):\n",
        "  return jnp.mean(jnp.square(y - ANN(x, params)))\n",
        "\n",
        "def cross_entropy(x, y, params):\n",
        "  y_appr = ANN(x, params)\n",
        "  return - jnp.mean(jnp.sum(y*jnp.log(y_appr), axis=0))\n",
        "\n",
        "def accuracy(x, y, params):\n",
        "  digit_appr = jnp.argmax(ANN(x, params), axis = 0)\n",
        "  digit      = jnp.argmax(y, axis = 0)\n",
        "  return jnp.mean(digit == digit_appr) \n",
        "\n",
        "print('MSE:       %f' % MSE(x_data_valid, y_data_valid, params))\n",
        "print('X entropy: %f' % cross_entropy(x_data_valid, y_data_valid, params))\n",
        "print('accuracy:  %f' % accuracy(x_data_valid, y_data_valid, params))"
      ],
      "metadata": {
        "id": "KRVZND2sgiIw",
        "colab": {
          "base_uri": "https://localhost:8080/"
        },
        "outputId": "9521dac6-8f0f-4b16-e2dc-93974fb043b0"
      },
      "execution_count": 76,
      "outputs": [
        {
          "output_type": "stream",
          "name": "stdout",
          "text": [
            "MSE:       0.262866\n",
            "X entropy: 0.718871\n",
            "accuracy:  0.002118\n"
          ]
        }
      ]
    },
    {
      "cell_type": "markdown",
      "metadata": {
        "id": "3TH0_K-AaO7k"
      },
      "source": [
        "The ANN-based classifier will be trained with three hidden layers with 20, 10, 5 neurons each.\n",
        "Use 1000 epochs of the RMSProp algorithm, with decay rate 0.9 and $\\delta = 10^{-7}$ and fixed learning rate $\\lambda = 0.002$. Use minibatches with batch size of 400.\n",
        "\n",
        "It is used the cross-entropy loss to drive the training.\n",
        "To monitor training, store every 10 training epochs the following metrics in the following lists:\n",
        "- `history_train_Xen`: cross-entropy (training set)\n",
        "- `history_valid_Xen`: cross-entropy (validation set)\n",
        "- `history_valid_MSE`: MSE (validation set)\n",
        "- `history_valid_acc`: accuracy (validation set)"
      ]
    },
    {
      "cell_type": "code",
      "source": [
        "def training_loop(x_train,y_train):\n",
        "  # Hyperparameters\n",
        "  layers_size = [30, 20, 10, 5, 2]\n",
        "  # Training options\n",
        "  num_epochs = 500\n",
        "  batch_size = 400\n",
        "  learning_rate = 2e-3\n",
        "  decay_rate = 0.9\n",
        "  delta = 1e-7\n",
        "\n",
        "  history_train_Xen = list()\n",
        "\n",
        "  grad_jit = jax.jit(jax.grad(cross_entropy, argnums = 2))\n",
        "  loss_Xen_jit = jax.jit(cross_entropy)\n",
        "\n",
        "  params = initialize_params(layers_size)\n",
        "\n",
        "  history_train_Xen.append(loss_Xen_jit(x_train, y_train, params))\n",
        "  cumulate_grad = [0.0 for i in range(len(params))]\n",
        "\n",
        "  t0 = time.time()\n",
        "  for epoch in tqdm(range(num_epochs)):\n",
        "    idxs = np.random.choice(x_train.shape[1], batch_size)\n",
        "    g = grad_jit(x_train[:,idxs], y_train[:,idxs], params)\n",
        "    for i in range(len(params)):\n",
        "      cumulate_grad[i] = decay_rate*cumulate_grad[i] + (1 - decay_rate) * g[i]**2\n",
        "      params[i] -= learning_rate / (delta + jnp.sqrt(cumulate_grad[i])) * g[i]\n",
        "    history_train_Xen.append(loss_Xen_jit(x_train, y_train, params))\n",
        "\n",
        "  print('train loss: %1.3e' % history_train_Xen[-1])\n",
        "  plt.loglog(history_train_Xen, label = 'train loss')\n",
        "  return params"
      ],
      "metadata": {
        "id": "Iar3qcBslMYk"
      },
      "execution_count": 77,
      "outputs": []
    },
    {
      "cell_type": "markdown",
      "source": [
        "## ANN test"
      ],
      "metadata": {
        "id": "9mMjJqBo-I5h"
      }
    },
    {
      "cell_type": "code",
      "source": [
        "params1 = training_loop(x_data1,y_data1)"
      ],
      "metadata": {
        "colab": {
          "base_uri": "https://localhost:8080/",
          "height": 325,
          "referenced_widgets": [
            "cb60519100e9441389da4eece73ca952",
            "6abab612a77242ffbfc5b8bdae0ea735",
            "76ecdf225e7e42a080f2dbd839697883",
            "98dbfd62ef5f46219ab66fdfaa4da33e",
            "992d05cb8d544d4999d8a1732d988280",
            "48a58bb77b9646e6b8b77c12d551814b",
            "cbb59e34359645dcab96b710de3d0677",
            "610f26f6b8c54ea6934f1078e55afc9f",
            "7d225a92977d4e959f38cb1477b3e3bb",
            "528342529fd2401fa4336363bb95248c",
            "f783d3d6205f48c3ad7da638358c7167"
          ]
        },
        "id": "TXchSTja2LMZ",
        "outputId": "9e1f1bff-9f64-41e5-ee51-9ac8eb6256dd"
      },
      "execution_count": 78,
      "outputs": [
        {
          "output_type": "display_data",
          "data": {
            "application/vnd.jupyter.widget-view+json": {
              "model_id": "cb60519100e9441389da4eece73ca952",
              "version_minor": 0,
              "version_major": 2
            },
            "text/plain": [
              "  0%|          | 0/500 [00:00<?, ?it/s]"
            ]
          },
          "metadata": {}
        },
        {
          "output_type": "stream",
          "name": "stdout",
          "text": [
            "train loss: 6.933e-01\n"
          ]
        },
        {
          "output_type": "display_data",
          "data": {
            "image/png": "[encoded data removed]",
            "text/plain": [
              "<Figure size 432x288 with 1 Axes>"
            ]
          },
          "metadata": {
            "needs_background": "light"
          }
        }
      ]
    },
    {
      "cell_type": "code",
      "source": [
        "print('MSE:       %f' % MSE(x_data_valid, y_data_valid, params1))\n",
        "print('X entropy: %f' % cross_entropy(x_data_valid, y_data_valid, params1))\n",
        "print('Accurancy   ' + '{:.1%}'.format(accuracy(x_data_valid, y_data_valid, params1)))"
      ],
      "metadata": {
        "colab": {
          "base_uri": "https://localhost:8080/"
        },
        "id": "_e5761lNqNVT",
        "outputId": "e3eac6c0-2ccb-4209-e01f-32c9fefec233"
      },
      "execution_count": 79,
      "outputs": [
        {
          "output_type": "stream",
          "name": "stdout",
          "text": [
            "MSE:       0.231346\n",
            "X entropy: 0.655855\n",
            "Accurancy   99.8%\n"
          ]
        }
      ]
    },
    {
      "cell_type": "code",
      "source": [
        "params2 = training_loop(x_data2,y_data2)"
      ],
      "metadata": {
        "colab": {
          "base_uri": "https://localhost:8080/",
          "height": 325,
          "referenced_widgets": [
            "af867318c9a64c2eae2abd8078fe9d02",
            "7ad99901675c4e4a96150e75ef82add1",
            "363eaad0fbe84e46a70cbc913156c02e",
            "faab81e4543f45cea3dfcdeb6e2e24f1",
            "f7ab6b2840bd4945b47beae547013cdb",
            "7c1b5ff178074587af8d3bda29dea513",
            "fabccb9395374083b1375067fd539632",
            "7bad86d5be114418bd7b91fdf3dbc40e",
            "eff9a00ba18c46c59fa8a46de0371380",
            "b3ed89dd7dbb43b6a5b90a112a07d7f2",
            "56749279b79e4ea181c1fd02ae77bfbc"
          ]
        },
        "id": "jrztYdC-7pGD",
        "outputId": "d36bcf38-cbe8-4f6c-9cd0-8d608141c730"
      },
      "execution_count": 80,
      "outputs": [
        {
          "output_type": "display_data",
          "data": {
            "application/vnd.jupyter.widget-view+json": {
              "model_id": "af867318c9a64c2eae2abd8078fe9d02",
              "version_minor": 0,
              "version_major": 2
            },
            "text/plain": [
              "  0%|          | 0/500 [00:00<?, ?it/s]"
            ]
          },
          "metadata": {}
        },
        {
          "output_type": "stream",
          "name": "stdout",
          "text": [
            "train loss: 6.430e-01\n"
          ]
        },
        {
          "output_type": "display_data",
          "data": {
            "image/png": "[encoded data removed]",
            "text/plain": [
              "<Figure size 432x288 with 1 Axes>"
            ]
          },
          "metadata": {
            "needs_background": "light"
          }
        }
      ]
    },
    {
      "cell_type": "code",
      "source": [
        "print('MSE:       %f' % MSE(x_data_valid, y_data_valid, params2))\n",
        "print('X entropy: %f' % cross_entropy(x_data_valid, y_data_valid, params2))\n",
        "print('Accurancy   ' + '{:.1%}'.format(accuracy(x_data_valid, y_data_valid, params2)))"
      ],
      "metadata": {
        "colab": {
          "base_uri": "https://localhost:8080/"
        },
        "id": "2nuXEbb576xm",
        "outputId": "35f076c4-3024-42e8-d61f-a43031cf8d30"
      },
      "execution_count": 63,
      "outputs": [
        {
          "output_type": "stream",
          "name": "stdout",
          "text": [
            "MSE:       0.137695\n",
            "X entropy: 0.463672\n",
            "Accurancy   99.8%\n"
          ]
        }
      ]
    },
    {
      "cell_type": "code",
      "source": [
        "params3 = training_loop(x_data3,y_data3)"
      ],
      "metadata": {
        "colab": {
          "base_uri": "https://localhost:8080/",
          "height": 325,
          "referenced_widgets": [
            "7facfe1cb8bd49e1aa333487143a2b7e",
            "c4d75b37c8064a80b0e3cacbeef7deb6",
            "82ce745ae9cf4d589c7f1beb6835ba99",
            "ee29ca61e2174ff7a1ccece84fc74301",
            "1d41815a58154a73bfbab32d1bae5f60",
            "af8786f0fd8b4b5bb893c6edea7af7cf",
            "821e5f0a50e84b89865e8fde876a5c38",
            "9f022bcd4409479ba99971b1105974e8",
            "734ee008c0634563872ba5a617e44662",
            "32c8d2b57b5a49d995bb85b934f474ab",
            "b4008290c58e48da9478fcb4e45ee18f"
          ]
        },
        "id": "te5xBRLc791w",
        "outputId": "f0be136a-cde6-4cf2-dddd-c867029e017c"
      },
      "execution_count": 64,
      "outputs": [
        {
          "output_type": "display_data",
          "data": {
            "application/vnd.jupyter.widget-view+json": {
              "model_id": "7facfe1cb8bd49e1aa333487143a2b7e",
              "version_minor": 0,
              "version_major": 2
            },
            "text/plain": [
              "  0%|          | 0/500 [00:00<?, ?it/s]"
            ]
          },
          "metadata": {}
        },
        {
          "output_type": "stream",
          "name": "stdout",
          "text": [
            "train loss: 5.616e-01\n"
          ]
        },
        {
          "output_type": "display_data",
          "data": {
            "image/png": "[encoded data removed]",
            "text/plain": [
              "<Figure size 432x288 with 1 Axes>"
            ]
          },
          "metadata": {
            "needs_background": "light"
          }
        }
      ]
    },
    {
      "cell_type": "code",
      "source": [
        "print('MSE:       %f' % MSE(x_data_valid, y_data_valid, params3))\n",
        "print('X entropy: %f' % cross_entropy(x_data_valid, y_data_valid, params3))\n",
        "print('Accurancy   ' + '{:.1%}'.format(accuracy(x_data_valid, y_data_valid, params3)))"
      ],
      "metadata": {
        "colab": {
          "base_uri": "https://localhost:8080/"
        },
        "id": "0Ib2yeFp8Dxt",
        "outputId": "dab8e4aa-8623-45b1-a84f-52cfb764dbfc"
      },
      "execution_count": 81,
      "outputs": [
        {
          "output_type": "stream",
          "name": "stdout",
          "text": [
            "MSE:       0.057610\n",
            "X entropy: 0.273911\n",
            "Accurancy   99.8%\n"
          ]
        }
      ]
    }
  ]
}