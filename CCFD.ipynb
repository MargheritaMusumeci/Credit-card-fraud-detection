{
  "cells": [
    {
      "cell_type": "markdown",
      "metadata": {
        "id": "3VvFwo2ltRfq"
      },
      "source": [
        "# NAML Project 4\n",
        "\n",
        "Credit Card Fraud Detection "
      ]
    },
    {
      "cell_type": "code",
      "execution_count": 9,
      "metadata": {
        "id": "nnNmYCAiuFWv"
      },
      "outputs": [],
      "source": [
        "import numpy as np\n",
        "import matplotlib.pyplot as plt\n",
        "import pandas as pd\n",
        "import seaborn as sns\n",
        "import time\n",
        "import jax.numpy as jnp\n",
        "import jax\n",
        "\n",
        "from tqdm.notebook import tqdm\n",
        "from math import sqrt\n",
        "from random import seed\n",
        "from random import randrange\n",
        "from math import pi\n",
        "from math import exp"
      ]
    },
    {
      "cell_type": "markdown",
      "metadata": {
        "id": "9jM0-wt3twq8"
      },
      "source": [
        "Load the data"
      ]
    },
    {
      "cell_type": "code",
      "execution_count": 10,
      "metadata": {
        "id": "Xy9YKccztOcH"
      },
      "outputs": [],
      "source": [
        "dataset = pd.read_csv('/content/drive/MyDrive/Colab Notebooks/project-credit card fraud detection/creditcard.csv')"
      ]
    },
    {
      "cell_type": "markdown",
      "metadata": {
        "id": "XY-s8f1YuXOx"
      },
      "source": [
        "## Data Inspection"
      ]
    },
    {
      "cell_type": "markdown",
      "metadata": {
        "id": "qNBX4Np6t6wa"
      },
      "source": [
        "Check if there are some missing entries"
      ]
    },
    {
      "cell_type": "code",
      "execution_count": 4,
      "metadata": {
        "colab": {
          "base_uri": "https://localhost:8080/"
        },
        "id": "CqWTh87et6-K",
        "outputId": "af86b8fd-1d01-45f8-afe0-ca42f36de9e5"
      },
      "outputs": [
        {
          "output_type": "execute_result",
          "data": {
            "text/plain": [
              "Time      0\n",
              "V1        0\n",
              "V2        0\n",
              "V3        0\n",
              "V4        0\n",
              "V5        0\n",
              "V6        0\n",
              "V7        0\n",
              "V8        0\n",
              "V9        0\n",
              "V10       0\n",
              "V11       0\n",
              "V12       0\n",
              "V13       0\n",
              "V14       0\n",
              "V15       0\n",
              "V16       0\n",
              "V17       0\n",
              "V18       0\n",
              "V19       0\n",
              "V20       1\n",
              "V21       1\n",
              "V22       1\n",
              "V23       1\n",
              "V24       1\n",
              "V25       1\n",
              "V26       1\n",
              "V27       1\n",
              "V28       1\n",
              "Amount    1\n",
              "Class     1\n",
              "dtype: int64"
            ]
          },
          "metadata": {},
          "execution_count": 4
        }
      ],
      "source": [
        "dataset.isna().sum()"
      ]
    },
    {
      "cell_type": "markdown",
      "metadata": {
        "id": "mXFc1c-WuIah"
      },
      "source": [
        "Remove records with missing entries "
      ]
    },
    {
      "cell_type": "code",
      "execution_count": 11,
      "metadata": {
        "id": "b3cqDb3WuIi8",
        "colab": {
          "base_uri": "https://localhost:8080/"
        },
        "outputId": "c853e14a-648a-414b-d8fe-112f3b9faf38"
      },
      "outputs": [
        {
          "output_type": "execute_result",
          "data": {
            "text/plain": [
              "Time      0\n",
              "V1        0\n",
              "V2        0\n",
              "V3        0\n",
              "V4        0\n",
              "V5        0\n",
              "V6        0\n",
              "V7        0\n",
              "V8        0\n",
              "V9        0\n",
              "V10       0\n",
              "V11       0\n",
              "V12       0\n",
              "V13       0\n",
              "V14       0\n",
              "V15       0\n",
              "V16       0\n",
              "V17       0\n",
              "V18       0\n",
              "V19       0\n",
              "V20       0\n",
              "V21       0\n",
              "V22       0\n",
              "V23       0\n",
              "V24       0\n",
              "V25       0\n",
              "V26       0\n",
              "V27       0\n",
              "V28       0\n",
              "Amount    0\n",
              "Class     0\n",
              "dtype: int64"
            ]
          },
          "metadata": {},
          "execution_count": 11
        }
      ],
      "source": [
        "dataset = dataset.dropna()\n",
        "dataset.isna().sum()"
      ]
    },
    {
      "cell_type": "markdown",
      "metadata": {
        "id": "NaWz1vjJubYT"
      },
      "source": [
        "Visualize the first rows of the dataset"
      ]
    },
    {
      "cell_type": "code",
      "execution_count": 6,
      "metadata": {
        "colab": {
          "base_uri": "https://localhost:8080/",
          "height": 270
        },
        "id": "YQJf9GCPubfu",
        "outputId": "d0ac6a65-45fc-4f11-b289-d56b6f0e79ce"
      },
      "outputs": [
        {
          "output_type": "execute_result",
          "data": {
            "text/html": [
              "\n",
              "  <div id=\"df-72087341-6322-4a24-8094-54cc6cab4af3\">\n",
              "    <div class=\"colab-df-container\">\n",
              "      <div>\n",
              "<style scoped>\n",
              "    .dataframe tbody tr th:only-of-type {\n",
              "        vertical-align: middle;\n",
              "    }\n",
              "\n",
              "    .dataframe tbody tr th {\n",
              "        vertical-align: top;\n",
              "    }\n",
              "\n",
              "    .dataframe thead th {\n",
              "        text-align: right;\n",
              "    }\n",
              "</style>\n",
              "<table border=\"1\" class=\"dataframe\">\n",
              "  <thead>\n",
              "    <tr style=\"text-align: right;\">\n",
              "      <th></th>\n",
              "      <th>Time</th>\n",
              "      <th>V1</th>\n",
              "      <th>V2</th>\n",
              "      <th>V3</th>\n",
              "      <th>V4</th>\n",
              "      <th>V5</th>\n",
              "      <th>V6</th>\n",
              "      <th>V7</th>\n",
              "      <th>V8</th>\n",
              "      <th>V9</th>\n",
              "      <th>V10</th>\n",
              "      <th>V11</th>\n",
              "      <th>V12</th>\n",
              "      <th>V13</th>\n",
              "      <th>V14</th>\n",
              "      <th>V15</th>\n",
              "      <th>V16</th>\n",
              "      <th>V17</th>\n",
              "      <th>V18</th>\n",
              "      <th>V19</th>\n",
              "      <th>V20</th>\n",
              "      <th>V21</th>\n",
              "      <th>V22</th>\n",
              "      <th>V23</th>\n",
              "      <th>V24</th>\n",
              "      <th>V25</th>\n",
              "      <th>V26</th>\n",
              "      <th>V27</th>\n",
              "      <th>V28</th>\n",
              "      <th>Amount</th>\n",
              "      <th>Class</th>\n",
              "    </tr>\n",
              "  </thead>\n",
              "  <tbody>\n",
              "    <tr>\n",
              "      <th>0</th>\n",
              "      <td>0.0</td>\n",
              "      <td>-1.359807</td>\n",
              "      <td>-0.072781</td>\n",
              "      <td>2.536347</td>\n",
              "      <td>1.378155</td>\n",
              "      <td>-0.338321</td>\n",
              "      <td>0.462388</td>\n",
              "      <td>0.239599</td>\n",
              "      <td>0.098698</td>\n",
              "      <td>0.363787</td>\n",
              "      <td>0.090794</td>\n",
              "      <td>-0.551600</td>\n",
              "      <td>-0.617801</td>\n",
              "      <td>-0.991390</td>\n",
              "      <td>-0.311169</td>\n",
              "      <td>1.468177</td>\n",
              "      <td>-0.470401</td>\n",
              "      <td>0.207971</td>\n",
              "      <td>0.025791</td>\n",
              "      <td>0.403993</td>\n",
              "      <td>0.251412</td>\n",
              "      <td>-0.018307</td>\n",
              "      <td>0.277838</td>\n",
              "      <td>-0.110474</td>\n",
              "      <td>0.066928</td>\n",
              "      <td>0.128539</td>\n",
              "      <td>-0.189115</td>\n",
              "      <td>0.133558</td>\n",
              "      <td>-0.021053</td>\n",
              "      <td>149.62</td>\n",
              "      <td>0.0</td>\n",
              "    </tr>\n",
              "    <tr>\n",
              "      <th>1</th>\n",
              "      <td>0.0</td>\n",
              "      <td>1.191857</td>\n",
              "      <td>0.266151</td>\n",
              "      <td>0.166480</td>\n",
              "      <td>0.448154</td>\n",
              "      <td>0.060018</td>\n",
              "      <td>-0.082361</td>\n",
              "      <td>-0.078803</td>\n",
              "      <td>0.085102</td>\n",
              "      <td>-0.255425</td>\n",
              "      <td>-0.166974</td>\n",
              "      <td>1.612727</td>\n",
              "      <td>1.065235</td>\n",
              "      <td>0.489095</td>\n",
              "      <td>-0.143772</td>\n",
              "      <td>0.635558</td>\n",
              "      <td>0.463917</td>\n",
              "      <td>-0.114805</td>\n",
              "      <td>-0.183361</td>\n",
              "      <td>-0.145783</td>\n",
              "      <td>-0.069083</td>\n",
              "      <td>-0.225775</td>\n",
              "      <td>-0.638672</td>\n",
              "      <td>0.101288</td>\n",
              "      <td>-0.339846</td>\n",
              "      <td>0.167170</td>\n",
              "      <td>0.125895</td>\n",
              "      <td>-0.008983</td>\n",
              "      <td>0.014724</td>\n",
              "      <td>2.69</td>\n",
              "      <td>0.0</td>\n",
              "    </tr>\n",
              "    <tr>\n",
              "      <th>2</th>\n",
              "      <td>1.0</td>\n",
              "      <td>-1.358354</td>\n",
              "      <td>-1.340163</td>\n",
              "      <td>1.773209</td>\n",
              "      <td>0.379780</td>\n",
              "      <td>-0.503198</td>\n",
              "      <td>1.800499</td>\n",
              "      <td>0.791461</td>\n",
              "      <td>0.247676</td>\n",
              "      <td>-1.514654</td>\n",
              "      <td>0.207643</td>\n",
              "      <td>0.624501</td>\n",
              "      <td>0.066084</td>\n",
              "      <td>0.717293</td>\n",
              "      <td>-0.165946</td>\n",
              "      <td>2.345865</td>\n",
              "      <td>-2.890083</td>\n",
              "      <td>1.109969</td>\n",
              "      <td>-0.121359</td>\n",
              "      <td>-2.261857</td>\n",
              "      <td>0.524980</td>\n",
              "      <td>0.247998</td>\n",
              "      <td>0.771679</td>\n",
              "      <td>0.909412</td>\n",
              "      <td>-0.689281</td>\n",
              "      <td>-0.327642</td>\n",
              "      <td>-0.139097</td>\n",
              "      <td>-0.055353</td>\n",
              "      <td>-0.059752</td>\n",
              "      <td>378.66</td>\n",
              "      <td>0.0</td>\n",
              "    </tr>\n",
              "    <tr>\n",
              "      <th>3</th>\n",
              "      <td>1.0</td>\n",
              "      <td>-0.966272</td>\n",
              "      <td>-0.185226</td>\n",
              "      <td>1.792993</td>\n",
              "      <td>-0.863291</td>\n",
              "      <td>-0.010309</td>\n",
              "      <td>1.247203</td>\n",
              "      <td>0.237609</td>\n",
              "      <td>0.377436</td>\n",
              "      <td>-1.387024</td>\n",
              "      <td>-0.054952</td>\n",
              "      <td>-0.226487</td>\n",
              "      <td>0.178228</td>\n",
              "      <td>0.507757</td>\n",
              "      <td>-0.287924</td>\n",
              "      <td>-0.631418</td>\n",
              "      <td>-1.059647</td>\n",
              "      <td>-0.684093</td>\n",
              "      <td>1.965775</td>\n",
              "      <td>-1.232622</td>\n",
              "      <td>-0.208038</td>\n",
              "      <td>-0.108300</td>\n",
              "      <td>0.005274</td>\n",
              "      <td>-0.190321</td>\n",
              "      <td>-1.175575</td>\n",
              "      <td>0.647376</td>\n",
              "      <td>-0.221929</td>\n",
              "      <td>0.062723</td>\n",
              "      <td>0.061458</td>\n",
              "      <td>123.50</td>\n",
              "      <td>0.0</td>\n",
              "    </tr>\n",
              "    <tr>\n",
              "      <th>4</th>\n",
              "      <td>2.0</td>\n",
              "      <td>-1.158233</td>\n",
              "      <td>0.877737</td>\n",
              "      <td>1.548718</td>\n",
              "      <td>0.403034</td>\n",
              "      <td>-0.407193</td>\n",
              "      <td>0.095921</td>\n",
              "      <td>0.592941</td>\n",
              "      <td>-0.270533</td>\n",
              "      <td>0.817739</td>\n",
              "      <td>0.753074</td>\n",
              "      <td>-0.822843</td>\n",
              "      <td>0.538196</td>\n",
              "      <td>1.345852</td>\n",
              "      <td>-1.119670</td>\n",
              "      <td>0.175121</td>\n",
              "      <td>-0.451449</td>\n",
              "      <td>-0.237033</td>\n",
              "      <td>-0.038195</td>\n",
              "      <td>0.803487</td>\n",
              "      <td>0.408542</td>\n",
              "      <td>-0.009431</td>\n",
              "      <td>0.798278</td>\n",
              "      <td>-0.137458</td>\n",
              "      <td>0.141267</td>\n",
              "      <td>-0.206010</td>\n",
              "      <td>0.502292</td>\n",
              "      <td>0.219422</td>\n",
              "      <td>0.215153</td>\n",
              "      <td>69.99</td>\n",
              "      <td>0.0</td>\n",
              "    </tr>\n",
              "  </tbody>\n",
              "</table>\n",
              "</div>\n",
              "      <button class=\"colab-df-convert\" onclick=\"convertToInteractive('df-72087341-6322-4a24-8094-54cc6cab4af3')\"\n",
              "              title=\"Convert this dataframe to an interactive table.\"\n",
              "              style=\"display:none;\">\n",
              "        \n",
              "  <svg xmlns=\"http://www.w3.org/2000/svg\" height=\"24px\"viewBox=\"0 0 24 24\"\n",
              "       width=\"24px\">\n",
              "    <path d=\"M0 0h24v24H0V0z\" fill=\"none\"/>\n",
              "    <path d=\"M18.56 5.44l.94 2.06.94-2.06 2.06-.94-2.06-.94-.94-2.06-.94 2.06-2.06.94zm-11 1L8.5 8.5l.94-2.06 2.06-.94-2.06-.94L8.5 2.5l-.94 2.06-2.06.94zm10 10l.94 2.06.94-2.06 2.06-.94-2.06-.94-.94-2.06-.94 2.06-2.06.94z\"/><path d=\"M17.41 7.96l-1.37-1.37c-.4-.4-.92-.59-1.43-.59-.52 0-1.04.2-1.43.59L10.3 9.45l-7.72 7.72c-.78.78-.78 2.05 0 2.83L4 21.41c.39.39.9.59 1.41.59.51 0 1.02-.2 1.41-.59l7.78-7.78 2.81-2.81c.8-.78.8-2.07 0-2.86zM5.41 20L4 18.59l7.72-7.72 1.47 1.35L5.41 20z\"/>\n",
              "  </svg>\n",
              "      </button>\n",
              "      \n",
              "  <style>\n",
              "    .colab-df-container {\n",
              "      display:flex;\n",
              "      flex-wrap:wrap;\n",
              "      gap: 12px;\n",
              "    }\n",
              "\n",
              "    .colab-df-convert {\n",
              "      background-color: #E8F0FE;\n",
              "      border: none;\n",
              "      border-radius: 50%;\n",
              "      cursor: pointer;\n",
              "      display: none;\n",
              "      fill: #1967D2;\n",
              "      height: 32px;\n",
              "      padding: 0 0 0 0;\n",
              "      width: 32px;\n",
              "    }\n",
              "\n",
              "    .colab-df-convert:hover {\n",
              "      background-color: #E2EBFA;\n",
              "      box-shadow: 0px 1px 2px rgba(60, 64, 67, 0.3), 0px 1px 3px 1px rgba(60, 64, 67, 0.15);\n",
              "      fill: #174EA6;\n",
              "    }\n",
              "\n",
              "    [theme=dark] .colab-df-convert {\n",
              "      background-color: #3B4455;\n",
              "      fill: #D2E3FC;\n",
              "    }\n",
              "\n",
              "    [theme=dark] .colab-df-convert:hover {\n",
              "      background-color: #434B5C;\n",
              "      box-shadow: 0px 1px 3px 1px rgba(0, 0, 0, 0.15);\n",
              "      filter: drop-shadow(0px 1px 2px rgba(0, 0, 0, 0.3));\n",
              "      fill: #FFFFFF;\n",
              "    }\n",
              "  </style>\n",
              "\n",
              "      <script>\n",
              "        const buttonEl =\n",
              "          document.querySelector('#df-72087341-6322-4a24-8094-54cc6cab4af3 button.colab-df-convert');\n",
              "        buttonEl.style.display =\n",
              "          google.colab.kernel.accessAllowed ? 'block' : 'none';\n",
              "\n",
              "        async function convertToInteractive(key) {\n",
              "          const element = document.querySelector('#df-72087341-6322-4a24-8094-54cc6cab4af3');\n",
              "          const dataTable =\n",
              "            await google.colab.kernel.invokeFunction('convertToInteractive',\n",
              "                                                     [key], {});\n",
              "          if (!dataTable) return;\n",
              "\n",
              "          const docLinkHtml = 'Like what you see? Visit the ' +\n",
              "            '<a target=\"_blank\" href=https://colab.research.google.com/notebooks/data_table.ipynb>data table notebook</a>'\n",
              "            + ' to learn more about interactive tables.';\n",
              "          element.innerHTML = '';\n",
              "          dataTable['output_type'] = 'display_data';\n",
              "          await google.colab.output.renderOutput(dataTable, element);\n",
              "          const docLink = document.createElement('div');\n",
              "          docLink.innerHTML = docLinkHtml;\n",
              "          element.appendChild(docLink);\n",
              "        }\n",
              "      </script>\n",
              "    </div>\n",
              "  </div>\n",
              "  "
            ],
            "text/plain": [
              "   Time        V1        V2        V3  ...       V27       V28  Amount  Class\n",
              "0   0.0 -1.359807 -0.072781  2.536347  ...  0.133558 -0.021053  149.62    0.0\n",
              "1   0.0  1.191857  0.266151  0.166480  ... -0.008983  0.014724    2.69    0.0\n",
              "2   1.0 -1.358354 -1.340163  1.773209  ... -0.055353 -0.059752  378.66    0.0\n",
              "3   1.0 -0.966272 -0.185226  1.792993  ...  0.062723  0.061458  123.50    0.0\n",
              "4   2.0 -1.158233  0.877737  1.548718  ...  0.219422  0.215153   69.99    0.0\n",
              "\n",
              "[5 rows x 31 columns]"
            ]
          },
          "metadata": {},
          "execution_count": 6
        }
      ],
      "source": [
        "dataset.head()"
      ]
    },
    {
      "cell_type": "markdown",
      "metadata": {
        "id": "1rrqKtt1upxk"
      },
      "source": [
        "Visualize information about the dataset including the index dtype and columns, non-null values and memory usage."
      ]
    },
    {
      "cell_type": "code",
      "execution_count": 7,
      "metadata": {
        "colab": {
          "base_uri": "https://localhost:8080/"
        },
        "id": "ww0qAQ68up4x",
        "outputId": "363c40f0-31a4-4f63-8df3-6881ff987f12"
      },
      "outputs": [
        {
          "output_type": "stream",
          "name": "stdout",
          "text": [
            "<class 'pandas.core.frame.DataFrame'>\n",
            "Int64Index: 263382 entries, 0 to 263381\n",
            "Data columns (total 31 columns):\n",
            " #   Column  Non-Null Count   Dtype  \n",
            "---  ------  --------------   -----  \n",
            " 0   Time    263382 non-null  float64\n",
            " 1   V1      263382 non-null  float64\n",
            " 2   V2      263382 non-null  float64\n",
            " 3   V3      263382 non-null  float64\n",
            " 4   V4      263382 non-null  float64\n",
            " 5   V5      263382 non-null  float64\n",
            " 6   V6      263382 non-null  float64\n",
            " 7   V7      263382 non-null  float64\n",
            " 8   V8      263382 non-null  float64\n",
            " 9   V9      263382 non-null  float64\n",
            " 10  V10     263382 non-null  float64\n",
            " 11  V11     263382 non-null  float64\n",
            " 12  V12     263382 non-null  float64\n",
            " 13  V13     263382 non-null  float64\n",
            " 14  V14     263382 non-null  float64\n",
            " 15  V15     263382 non-null  float64\n",
            " 16  V16     263382 non-null  float64\n",
            " 17  V17     263382 non-null  float64\n",
            " 18  V18     263382 non-null  float64\n",
            " 19  V19     263382 non-null  float64\n",
            " 20  V20     263382 non-null  float64\n",
            " 21  V21     263382 non-null  float64\n",
            " 22  V22     263382 non-null  float64\n",
            " 23  V23     263382 non-null  float64\n",
            " 24  V24     263382 non-null  float64\n",
            " 25  V25     263382 non-null  float64\n",
            " 26  V26     263382 non-null  float64\n",
            " 27  V27     263382 non-null  float64\n",
            " 28  V28     263382 non-null  float64\n",
            " 29  Amount  263382 non-null  float64\n",
            " 30  Class   263382 non-null  float64\n",
            "dtypes: float64(31)\n",
            "memory usage: 64.3 MB\n"
          ]
        }
      ],
      "source": [
        "dataset.info()"
      ]
    },
    {
      "cell_type": "markdown",
      "metadata": {
        "id": "dpAJnDJdu2lG"
      },
      "source": [
        "Visualize first order statistics of the dataset including those that summarize the central tendency, dispersion and shape of a dataset’s distribution, excluding NaN values."
      ]
    },
    {
      "cell_type": "code",
      "execution_count": 8,
      "metadata": {
        "colab": {
          "base_uri": "https://localhost:8080/",
          "height": 329
        },
        "id": "RGKwEakfu2sE",
        "outputId": "467f9054-d362-47cf-e502-96d98f4e8dcf"
      },
      "outputs": [
        {
          "output_type": "error",
          "ename": "KeyboardInterrupt",
          "evalue": "ignored",
          "traceback": [
            "\u001b[0;31m---------------------------------------------------------------------------\u001b[0m",
            "\u001b[0;31mKeyboardInterrupt\u001b[0m                         Traceback (most recent call last)",
            "\u001b[0;32m<ipython-input-8-3ded4c85834d>\u001b[0m in \u001b[0;36m<module>\u001b[0;34m()\u001b[0m\n\u001b[0;32m----> 1\u001b[0;31m \u001b[0mdataset\u001b[0m\u001b[0;34m.\u001b[0m\u001b[0mdescribe\u001b[0m\u001b[0;34m(\u001b[0m\u001b[0;34m)\u001b[0m\u001b[0;34m\u001b[0m\u001b[0;34m\u001b[0m\u001b[0m\n\u001b[0m",
            "\u001b[0;32m/usr/local/lib/python3.7/dist-packages/pandas/core/generic.py\u001b[0m in \u001b[0;36mdescribe\u001b[0;34m(self, percentiles, include, exclude, datetime_is_numeric)\u001b[0m\n\u001b[1;32m  10102\u001b[0m             \u001b[0mdata\u001b[0m \u001b[0;34m=\u001b[0m \u001b[0mself\u001b[0m\u001b[0;34m.\u001b[0m\u001b[0mselect_dtypes\u001b[0m\u001b[0;34m(\u001b[0m\u001b[0minclude\u001b[0m\u001b[0;34m=\u001b[0m\u001b[0minclude\u001b[0m\u001b[0;34m,\u001b[0m \u001b[0mexclude\u001b[0m\u001b[0;34m=\u001b[0m\u001b[0mexclude\u001b[0m\u001b[0;34m)\u001b[0m\u001b[0;34m\u001b[0m\u001b[0;34m\u001b[0m\u001b[0m\n\u001b[1;32m  10103\u001b[0m \u001b[0;34m\u001b[0m\u001b[0m\n\u001b[0;32m> 10104\u001b[0;31m         \u001b[0mldesc\u001b[0m \u001b[0;34m=\u001b[0m \u001b[0;34m[\u001b[0m\u001b[0mdescribe_1d\u001b[0m\u001b[0;34m(\u001b[0m\u001b[0ms\u001b[0m\u001b[0;34m)\u001b[0m \u001b[0;32mfor\u001b[0m \u001b[0m_\u001b[0m\u001b[0;34m,\u001b[0m \u001b[0ms\u001b[0m \u001b[0;32min\u001b[0m \u001b[0mdata\u001b[0m\u001b[0;34m.\u001b[0m\u001b[0mitems\u001b[0m\u001b[0;34m(\u001b[0m\u001b[0;34m)\u001b[0m\u001b[0;34m]\u001b[0m\u001b[0;34m\u001b[0m\u001b[0;34m\u001b[0m\u001b[0m\n\u001b[0m\u001b[1;32m  10105\u001b[0m         \u001b[0;31m# set a convenient order for rows\u001b[0m\u001b[0;34m\u001b[0m\u001b[0;34m\u001b[0m\u001b[0;34m\u001b[0m\u001b[0m\n\u001b[1;32m  10106\u001b[0m         \u001b[0mnames\u001b[0m\u001b[0;34m:\u001b[0m \u001b[0mList\u001b[0m\u001b[0;34m[\u001b[0m\u001b[0mLabel\u001b[0m\u001b[0;34m]\u001b[0m \u001b[0;34m=\u001b[0m \u001b[0;34m[\u001b[0m\u001b[0;34m]\u001b[0m\u001b[0;34m\u001b[0m\u001b[0;34m\u001b[0m\u001b[0m\n",
            "\u001b[0;32m/usr/local/lib/python3.7/dist-packages/pandas/core/generic.py\u001b[0m in \u001b[0;36m<listcomp>\u001b[0;34m(.0)\u001b[0m\n\u001b[1;32m  10102\u001b[0m             \u001b[0mdata\u001b[0m \u001b[0;34m=\u001b[0m \u001b[0mself\u001b[0m\u001b[0;34m.\u001b[0m\u001b[0mselect_dtypes\u001b[0m\u001b[0;34m(\u001b[0m\u001b[0minclude\u001b[0m\u001b[0;34m=\u001b[0m\u001b[0minclude\u001b[0m\u001b[0;34m,\u001b[0m \u001b[0mexclude\u001b[0m\u001b[0;34m=\u001b[0m\u001b[0mexclude\u001b[0m\u001b[0;34m)\u001b[0m\u001b[0;34m\u001b[0m\u001b[0;34m\u001b[0m\u001b[0m\n\u001b[1;32m  10103\u001b[0m \u001b[0;34m\u001b[0m\u001b[0m\n\u001b[0;32m> 10104\u001b[0;31m         \u001b[0mldesc\u001b[0m \u001b[0;34m=\u001b[0m \u001b[0;34m[\u001b[0m\u001b[0mdescribe_1d\u001b[0m\u001b[0;34m(\u001b[0m\u001b[0ms\u001b[0m\u001b[0;34m)\u001b[0m \u001b[0;32mfor\u001b[0m \u001b[0m_\u001b[0m\u001b[0;34m,\u001b[0m \u001b[0ms\u001b[0m \u001b[0;32min\u001b[0m \u001b[0mdata\u001b[0m\u001b[0;34m.\u001b[0m\u001b[0mitems\u001b[0m\u001b[0;34m(\u001b[0m\u001b[0;34m)\u001b[0m\u001b[0;34m]\u001b[0m\u001b[0;34m\u001b[0m\u001b[0;34m\u001b[0m\u001b[0m\n\u001b[0m\u001b[1;32m  10105\u001b[0m         \u001b[0;31m# set a convenient order for rows\u001b[0m\u001b[0;34m\u001b[0m\u001b[0;34m\u001b[0m\u001b[0;34m\u001b[0m\u001b[0m\n\u001b[1;32m  10106\u001b[0m         \u001b[0mnames\u001b[0m\u001b[0;34m:\u001b[0m \u001b[0mList\u001b[0m\u001b[0;34m[\u001b[0m\u001b[0mLabel\u001b[0m\u001b[0;34m]\u001b[0m \u001b[0;34m=\u001b[0m \u001b[0;34m[\u001b[0m\u001b[0;34m]\u001b[0m\u001b[0;34m\u001b[0m\u001b[0;34m\u001b[0m\u001b[0m\n",
            "\u001b[0;32m/usr/local/lib/python3.7/dist-packages/pandas/core/generic.py\u001b[0m in \u001b[0;36mdescribe_1d\u001b[0;34m(data)\u001b[0m\n\u001b[1;32m  10076\u001b[0m                 \u001b[0;32mreturn\u001b[0m \u001b[0mdescribe_categorical_1d\u001b[0m\u001b[0;34m(\u001b[0m\u001b[0mdata\u001b[0m\u001b[0;34m)\u001b[0m\u001b[0;34m\u001b[0m\u001b[0;34m\u001b[0m\u001b[0m\n\u001b[1;32m  10077\u001b[0m             \u001b[0;32melif\u001b[0m \u001b[0mis_numeric_dtype\u001b[0m\u001b[0;34m(\u001b[0m\u001b[0mdata\u001b[0m\u001b[0;34m)\u001b[0m\u001b[0;34m:\u001b[0m\u001b[0;34m\u001b[0m\u001b[0;34m\u001b[0m\u001b[0m\n\u001b[0;32m> 10078\u001b[0;31m                 \u001b[0;32mreturn\u001b[0m \u001b[0mdescribe_numeric_1d\u001b[0m\u001b[0;34m(\u001b[0m\u001b[0mdata\u001b[0m\u001b[0;34m)\u001b[0m\u001b[0;34m\u001b[0m\u001b[0;34m\u001b[0m\u001b[0m\n\u001b[0m\u001b[1;32m  10079\u001b[0m             \u001b[0;32melif\u001b[0m \u001b[0mis_datetime64_any_dtype\u001b[0m\u001b[0;34m(\u001b[0m\u001b[0mdata\u001b[0m\u001b[0;34m.\u001b[0m\u001b[0mdtype\u001b[0m\u001b[0;34m)\u001b[0m \u001b[0;32mand\u001b[0m \u001b[0mdatetime_is_numeric\u001b[0m\u001b[0;34m:\u001b[0m\u001b[0;34m\u001b[0m\u001b[0;34m\u001b[0m\u001b[0m\n\u001b[1;32m  10080\u001b[0m                 \u001b[0;32mreturn\u001b[0m \u001b[0mdescribe_timestamp_1d\u001b[0m\u001b[0;34m(\u001b[0m\u001b[0mdata\u001b[0m\u001b[0;34m)\u001b[0m\u001b[0;34m\u001b[0m\u001b[0;34m\u001b[0m\u001b[0m\n",
            "\u001b[0;32m/usr/local/lib/python3.7/dist-packages/pandas/core/generic.py\u001b[0m in \u001b[0;36mdescribe_numeric_1d\u001b[0;34m(series)\u001b[0m\n\u001b[1;32m  10009\u001b[0m                 \u001b[0;34m[\u001b[0m\u001b[0mseries\u001b[0m\u001b[0;34m.\u001b[0m\u001b[0mcount\u001b[0m\u001b[0;34m(\u001b[0m\u001b[0;34m)\u001b[0m\u001b[0;34m,\u001b[0m \u001b[0mseries\u001b[0m\u001b[0;34m.\u001b[0m\u001b[0mmean\u001b[0m\u001b[0;34m(\u001b[0m\u001b[0;34m)\u001b[0m\u001b[0;34m,\u001b[0m \u001b[0mseries\u001b[0m\u001b[0;34m.\u001b[0m\u001b[0mstd\u001b[0m\u001b[0;34m(\u001b[0m\u001b[0;34m)\u001b[0m\u001b[0;34m,\u001b[0m \u001b[0mseries\u001b[0m\u001b[0;34m.\u001b[0m\u001b[0mmin\u001b[0m\u001b[0;34m(\u001b[0m\u001b[0;34m)\u001b[0m\u001b[0;34m]\u001b[0m\u001b[0;34m\u001b[0m\u001b[0;34m\u001b[0m\u001b[0m\n\u001b[1;32m  10010\u001b[0m                 \u001b[0;34m+\u001b[0m \u001b[0mseries\u001b[0m\u001b[0;34m.\u001b[0m\u001b[0mquantile\u001b[0m\u001b[0;34m(\u001b[0m\u001b[0mpercentiles\u001b[0m\u001b[0;34m)\u001b[0m\u001b[0;34m.\u001b[0m\u001b[0mtolist\u001b[0m\u001b[0;34m(\u001b[0m\u001b[0;34m)\u001b[0m\u001b[0;34m\u001b[0m\u001b[0;34m\u001b[0m\u001b[0m\n\u001b[0;32m> 10011\u001b[0;31m                 \u001b[0;34m+\u001b[0m \u001b[0;34m[\u001b[0m\u001b[0mseries\u001b[0m\u001b[0;34m.\u001b[0m\u001b[0mmax\u001b[0m\u001b[0;34m(\u001b[0m\u001b[0;34m)\u001b[0m\u001b[0;34m]\u001b[0m\u001b[0;34m\u001b[0m\u001b[0;34m\u001b[0m\u001b[0m\n\u001b[0m\u001b[1;32m  10012\u001b[0m             )\n\u001b[1;32m  10013\u001b[0m             \u001b[0;32mreturn\u001b[0m \u001b[0mpd\u001b[0m\u001b[0;34m.\u001b[0m\u001b[0mSeries\u001b[0m\u001b[0;34m(\u001b[0m\u001b[0md\u001b[0m\u001b[0;34m,\u001b[0m \u001b[0mindex\u001b[0m\u001b[0;34m=\u001b[0m\u001b[0mstat_index\u001b[0m\u001b[0;34m,\u001b[0m \u001b[0mname\u001b[0m\u001b[0;34m=\u001b[0m\u001b[0mseries\u001b[0m\u001b[0;34m.\u001b[0m\u001b[0mname\u001b[0m\u001b[0;34m)\u001b[0m\u001b[0;34m\u001b[0m\u001b[0;34m\u001b[0m\u001b[0m\n",
            "\u001b[0;32m/usr/local/lib/python3.7/dist-packages/pandas/core/series.py\u001b[0m in \u001b[0;36mquantile\u001b[0;34m(self, q, interpolation)\u001b[0m\n\u001b[1;32m   2274\u001b[0m         \u001b[0mresult\u001b[0m \u001b[0;34m=\u001b[0m \u001b[0mdf\u001b[0m\u001b[0;34m.\u001b[0m\u001b[0mquantile\u001b[0m\u001b[0;34m(\u001b[0m\u001b[0mq\u001b[0m\u001b[0;34m=\u001b[0m\u001b[0mq\u001b[0m\u001b[0;34m,\u001b[0m \u001b[0minterpolation\u001b[0m\u001b[0;34m=\u001b[0m\u001b[0minterpolation\u001b[0m\u001b[0;34m,\u001b[0m \u001b[0mnumeric_only\u001b[0m\u001b[0;34m=\u001b[0m\u001b[0;32mFalse\u001b[0m\u001b[0;34m)\u001b[0m\u001b[0;34m\u001b[0m\u001b[0;34m\u001b[0m\u001b[0m\n\u001b[1;32m   2275\u001b[0m         \u001b[0;32mif\u001b[0m \u001b[0mresult\u001b[0m\u001b[0;34m.\u001b[0m\u001b[0mndim\u001b[0m \u001b[0;34m==\u001b[0m \u001b[0;36m2\u001b[0m\u001b[0;34m:\u001b[0m\u001b[0;34m\u001b[0m\u001b[0;34m\u001b[0m\u001b[0m\n\u001b[0;32m-> 2276\u001b[0;31m             \u001b[0mresult\u001b[0m \u001b[0;34m=\u001b[0m \u001b[0mresult\u001b[0m\u001b[0;34m.\u001b[0m\u001b[0miloc\u001b[0m\u001b[0;34m[\u001b[0m\u001b[0;34m:\u001b[0m\u001b[0;34m,\u001b[0m \u001b[0;36m0\u001b[0m\u001b[0;34m]\u001b[0m\u001b[0;34m\u001b[0m\u001b[0;34m\u001b[0m\u001b[0m\n\u001b[0m\u001b[1;32m   2277\u001b[0m \u001b[0;34m\u001b[0m\u001b[0m\n\u001b[1;32m   2278\u001b[0m         \u001b[0;32mif\u001b[0m \u001b[0mis_list_like\u001b[0m\u001b[0;34m(\u001b[0m\u001b[0mq\u001b[0m\u001b[0;34m)\u001b[0m\u001b[0;34m:\u001b[0m\u001b[0;34m\u001b[0m\u001b[0;34m\u001b[0m\u001b[0m\n",
            "\u001b[0;32m/usr/local/lib/python3.7/dist-packages/pandas/core/indexing.py\u001b[0m in \u001b[0;36miloc\u001b[0;34m(self)\u001b[0m\n\u001b[1;32m    233\u001b[0m         \u001b[0;36m2\u001b[0m  \u001b[0;36m1000\u001b[0m  \u001b[0;36m3000\u001b[0m\u001b[0;34m\u001b[0m\u001b[0;34m\u001b[0m\u001b[0m\n\u001b[1;32m    234\u001b[0m         \"\"\"\n\u001b[0;32m--> 235\u001b[0;31m         \u001b[0;32mreturn\u001b[0m \u001b[0m_iLocIndexer\u001b[0m\u001b[0;34m(\u001b[0m\u001b[0;34m\"iloc\"\u001b[0m\u001b[0;34m,\u001b[0m \u001b[0mself\u001b[0m\u001b[0;34m)\u001b[0m\u001b[0;34m\u001b[0m\u001b[0;34m\u001b[0m\u001b[0m\n\u001b[0m\u001b[1;32m    236\u001b[0m \u001b[0;34m\u001b[0m\u001b[0m\n\u001b[1;32m    237\u001b[0m     \u001b[0;34m@\u001b[0m\u001b[0mproperty\u001b[0m\u001b[0;34m\u001b[0m\u001b[0;34m\u001b[0m\u001b[0m\n",
            "\u001b[0;31mKeyboardInterrupt\u001b[0m: "
          ]
        }
      ],
      "source": [
        "dataset.describe()"
      ]
    },
    {
      "cell_type": "markdown",
      "metadata": {
        "id": "PnFrC9mCu5rE"
      },
      "source": [
        "Print distribution and approximation of data related to the seconds elapsed between each transaction and the first transaction"
      ]
    },
    {
      "cell_type": "code",
      "execution_count": null,
      "metadata": {
        "id": "lnmjnmBUu5x-"
      },
      "outputs": [],
      "source": [
        "sns.distplot(dataset['Time'])"
      ]
    },
    {
      "cell_type": "markdown",
      "metadata": {
        "id": "ztdkVJCwvDa7"
      },
      "source": [
        "Visualize pairwise correlation of columns\n"
      ]
    },
    {
      "cell_type": "code",
      "execution_count": null,
      "metadata": {
        "id": "-d65NGdNvDhl"
      },
      "outputs": [],
      "source": [
        "dataset.corr()"
      ]
    },
    {
      "cell_type": "markdown",
      "metadata": {
        "id": "5anr-CAJvIcw"
      },
      "source": [
        "Display correlations "
      ]
    },
    {
      "cell_type": "code",
      "execution_count": null,
      "metadata": {
        "id": "san0B7mYvIiS"
      },
      "outputs": [],
      "source": [
        "fig, ax = plt.subplots(figsize=(40,40))   \n",
        "sns.heatmap(dataset.corr(),ax = ax,  annot = True, cmap = 'vlag_r', vmin = -1, vmax = 1)"
      ]
    },
    {
      "cell_type": "markdown",
      "metadata": {
        "id": "GBtFMIA6vS21"
      },
      "source": [
        "Show the values assigned to each attribute for those transactions that are classified as fraudulent (`red`) compared to those that are not fraudolent (`green`).\n",
        "\n",
        "The plots are zoomed-in versions of the real plots to better display the red values"
      ]
    },
    {
      "cell_type": "code",
      "execution_count": null,
      "metadata": {
        "id": "di7ZTfuGvS_C"
      },
      "outputs": [],
      "source": [
        "# split the dataset in fraud and no-fraud subsets\n",
        "\n",
        "#shuffle rows of the dataset\n",
        "# frac = 1 determines what fraction of total instances need to be returned\n",
        "dataset_shuffled = dataset.sample(frac = 1) \n",
        "\n",
        "fraud = dataset_shuffled[dataset_shuffled[\"Class\"] == 1]\n",
        "no_fraud = dataset_shuffled[dataset_shuffled[\"Class\"] == 0]\n",
        "\n",
        "# create the subplot schema\n",
        "fig, ax = plt.subplots(10, 3, sharex=False, sharey=False, figsize=(20,70))\n",
        "\n",
        "n = 30 # number of columns to be printed   \n",
        "colors = ['red', 'green']\n",
        "\n",
        "axis = ax.flatten()\n",
        "\n",
        "for i,j in zip(range(n), axis):\n",
        "    j.hist([fraud.iloc[:,i], no_fraud.iloc[:,i]], color=colors)\n",
        "    j.set_title(fraud.columns[i])\n",
        "    j.set_ylim(top = 5000) # fix y top limit to 5000"
      ]
    },
    {
      "cell_type": "markdown",
      "metadata": {
        "id": "VWUgv6jWvxAK"
      },
      "source": [
        "## Data Normalization"
      ]
    },
    {
      "cell_type": "markdown",
      "metadata": {
        "id": "fU_6f2-Xvy64"
      },
      "source": [
        "The goal of normalization is to change the values of numeric columns in the dataset to a common scale, without distorting differences in the ranges of values.\n",
        "\n",
        "We apply this technique to all the columns of the dataset except for `Class`"
      ]
    },
    {
      "cell_type": "code",
      "execution_count": 12,
      "metadata": {
        "id": "zYUqAjaSv0gb"
      },
      "outputs": [],
      "source": [
        "# remove 'Class' column\n",
        "dataset_to_be_normalized = dataset.iloc[:,:-1]\n",
        "\n",
        "# compute the mean \n",
        "data_mean = dataset_to_be_normalized.mean()\n",
        "# compute the standard deviation\n",
        "data_std = dataset_to_be_normalized.std()\n",
        "# normalize the data\n",
        "data_normalized = (dataset_to_be_normalized - data_mean) / data_std\n",
        "\n",
        "# append 'Class' column\n",
        "data_normalized['Class'] = dataset.iloc[:,-1]"
      ]
    },
    {
      "cell_type": "markdown",
      "metadata": {
        "id": "Ba0NukWfv2Z3"
      },
      "source": [
        "Display the distribution of the new values"
      ]
    },
    {
      "cell_type": "code",
      "execution_count": null,
      "metadata": {
        "id": "paIqTrqcv2ic"
      },
      "outputs": [],
      "source": [
        "_, ax = plt.subplots(figsize=(20,10))\n",
        "sns.violinplot(data = data_normalized, ax = ax)"
      ]
    },
    {
      "cell_type": "markdown",
      "metadata": {
        "id": "hr9RX4ULv_eT"
      },
      "source": [
        "## Dataset division - Train-validation split"
      ]
    },
    {
      "cell_type": "markdown",
      "metadata": {
        "id": "JlYt9-ZYwCyS"
      },
      "source": [
        "Shuffle the data using the np.random.shuffle function and split the data as follows:\n",
        "\n",
        "- put 70% in the training dataset\n",
        "- put 30% in the validation dataset"
      ]
    },
    {
      "cell_type": "code",
      "execution_count": 13,
      "metadata": {
        "colab": {
          "base_uri": "https://localhost:8080/"
        },
        "id": "luZs4mNdwC4S",
        "outputId": "ec225862-8cfc-485b-b438-72194ffa2448"
      },
      "outputs": [
        {
          "output_type": "stream",
          "name": "stdout",
          "text": [
            "train set size     : 199364\n",
            "validation set size: 85443\n"
          ]
        }
      ],
      "source": [
        "# define parameter : test_set / training_set\n",
        "fraction_validation = 0.3 # 30% of test set and 70% of training set\n",
        "\n",
        "# parse to numpy\n",
        "data_normalized_np = data_normalized.to_numpy()\n",
        "\n",
        "# shuffle data\n",
        "np.random.seed(0) # set seed to 0 for reproducibility\n",
        "np.random.shuffle(data_normalized_np) \n",
        "\n",
        "# divide into training_set and test_set\n",
        "num_train = int(data_normalized_np.shape[0] * (1 - fraction_validation))\n",
        "\n",
        "train_set = data_normalized_np[:num_train,:]\n",
        "valid_set = data_normalized_np[num_train:,:]\n",
        "\n",
        "print('train set size     : %d' % train_set.shape[0])\n",
        "print('validation set size: %d' % valid_set.shape[0])"
      ]
    },
    {
      "cell_type": "markdown",
      "metadata": {
        "id": "dPcPTI7SwQj7"
      },
      "source": [
        "Visualize the dimensions of the sets "
      ]
    },
    {
      "cell_type": "code",
      "execution_count": null,
      "metadata": {
        "id": "0oNj4xjxwWTt"
      },
      "outputs": [],
      "source": [
        "print('Dataset: ')\n",
        "print('Number of fraud transactions     : %d' % sum(dataset[\"Class\"]))\n",
        "print('Number of non-fraud transactions : %d' % sum(dataset[\"Class\"] == 0))\n",
        "print('Number of transactions           : %d' % dataset[\"Class\"].shape[0])\n",
        "\n",
        "print('\\nTraining set: ')\n",
        "print('Number of fraud transactions     : %d' % np.sum(train_set[:,data_normalized_np.shape[1]-1]))\n",
        "print('Number of non-fraud transactions : %d' % np.sum(train_set[:,data_normalized_np.shape[1]-1]  == 0))\n",
        "print('Number of transactions           : %d' % train_set.shape[0])\n",
        "\n",
        "print('\\nValidation set: ')\n",
        "print('Number of fraud transactions     : %d' % np.sum(valid_set[:,data_normalized_np.shape[1]-1]))\n",
        "print('Number of non-fraud transactions : %d' % np.sum(valid_set[:,data_normalized_np.shape[1]-1] == 0))\n",
        "print('Number of transactions           : %d' % valid_set.shape[0])"
      ]
    },
    {
      "cell_type": "markdown",
      "metadata": {
        "id": "cU7SVIdXw4-W"
      },
      "source": [
        "## Preprocess data - Random under sampling"
      ]
    },
    {
      "cell_type": "markdown",
      "metadata": {
        "id": "iOFjItMIw_7K"
      },
      "source": [
        "The two main approaches to randomly resampling an imbalanced dataset are to delete examples from the majority class, called undersampling, and to duplicate examples from the minority class, called oversampling.\n",
        "\n",
        "\n",
        "*   Random oversampling duplicates examples from the minority class in the training dataset and can result in overfitting for some models.\n",
        "*   Random undersampling deletes examples from the majority class and can result in losing information invaluable to a model.\n",
        "\n",
        "Random oversampling involves randomly selecting examples from the minority class, with replacement, and adding them to the training dataset. Random undersampling involves randomly selecting examples from the majority class and deleting them from the training dataset.\n",
        "\n",
        "*This method is valid under the hypothesis that the number of the no-fraud transaction is more than a hundred times the number of fraud ones*\n"
      ]
    },
    {
      "cell_type": "code",
      "execution_count": 14,
      "metadata": {
        "id": "ksN6b7kHw8Yn"
      },
      "outputs": [],
      "source": [
        "def RUS(ratio, training_set):\n",
        "  '''It returns a list obtained by merging two lists, one containing the fraud training set and the\n",
        "  other containing the non-fraud training set.\n",
        "  The ratio parameter defines the ratio fraud/non-fraud.\n",
        "  e.g.: ratio=1 and len(train_fraud)= 100 implies that len(new_train_not_fraud)=100.\n",
        "  \n",
        "  @param: ratio It is the ratio between fraud and non-fraud data; it is defined as: ratio:=fraud_set/non-fraud_set.\n",
        "  @param training_set It is the training set.\n",
        "  '''\n",
        "  # initialize the two lists\n",
        "  train_fraud = list()\n",
        "  train_not_fraud = list()\n",
        "\n",
        "  # for each sample in the training set, append it to the proper class\n",
        "  for sample in training_set:\n",
        "    if sample[-1] == 1:\n",
        "      train_fraud.append(sample)\n",
        "    else:\n",
        "      train_not_fraud.append(sample)\n",
        "  \n",
        "  print('train_fraud len        : ', len(train_fraud))\n",
        "  print('train_not_fraud len    : ', len(train_not_fraud))\n",
        "  \n",
        "  # compute new length of train_not_fraud\n",
        "  new_length_train_not_fraud = int(len(train_fraud) / ratio)\n",
        "  print('new train_not_fraud len: ', new_length_train_not_fraud)\n",
        "\n",
        "  # shuffle train_not_fraud\n",
        "  np.random.seed(0) # set seed to 0 for reproducibility\n",
        "  np.random.shuffle(train_not_fraud)\n",
        "\n",
        "  # take the first new_length_train_not_fraud elements from train_not_fraud\n",
        "  train_not_fraud_reduced = train_not_fraud[0:new_length_train_not_fraud]\n",
        "\n",
        "  # create a unique list for the training set\n",
        "  train_fraud.extend(train_not_fraud_reduced)\n",
        "\n",
        "  # shuffle the result set\n",
        "  np.random.seed(0) # set seed to 0 for reproducibility\n",
        "  np.random.shuffle(train_fraud)\n",
        "\n",
        "  print('new training set len   : ', len(train_fraud))\n",
        "  print('\\n')\n",
        "\n",
        "  # return the whole new training set\n",
        "  return train_fraud"
      ]
    },
    {
      "cell_type": "code",
      "execution_count": 15,
      "metadata": {
        "id": "bOyKhDmExPoW"
      },
      "outputs": [],
      "source": [
        "# define parameters -> inside the training_set: fraud / non-fraud\n",
        "ratio1 = 1 # 50:50\n",
        "ratio2 = 34/66 # 34:66\n",
        "ratio3 = 1/3 # 25:75"
      ]
    },
    {
      "cell_type": "markdown",
      "metadata": {
        "id": "Y3QMivi7xReU"
      },
      "source": [
        "Apply random under sampling to the training set"
      ]
    },
    {
      "cell_type": "code",
      "execution_count": 16,
      "metadata": {
        "colab": {
          "base_uri": "https://localhost:8080/"
        },
        "id": "8kV73BV_xRmW",
        "outputId": "70530c2c-3bfe-4bd1-b073-293a098214be"
      },
      "outputs": [
        {
          "output_type": "stream",
          "name": "stdout",
          "text": [
            "train_fraud len        :  337\n",
            "train_not_fraud len    :  199027\n",
            "new train_not_fraud len:  337\n",
            "new training set len   :  674\n",
            "\n",
            "\n",
            "train_fraud len        :  337\n",
            "train_not_fraud len    :  199027\n",
            "new train_not_fraud len:  654\n",
            "new training set len   :  991\n",
            "\n",
            "\n",
            "train_fraud len        :  337\n",
            "train_not_fraud len    :  199027\n",
            "new train_not_fraud len:  1011\n",
            "new training set len   :  1348\n",
            "\n",
            "\n"
          ]
        }
      ],
      "source": [
        "training_set1 = RUS(ratio1, train_set)\n",
        "training_set2 = RUS(ratio2, train_set)\n",
        "training_set3 = RUS(ratio3, train_set)"
      ]
    },
    {
      "cell_type": "markdown",
      "metadata": {
        "id": "5XvX5QJ4xdYq"
      },
      "source": [
        "## **Classification techniques** - Logistic Regression\n",
        "\n"
      ]
    },
    {
      "cell_type": "markdown",
      "source": [
        "Logistic regression is one of the most popular Machine Learning algorithms, which comes under the Supervised Learning technique. It is used for predicting the categorical dependent variable using a given set of independent variables."
      ],
      "metadata": {
        "id": "qFMnU0Hotxz5"
      }
    },
    {
      "cell_type": "markdown",
      "metadata": {
        "id": "Fjt9dlllz7Q4"
      },
      "source": [
        "![1*Z-UWDCFfm9KQ_Xu9OoQadw.png](data:image/png;base64,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)"
      ]
    },
    {
      "cell_type": "markdown",
      "metadata": {
        "id": "7gOZ0ddRxeGS"
      },
      "source": [
        "Firstly we define some useful functions"
      ]
    },
    {
      "cell_type": "markdown",
      "metadata": {
        "id": "IuYpkQkkxjVg"
      },
      "source": [
        "**Sigmoid function**, also called logistic sigmoid function, has the role of activation function.  It is define as \n",
        "\n"
      ]
    },
    {
      "cell_type": "markdown",
      "metadata": {
        "id": "eaJf_xhUzhVG"
      },
      "source": [
        "![Schermata 2021-12-25 alle 09.56.11.png](data:image/png;base64,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)"
      ]
    },
    {
      "cell_type": "markdown",
      "metadata": {
        "id": "RfhbDgHPzreH"
      },
      "source": [
        "where z is \n",
        "\n",
        "> *z = w * x + b*\n",
        "\n",
        "and\n",
        "\n",
        "> *w = weights*\n",
        "\n",
        "> *x = features*\n",
        "\n",
        "> *b = bias*\n"
      ]
    },
    {
      "cell_type": "code",
      "execution_count": null,
      "metadata": {
        "id": "vUzGENhzxl_r"
      },
      "outputs": [],
      "source": [
        "def sigmoid(z):\n",
        "  \"\"\"\n",
        "  This function returns the value of the sigmoid function given an input value\n",
        "\n",
        "  @params: z: a linear combination of the input and the features associated with the training examples\n",
        "  \"\"\"\n",
        "  return (1/(1+jnp.exp(-z)))"
      ]
    },
    {
      "cell_type": "code",
      "execution_count": null,
      "metadata": {
        "id": "-9CHo9oPxn-d"
      },
      "outputs": [],
      "source": [
        "# print the sigmoid function in the range (-7 , +7)\n",
        "\n",
        "# define range\n",
        "z = np.arange(-7, 7, 0.1) \n",
        "\n",
        "# calculate the sigmoid\n",
        "phi_z = sigmoid(z) \n",
        "plt.plot(z, phi_z)\n",
        "\n",
        "plt.axvline(0.0, color='k') \n",
        "plt.ylim(-0.1, 1.1)\n",
        "\n",
        "# add labels \n",
        "plt.xlabel('z')\n",
        "plt.ylabel('$\\phi (z)$')\n",
        "\n",
        "# add y axis ticks and gridline\n",
        "plt.yticks([0.0, 0.5, 1.0])\n",
        "ax = plt.gca() # get current axis\n",
        "ax.yaxis.grid(True) # display axis \n",
        "plt.tight_layout() # adjust the padding between and around subplots"
      ]
    },
    {
      "cell_type": "markdown",
      "metadata": {
        "id": "M9kodSoyyjWk"
      },
      "source": [
        "![Schermata 2021-12-25 alle 09.54.23.png](data:image/png;base64,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)"
      ]
    },
    {
      "cell_type": "markdown",
      "metadata": {
        "id": "oqmLlEQUzvXG"
      },
      "source": [
        "The output of the sigmoid function is interpreted as the probability of\n",
        "a particular example belonging to class 1."
      ]
    },
    {
      "cell_type": "markdown",
      "metadata": {
        "id": "KPCqevV1Li6w"
      },
      "source": [
        "**Loss** can be defined as the error that is present between the actual output and the predicted output. We want the value of the loss function to be as low as possible as it would reduce the loss and the predicted value would be close to the actual value. We will use the following loss function"
      ]
    },
    {
      "cell_type": "markdown",
      "metadata": {
        "id": "tSBdODKBLs90"
      },
      "source": [
        "![Schermata 2021-12-25 alle 11.41.53.png](data:image/png;base64,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)"
      ]
    },
    {
      "cell_type": "markdown",
      "source": [
        "where `log` refers to the natural log"
      ],
      "metadata": {
        "id": "-ZR44gCQJ0_h"
      }
    },
    {
      "cell_type": "code",
      "execution_count": null,
      "metadata": {
        "id": "aaeAwy9bzNjE"
      },
      "outputs": [],
      "source": [
        "def loss(x,y,params):\n",
        "  \"\"\"\n",
        "  This function estimates the cost we want to minimize. The cost is the discrepancy between the real output and the predicted one\n",
        "\n",
        "  @params: x: feature's list\n",
        "  @params: y: real output\n",
        "  @params: params: weights and bias\n",
        "  \"\"\"\n",
        "  # initialize the cost \n",
        "  cost = 0.\n",
        "  weights = params[:-1]\n",
        "  bias = params[-1]\n",
        "\n",
        "  # for each sample calculate the predicted value and so the loss\n",
        "  for i in range(len(x)):\n",
        "    # calculate the sigmoid\n",
        "    yHat = sigmoid(jnp.dot(weights,x[i]) + bias)\n",
        "    not_yHat = 1-yHat\n",
        "    # to prevent the computation of log(0) = inf, the argument of the logarithm will be pre-defined\n",
        "    value = y[i]*yHat + (1-y[i])*not_yHat\n",
        "    cost += (-jnp.log(value))\n",
        "\n",
        "  return (cost)"
      ]
    },
    {
      "cell_type": "markdown",
      "source": [
        "The following plot shows the sigmoid activation on the x-axis in the range 0 to 1 (the inputs to the sigmoid function were z values in the range –10 to 10) and the associated logistic cost on the y-axis"
      ],
      "metadata": {
        "id": "Rf3GFZ3EKk6B"
      }
    },
    {
      "cell_type": "code",
      "execution_count": null,
      "metadata": {
        "id": "frh25CfaQ0YH"
      },
      "outputs": [],
      "source": [
        "# print log function \n",
        "def cost_1(z):\n",
        "  return - np.log(sigmoid(z))\n",
        "\n",
        "def cost_0(z):\n",
        "  return - np.log(1 - sigmoid(z))\n",
        "\n",
        "# define the range\n",
        "z = np.arange(-10, 10, 0.1)\n",
        "phi_z = sigmoid(z)\n",
        "\n",
        "c1 = [cost_1(x) for x in z]\n",
        "plt.plot(phi_z, c1, label='J(w) if y=1')\n",
        "\n",
        "c0 = [cost_0(x) for x in z]\n",
        "plt.plot(phi_z, c0, linestyle='--', label='J(w) if y=0')\n",
        "\n",
        "# impose the limits \n",
        "plt.ylim(0.0, 5.1)\n",
        "plt.xlim([0, 1])\n",
        "\n",
        "# add the axis legend\n",
        "plt.xlabel('$\\phi$(z)')\n",
        "plt.ylabel('J(w)')\n",
        "\n",
        "# add legend\n",
        "plt.legend(loc='best') \n",
        "plt.tight_layout() "
      ]
    },
    {
      "cell_type": "markdown",
      "metadata": {
        "id": "7Kh7YsAeMjtZ"
      },
      "source": [
        "At the beginning, all the weights and the bias are initialized to 0"
      ]
    },
    {
      "cell_type": "code",
      "execution_count": null,
      "metadata": {
        "id": "46bbnBn_Mmo0"
      },
      "outputs": [],
      "source": [
        "def initialize_params(weight_size):\n",
        "  \"\"\"\n",
        "  The purpose of this function is to initialize the weights and bias\n",
        "\n",
        "  @params: weight_size: number of features \n",
        "  @return: array of dimention (weights_size + 1) initialize to zero \n",
        "  \"\"\"\n",
        "  return np.zeros(weight_size + 1) "
      ]
    },
    {
      "cell_type": "markdown",
      "metadata": {
        "id": "Yw93e8n2MpEA"
      },
      "source": [
        "Algorithm: \n",
        "\n",
        "1. divide the training set into features and expected results \n",
        "2. initialize the hyperparameters\n",
        "3. according to the gradient descent rule, update parameters"
      ]
    },
    {
      "cell_type": "code",
      "execution_count": null,
      "metadata": {
        "id": "2op4aFM_MpLB"
      },
      "outputs": [],
      "source": [
        "def training_gradient_descent(training_set):\n",
        "  \"\"\"\n",
        "  This function trains the model  \n",
        "\n",
        "  @params: training_set: bunches of samples \n",
        "  @return: update parameters\n",
        "  \"\"\"\n",
        "\n",
        "  # initialize the lists\n",
        "  x_train = list()\n",
        "  y_train = list()\n",
        "\n",
        "  # split the set into features and results\n",
        "  for sample in training_set:\n",
        "    x_train.append(sample[:-1])\n",
        "    y_train.append(sample[-1])\n",
        "\n",
        "  # inizialize hyperparameters\n",
        "  num_epochs = 1000\n",
        "  learning_rate = 1e-1\n",
        "  params = initialize_params(len(x_train[0]))\n",
        "\n",
        "  # use `jax.jit` to speedup the evaluation of the loss and of the gradients\n",
        "  grad_jit = jax.jit(jax.grad(loss, argnums=2))\n",
        "  loss_jit = jax.jit(loss)\n",
        "\n",
        "  # save the history of the loss function in order to print it at the end of the \n",
        "  # training process\n",
        "  train_history = [loss_jit(x_train, y_train, params)]\n",
        "\n",
        "  # show the progress bar:\n",
        "  t0 = time.time()\n",
        "  # training loop\n",
        "  for epoch in tqdm(range(num_epochs)):\n",
        "    # caluclate the gradient \n",
        "    gradients = grad_jit(x_train, y_train, params)\n",
        "    for i in range(len(params)):\n",
        "      # update the parameters\n",
        "      params[i] -= learning_rate * gradients[i]\n",
        "    train_history.append(loss_jit(x_train, y_train, params))\n",
        "  \n",
        "  print('train loss       : %1.3e' % train_history[-1])\n",
        "  plt.loglog(train_history, label = 'train loss')\n",
        "\n",
        "  return params.copy()"
      ]
    },
    {
      "cell_type": "code",
      "source": [
        "def training_stochastic_gradient_descent(training_set):\n",
        "  \"\"\"\n",
        "  This function trains the model  \n",
        "\n",
        "  @params: training_set: bunches of samples \n",
        "  @return: update parameters\n",
        "  \"\"\"\n",
        "\n",
        "  # initialize the lists\n",
        "  x_train = list()\n",
        "  y_train = list()\n",
        "\n",
        "  # split the set into features and results\n",
        "  for sample in training_set:\n",
        "    x_train.append(sample[:-1])\n",
        "    y_train.append(sample[-1])\n",
        "\n",
        "  # inizialize hyperparameters\n",
        "  num_epochs = 1000\n",
        "  learning_rate = 1e-1\n",
        "  params = initialize_params(len(x_train[0]))  \n",
        "  batch_size = 100\n",
        "  num_train = len(training_set)-1\n",
        "\n",
        "  # use `jax.jit` to speedup the evaluation of the loss and of the gradients\n",
        "  grad_jit = jax.jit(jax.grad(loss, argnums=2))\n",
        "  loss_jit = jax.jit(loss)\n",
        "\n",
        "  # save the history of the loss function in order to print it at the end of the \n",
        "  # training process\n",
        "  train_history = [loss_jit(x_train, y_train, params)]\n",
        "\n",
        "  # training loop\n",
        "  t0 = time.time()\n",
        "  for epoch in tqdm(range(num_epochs)):\n",
        "    minibatch = np.random.choice(num_train, batch_size)\n",
        "    x = list()\n",
        "    y = list()\n",
        "    for i in minibatch:\n",
        "      x.append(x_train[i])\n",
        "      y.append(y_train[i])\n",
        "    gradients = grad_jit(x, y, params)\n",
        "    for i in range(len(params)):\n",
        "      params[i] -= learning_rate * gradients[i]\n",
        "\n",
        "    train_history.append(loss_jit(x_train, y_train, params))\n",
        "\n",
        "  print('train loss: %1.3e' % train_history[-1])\n",
        "  plt.loglog(train_history, label = 'train loss')\n",
        "\n",
        "  return params.copy()"
      ],
      "metadata": {
        "id": "dJhEkmbjbzH-"
      },
      "execution_count": null,
      "outputs": []
    },
    {
      "cell_type": "markdown",
      "metadata": {
        "id": "JnbFqtF8NB8_"
      },
      "source": [
        "Train and Test"
      ]
    },
    {
      "cell_type": "markdown",
      "metadata": {
        "id": "6_HCdB3jN0nP"
      },
      "source": [
        "Collect all the yHat in a list"
      ]
    },
    {
      "cell_type": "code",
      "execution_count": null,
      "metadata": {
        "id": "m8-kxxKvN40M"
      },
      "outputs": [],
      "source": [
        "def predicted_results(x,params):\n",
        "  \"\"\"\n",
        "  This function assigns to each sample the predicted output\n",
        "\n",
        "  @params: x: samples\n",
        "  @params: params: weights and bias\n",
        "  @return: list of predicted output\n",
        "  \"\"\"\n",
        "  # initialize an empty list\n",
        "  prediction = list()\n",
        "\n",
        "  # for each sample compute the sigmoid function \n",
        "  for i in range(len(x)):\n",
        "    weights = params[:-1]\n",
        "    bias = params[-1]\n",
        "    # cast the result to 1 if sigmoid >= 0.5 \n",
        "    if(sigmoid(jnp.dot(weights,x[i])+ bias)) >= 0.5:\n",
        "      prediction.append(1.)\n",
        "    else:\n",
        "      prediction.append(0.)\n",
        "  return prediction"
      ]
    },
    {
      "cell_type": "code",
      "source": [
        "def logistic_regression(training_set, test_set):\n",
        "  x_valid = list()\n",
        "  y_valid = list()\n",
        "\n",
        "  for sample in test_set:\n",
        "    x_valid.append(sample[:-1])\n",
        "    y_valid.append(sample[-1])\n",
        "\n",
        "  # train the model\n",
        "  params = training_stochastic_gradient_descent(training_set)\n",
        "\n",
        "  # test the model \n",
        "  print('validation loss 1: %1.3e \\n' % loss(x_valid,y_valid,params))\n",
        "\n",
        "  return predicted_results(x_valid,params)"
      ],
      "metadata": {
        "id": "qXFaURazaLC5"
      },
      "execution_count": null,
      "outputs": []
    },
    {
      "cell_type": "markdown",
      "source": [
        "### Apply the algorithm "
      ],
      "metadata": {
        "id": "5izeUD4kbbkx"
      }
    },
    {
      "cell_type": "code",
      "source": [
        "predictionsLR1 = logistic_regression(training_set1,valid_set)"
      ],
      "metadata": {
        "id": "Vc_-Dj5ufJZK"
      },
      "execution_count": null,
      "outputs": []
    },
    {
      "cell_type": "code",
      "source": [
        "predictionsLR2 = logistic_regression(training_set2,valid_set)"
      ],
      "metadata": {
        "id": "e499La73bZWn"
      },
      "execution_count": null,
      "outputs": []
    },
    {
      "cell_type": "code",
      "source": [
        "predictionsLR3 = logistic_regression(training_set3,valid_set)"
      ],
      "metadata": {
        "id": "nkSPmjBRbafE"
      },
      "execution_count": null,
      "outputs": []
    },
    {
      "cell_type": "markdown",
      "source": [
        "## **Classification techniques** - K-Nearest Neighbours"
      ],
      "metadata": {
        "id": "XKE7mqp0sfrQ"
      }
    },
    {
      "cell_type": "markdown",
      "source": [
        "Three main steps:\n",
        "1. calculate Euclidean distance;\n",
        "2. get nearest neighbours;\n",
        "3. make predictions."
      ],
      "metadata": {
        "id": "LYlp3XmBFULo"
      }
    },
    {
      "cell_type": "markdown",
      "source": [
        "### Define the distance"
      ],
      "metadata": {
        "id": "U3fiY9jV-hYf"
      }
    },
    {
      "cell_type": "markdown",
      "source": [
        "There are various kinds of distances, for instance Euclidean distance, Hamming distance, Manhattan distance and Minkowski distance. For the euclidean distance, I simply compute the L2 norm of two vectors (the rows of the dataset):"
      ],
      "metadata": {
        "id": "8w2YPiboHi6-"
      }
    },
    {
      "cell_type": "code",
      "source": [
        "def euclidean_distance(row1, row2):\n",
        "  ''' It computes the Euclidean distance between vectors row1 and row2.\n",
        "\n",
        "  @param: row1 First vector.\n",
        "  @param: row2 Second vector.  \n",
        "  '''\n",
        "  \n",
        "  distance = 0.0\n",
        "  for i in range(len(row1)-1): # go up to len(row)-1 because the last element of the row is the output\n",
        "    distance += (row1[i] - row2[i])**2\n",
        "  return sqrt(distance)"
      ],
      "metadata": {
        "id": "wzsXSmuwFRZD"
      },
      "execution_count": 17,
      "outputs": []
    },
    {
      "cell_type": "markdown",
      "source": [
        "### Get nearest neighbours"
      ],
      "metadata": {
        "id": "-zf1uUYSIn93"
      }
    },
    {
      "cell_type": "markdown",
      "source": [
        "The steps are:\n",
        "1.   take a sample;\n",
        "2.   compute the distance between such sample and every other sample in the dataset;\n",
        "3. sort the samples (in descending order) according to the computed distances;\n",
        "4. select the best k samples (the nearest neighbours).\n",
        "\n"
      ],
      "metadata": {
        "id": "jrDA6vgZI8xj"
      }
    },
    {
      "cell_type": "code",
      "source": [
        "def get_neighbors(train_set, sample, k):\n",
        "  \"\"\" It returns a list containing the k nearest neighbours of sample in train.\n",
        "\n",
        "  @param: train_set The training set from which extracting the neighbours.\n",
        "  @param: sample The sample to consider; we want its neighbours.\n",
        "  @param: k The number of nearest neighbours to extract.\n",
        "  \"\"\"\n",
        "\n",
        "  distances = list() # here I store all the distances\n",
        "\n",
        "  # compute the distances\n",
        "  for train_row in train_set:\n",
        "    dist = euclidean_distance(sample, train_row)\n",
        "    distances.append((train_row, dist)) # in distances I append pairs of values row-distance\n",
        "\n",
        "  # sort the samples:\n",
        "  # key is a lambda which is executed prior to make comparisons; so we are sorting\n",
        "  # the samples by the second (0-indexed) elements of objects in distances (namely, the distances)\n",
        "  distances.sort(key=lambda tup: tup[1]) \n",
        "\n",
        "  # get the neighbours\n",
        "  neighbors = list()\n",
        "  for i in range(k):\n",
        "    neighbors.append(distances[i][0]) # append only the sample (not the distance)\n",
        "\n",
        "  return neighbors"
      ],
      "metadata": {
        "id": "UeVGBXboIx5L"
      },
      "execution_count": 18,
      "outputs": []
    },
    {
      "cell_type": "markdown",
      "source": [
        "### Make predictions"
      ],
      "metadata": {
        "id": "Y9LkSghrIoEL"
      }
    },
    {
      "cell_type": "markdown",
      "source": [
        "It is a classification task: we just have to compute the most frequent class in the neighborood to carry out the prediction:"
      ],
      "metadata": {
        "id": "R93vA7TWN4to"
      }
    },
    {
      "cell_type": "code",
      "source": [
        "def predict_classification(training_set, sample, k):\n",
        "  '''It provides a prediction for sample using the training_set and the best k neighbours.\n",
        "\n",
        "  @param: training_set It is the training set to use for providing a prediction for sample.\n",
        "  @param: sample The sample for which providing the prediction.\n",
        "  @param: k The hyperparameter of the algorithm; it represents the number of nearest neighbours to use.\n",
        "  '''\n",
        "\n",
        "  # get the k-nearest neighbours\n",
        "  neighbors = get_neighbors(training_set, sample, k)\n",
        "\n",
        "  # get the classes of the k-nearest neighbours\n",
        "  output_values = [row[-1] for row in neighbors] # I take row[-1] because the class is the last entry of the row\n",
        "\n",
        "  # perform the prediction: I take the most frequent class (output value)\n",
        "  prediction = max(set(output_values), key=output_values.count)\n",
        "  \n",
        "  return prediction"
      ],
      "metadata": {
        "id": "nAIrA-DNN3M_"
      },
      "execution_count": 19,
      "outputs": []
    },
    {
      "cell_type": "markdown",
      "source": [
        "### Algorithm"
      ],
      "metadata": {
        "id": "80pNJznZGMqp"
      }
    },
    {
      "cell_type": "code",
      "source": [
        "# KNN Algorithm\n",
        "def k_nearest_neighbors(training_set, test_set, k):\n",
        "\t\"\"\"\n",
        "\tIt applies the KNN algorithm to each entry of the test_set using the training_set as training set\n",
        "\tand using k as hyperparameter.\n",
        "\n",
        "\t@param: training_set It is the training set to use.\n",
        "\t@param: test_set It is the test set; this function provides a prediction for each entry of the test_set.\n",
        "\t@param: k It represents the main hyperparameter of the algorithm, namely it says how many nearest neighbours\n",
        "\tto use for computing the prediction.\n",
        "\t\"\"\"\n",
        "\n",
        "\t# we return a list of predictions\n",
        "\tpredictions = list()\n",
        " \n",
        "\t# compute a prediction for each entry of the test_set\n",
        "\tfor row in test_set:\n",
        "\t\toutput = predict_classification(training_set, row, k)\n",
        "\t\tpredictions.append(output)\n",
        "\t\n",
        "\treturn(predictions)"
      ],
      "metadata": {
        "id": "ThFdCsp3bFah"
      },
      "execution_count": 20,
      "outputs": []
    },
    {
      "cell_type": "markdown",
      "source": [
        "### Apply the algorithm"
      ],
      "metadata": {
        "id": "FE4RX-9fLeMv"
      }
    },
    {
      "cell_type": "code",
      "source": [
        "# hyperparameter k\n",
        "k = 10\n",
        "\n",
        "# apply random under sampling to the test set\n",
        "test_set1 = RUS(ratio1, valid_set)\n",
        "test_set2 = RUS(ratio2, valid_set)\n",
        "test_set3 = RUS(ratio3, valid_set)"
      ],
      "metadata": {
        "colab": {
          "base_uri": "https://localhost:8080/"
        },
        "id": "QWILK4pZtUWF",
        "outputId": "bf2d4893-2817-4375-bca5-c74a521bd90a"
      },
      "execution_count": 21,
      "outputs": [
        {
          "output_type": "stream",
          "name": "stdout",
          "text": [
            "train_fraud len        :  155\n",
            "train_not_fraud len    :  85288\n",
            "new train_not_fraud len:  155\n",
            "new training set len   :  310\n",
            "\n",
            "\n",
            "train_fraud len        :  155\n",
            "train_not_fraud len    :  85288\n",
            "new train_not_fraud len:  300\n",
            "new training set len   :  455\n",
            "\n",
            "\n",
            "train_fraud len        :  155\n",
            "train_not_fraud len    :  85288\n",
            "new train_not_fraud len:  465\n",
            "new training set len   :  620\n",
            "\n",
            "\n"
          ]
        }
      ]
    },
    {
      "cell_type": "code",
      "source": [
        "# proportion 1: 50:50\n",
        "predictionsKNN1 = k_nearest_neighbors(training_set1, test_set1, k)"
      ],
      "metadata": {
        "id": "OhIUIJH3Blon"
      },
      "execution_count": 22,
      "outputs": []
    },
    {
      "cell_type": "code",
      "source": [
        "# proportion 2: 34:66\n",
        "predictionsKNN2 = k_nearest_neighbors(training_set2, test_set2, k)"
      ],
      "metadata": {
        "id": "satHUBWLMDB3"
      },
      "execution_count": 23,
      "outputs": []
    },
    {
      "cell_type": "code",
      "source": [
        "# proportion 3: 25:75\n",
        "predictionsKNN3 = k_nearest_neighbors(training_set3, test_set3, k)"
      ],
      "metadata": {
        "id": "iJEzE4jVMEgB"
      },
      "execution_count": 24,
      "outputs": []
    },
    {
      "cell_type": "markdown",
      "source": [
        "## **Classification techniques** - Naive Bayes"
      ],
      "metadata": {
        "id": "oX4smqBgwcHW"
      }
    },
    {
      "cell_type": "markdown",
      "source": [
        "Five main steps:\n",
        "\n",
        "1. separate all the rows by class (divide the dataset in more datasets, one for each class);\n",
        "2. summarize dataset, namely compute mean, variance and cardinality of each column of the dataset;\n",
        "3. summarize the dataset by class, namely do the same as 2. but for each dataset created at 1.;\n",
        "4. define the probability density function with which modelling the distribution of each column for each class (strong assumption);\n",
        "5. compute the class probabilities by applying the Bayes theorem (simplified).\n",
        "\n",
        "\n"
      ],
      "metadata": {
        "id": "qKCJqCliOGwC"
      }
    },
    {
      "cell_type": "markdown",
      "source": [
        "The main goal is to apply the formula:\n",
        "\n",
        "$p(y_i|x_1,x_2,...,x_n) = p(x_1|y_i)p(x_2|y_i)...p(x_n|y_i)p(y_i)$\n",
        "\n",
        "which is the Bayes theorem simplified with two assumptions:\n",
        "1. the variables($x_j$) are independent;\n",
        "2. since the denominator, under 1., becomes a constant ($p(x_1)p(x_2)...p(x_n)$), we can remove it, since we care only about the maximum value, and not about the probability itself."
      ],
      "metadata": {
        "id": "YId1-8AkRIF7"
      }
    },
    {
      "cell_type": "markdown",
      "source": [
        "### Separate by class"
      ],
      "metadata": {
        "id": "DD0aKmWCzsUp"
      }
    },
    {
      "cell_type": "markdown",
      "source": [
        "We can create a dictionary object where each key is the class value and each object is a list of all the records with that class value; the structure is:\n",
        "\n",
        "separated = {class_value1: [entry1, entry2,...], class_value2: [entry1, entry2,...],}\n",
        "\n",
        "where class_valuei represents the i-th class value, and the list contains all entries of the dataset with that class value."
      ],
      "metadata": {
        "id": "gf1sjdeZzuom"
      }
    },
    {
      "cell_type": "code",
      "source": [
        "def separate_by_class(dataset):\n",
        "  \"\"\"\n",
        "  It returns a dictionary whose keys are the class values and whose objects are lists\n",
        "  of entries of the dataset with the proper class value.\n",
        "  \n",
        "  @param: dataset It is a list of lists, where each inner list is a sample.\n",
        "  \"\"\"\n",
        "\n",
        "  separated = dict()\n",
        "\n",
        "  # for each entry of the dataset, add it to the list associated to its class value\n",
        "  for i in range(len(dataset)):\n",
        "    vector = dataset[i]\n",
        "    class_value = vector[-1] # the class is in the last column\n",
        "\n",
        "    # if the class value is not present in the dictionary, add it as a key along with a new list\n",
        "    if (class_value not in separated):\n",
        "      separated[class_value] = list()\n",
        "\n",
        "    # add the entry to the dictionary\n",
        "    separated[class_value].append(vector)\n",
        "\n",
        "  return separated"
      ],
      "metadata": {
        "id": "wJXLf1FyzwWB"
      },
      "execution_count": 25,
      "outputs": []
    },
    {
      "cell_type": "markdown",
      "source": [
        "### Summarize dataset"
      ],
      "metadata": {
        "id": "rvL9zKUo0b0p"
      }
    },
    {
      "cell_type": "markdown",
      "source": [
        "In order to compute all the probabilities we need to make a prediction, we need to know mean, standard deviation and cardinality of each column:"
      ],
      "metadata": {
        "id": "yPCOtBzn01d4"
      }
    },
    {
      "cell_type": "code",
      "source": [
        "# mean\n",
        "def mean(numbers):\n",
        "  '''It calculates the mean of a list of numbers.\n",
        "  \n",
        "  @param: numbers It is a list of numbers.'''\n",
        "\n",
        "  return sum(numbers)/float(len(numbers))"
      ],
      "metadata": {
        "id": "n08kBIKQ0gZ6"
      },
      "execution_count": 26,
      "outputs": []
    },
    {
      "cell_type": "code",
      "source": [
        "# standard deviation\n",
        "def stdev(numbers):\n",
        "  '''It calculates the standard deviation of a list of numbers.\n",
        "  \n",
        "  @param: numbers It is a list of numbers.'''\n",
        "\n",
        "  avg = mean(numbers)\n",
        "  variance = sum([(x-avg)**2 for x in numbers]) / float(len(numbers)-1)\n",
        "  return sqrt(variance)"
      ],
      "metadata": {
        "id": "-PV8MpnA0_pj"
      },
      "execution_count": 27,
      "outputs": []
    },
    {
      "cell_type": "code",
      "source": [
        "# Calculate the mean, stdev and count for each column in a dataset\n",
        "def summarize_dataset(dataset):\n",
        "  \"\"\"\n",
        "  It returns a list of triples. The returned summaries contains one triple for each\n",
        "  column of dataset (except for the last column); each triple contains (mean, std, len).\n",
        "  \n",
        "  @param: dataset It is a list of lists, where each inner list is a sample of the dataset.\n",
        "  \"\"\"\n",
        "  \n",
        "  # through the asterisk and the zip function I can create an iterable of lists\n",
        "  # whose elements are the columns of the dataset\n",
        "  summaries = [(mean(column), stdev(column), len(column)) for column in zip(*dataset)]\n",
        "\n",
        "  # summaries is a list; I delete the last element, which are the statistics for the class column\n",
        "  del(summaries[-1])\n",
        "  \n",
        "  return summaries"
      ],
      "metadata": {
        "id": "dSlRKAV71lJx"
      },
      "execution_count": 28,
      "outputs": []
    },
    {
      "cell_type": "markdown",
      "source": [
        "### Summarize data by class"
      ],
      "metadata": {
        "id": "loVhh1586nAX"
      }
    },
    {
      "cell_type": "markdown",
      "source": [
        "We require statistics from our training dataset organized by class:"
      ],
      "metadata": {
        "id": "tuRGZ3vy6olI"
      }
    },
    {
      "cell_type": "code",
      "source": [
        "def summarize_by_class(dataset):\n",
        "  \"\"\"\n",
        "  It returns a dictionary where the keys are the class values and the objects are\n",
        "  lists of triples. So, to each class value (key) we associate a list of triples, where\n",
        "  each triple contains (mean,std,len) of a column. The cardinality of each list is equal\n",
        "  to the number of columns (features xi) of the dataset.\n",
        "\n",
        "  @param: dataset It is a list of lists, where each inner list is a sample.\n",
        "  \"\"\"\n",
        "\n",
        "  # get a dictionary class_value -> entries\n",
        "  separated = separate_by_class(dataset)\n",
        "\n",
        "  summaries = dict()\n",
        "\n",
        "  # for each list of entries of a class value, compute the statistics and store them into summaries\n",
        "  for class_value, rows in separated.items():\n",
        "    summaries[class_value] = summarize_dataset(rows)\n",
        "    \n",
        "  return summaries"
      ],
      "metadata": {
        "id": "7M6Cgd0q7g4U"
      },
      "execution_count": 29,
      "outputs": []
    },
    {
      "cell_type": "markdown",
      "source": [
        "### Probability Density Function"
      ],
      "metadata": {
        "id": "DCtx0dMP9TkN"
      }
    },
    {
      "cell_type": "markdown",
      "source": [
        "Since calculating the probability of observing a certain real-value given the label is difficult, we assume that the distribution is known."
      ],
      "metadata": {
        "id": "GH5pT-av9Wih"
      }
    },
    {
      "cell_type": "code",
      "source": [
        "def calculate_probability(x, mean, stdev):\n",
        "  \"\"\"\n",
        "  It computes the Gaussian probability distribution function for a value x\n",
        "  given the mean and the standard deviation.\n",
        "\n",
        "  @param: mean It is the mean of the distribution.\n",
        "  @param: stdev It is the standard deviation of the distribution.\n",
        "  \"\"\"\n",
        "  \n",
        "  exponent = exp(-((x-mean)**2 / (2 * stdev**2 )))\n",
        "  return (1 / (sqrt(2 * pi) * stdev)) * exponent"
      ],
      "metadata": {
        "id": "axN8ZM_P-NR_"
      },
      "execution_count": 30,
      "outputs": []
    },
    {
      "cell_type": "markdown",
      "source": [
        "### Class Probabilities"
      ],
      "metadata": {
        "id": "nLnx4nBO-_iy"
      }
    },
    {
      "cell_type": "markdown",
      "source": [
        "Given a certain sample for which we want to compute the most likely label, we compute the value of:\n",
        "\n",
        "$p(y_i|x_1,x_2,...,x_n) = p(x_1|y_i)p(x_2|y_i)...p(x_n|y_i)p(y_i)$\n",
        "\n",
        "for each of the possible class values."
      ],
      "metadata": {
        "id": "VVwiNEwU_BRz"
      }
    },
    {
      "cell_type": "code",
      "source": [
        "def calculate_class_probabilities(summaries, sample):\n",
        "  \"\"\"\n",
        "  It computes a dictionary whose keys are the class values yi and whose objects are\n",
        "  the values of p(yi|x1,x2,...xn). To do so, it applies the Bayes formula under\n",
        "  the independency assumption of the features.\n",
        "\n",
        "  @param: summaries It is a dictionary whose keys are the class values and whose objects\n",
        "          are lists of triples, where each triple represents the statistics of a column.\n",
        "  @param: sample It is one sample, one row of the original dataset on which we want to\n",
        "          make a prediction.\n",
        "  \"\"\"\n",
        "\n",
        "  # compute the total number of rows in the dataset\n",
        "  total_rows = sum([summaries[class_value][0][2] for class_value in summaries])\n",
        "\n",
        "  probabilities = dict()\n",
        "\n",
        "  # for each class value yi, compute the value of p(yi|x1,x2,...xn) and add it to probabilities.\n",
        "  for class_value, class_summaries in summaries.items():\n",
        "    \n",
        "    # p(yi) = n_samples_of_the_class / total_n_of_samples\n",
        "    probabilities[class_value] = summaries[class_value][0][2]/float(total_rows)\n",
        "\n",
        "    # for each of the columns (feature xi) of the dataset (the last was previously removed)\n",
        "    for i in range(len(class_summaries)):\n",
        "      mean, stdev, count = class_summaries[i]\n",
        "\n",
        "      # the probability p(yi|x1,x2,...,xn)=p(yi)*p(x1|yi)*p(x2|yi)*...*p(xn|yi)\n",
        "      probabilities[class_value] *= calculate_probability(sample[i], mean, stdev)\n",
        "   \n",
        "  # we return a dictionary that contains, for each class value, the probability:\n",
        "  # class_value yi -> p(yi|x1,x2,...xn)\n",
        "  return probabilities"
      ],
      "metadata": {
        "id": "etX9cMI8CiIA"
      },
      "execution_count": 31,
      "outputs": []
    },
    {
      "cell_type": "markdown",
      "source": [
        "### Make predictions"
      ],
      "metadata": {
        "id": "aq1zHQd-Y8NX"
      }
    },
    {
      "cell_type": "markdown",
      "source": [
        "Select the class with highest probability to make a prediction:"
      ],
      "metadata": {
        "id": "OMauezBgZTCv"
      }
    },
    {
      "cell_type": "code",
      "source": [
        "# Predict the class for a given sample\n",
        "def predict(summaries, sample):\n",
        "\t# compute the possibility yi -> p(yi|x1,x2,...xn) for each class yi\n",
        "\tprobabilities = calculate_class_probabilities(summaries, sample)\n",
        "\tbest_label, best_prob = None, -1\n",
        "\n",
        "  # extract the class with maximum value\n",
        "\tfor class_value, probability in probabilities.items():\n",
        "\t\tif best_label is None or probability > best_prob:\n",
        "\t\t\tbest_prob = probability\n",
        "\t\t\tbest_label = class_value\n",
        "\t\t\t\n",
        "\treturn best_label"
      ],
      "metadata": {
        "id": "DxnrHDopHlbE"
      },
      "execution_count": 32,
      "outputs": []
    },
    {
      "cell_type": "markdown",
      "source": [
        "### Algorithm"
      ],
      "metadata": {
        "id": "Vi331QhFW2XF"
      }
    },
    {
      "cell_type": "markdown",
      "source": [
        "Compute a prediction for each sample in the test set; the training set is used only at the beginning to learn the distributions of all the $p(y_i)$ and $p(x_j|y_i)$."
      ],
      "metadata": {
        "id": "BmH2E2KqZl8j"
      }
    },
    {
      "cell_type": "code",
      "source": [
        "# Naive Bayes Algorithm\n",
        "def naive_bayes(training_set, test_set):\n",
        "\n",
        "  # I compute all the statistics needed on the training_set\n",
        "  summarize = summarize_by_class(training_set)\n",
        "\n",
        "  predictions = list()\n",
        "\n",
        "  # for each row in the test_set I compute the prediction and I append it in predictions list\n",
        "  for row in test_set:\n",
        "    output = predict(summarize, row)\n",
        "    predictions.append(output)\n",
        "\n",
        "  # return a list with all the predictions\n",
        "  return(predictions)"
      ],
      "metadata": {
        "id": "wKpdR1EbImXD"
      },
      "execution_count": 33,
      "outputs": []
    },
    {
      "cell_type": "markdown",
      "source": [
        "### Apply the algorithm"
      ],
      "metadata": {
        "id": "75T0PJzaHjXC"
      }
    },
    {
      "cell_type": "code",
      "source": [
        "# proportion 1: 50:50\n",
        "predictionsNB1 = naive_bayes(training_set1, valid_set)"
      ],
      "metadata": {
        "id": "ayzFTT3IxS6V"
      },
      "execution_count": 34,
      "outputs": []
    },
    {
      "cell_type": "code",
      "source": [
        "# proportion 2: 34:66\n",
        "predictionsNB2 = naive_bayes(training_set2, valid_set)"
      ],
      "metadata": {
        "id": "ksfn8P5pxS6X"
      },
      "execution_count": 35,
      "outputs": []
    },
    {
      "cell_type": "code",
      "source": [
        "# proportion 3: 25:75\n",
        "predictionsNB3 = naive_bayes(training_set3, valid_set)"
      ],
      "metadata": {
        "id": "G96FUHt1xS6X"
      },
      "execution_count": 36,
      "outputs": []
    },
    {
      "cell_type": "markdown",
      "metadata": {
        "id": "PMQ2vQlIOE3c"
      },
      "source": [
        "## Performance evaluation"
      ]
    },
    {
      "cell_type": "markdown",
      "source": [
        "Calculete the parametes "
      ],
      "metadata": {
        "id": "NHiLRbIOH1Od"
      }
    },
    {
      "cell_type": "code",
      "execution_count": 37,
      "metadata": {
        "id": "wNWEiVqQOIqJ"
      },
      "outputs": [],
      "source": [
        "def collect_rates(y_valid,prediction1,prediction2,prediction3):\n",
        "  \"\"\"\n",
        "  This function returs the number of TP,TN,FP,FN\n",
        "\n",
        "  @params: y_valid: expected output\n",
        "  @params: prediction1: output predicted by the model trained with the ratio 50:50\n",
        "  @params: prediction2: output predicted by the model trained with the ratio 34:64\n",
        "  @params: prediction3: output predicted by the model trained with the ratio 25:75\n",
        "  @return: list[TP,TN,FP,FN]\n",
        "  \"\"\"\n",
        "\n",
        "  truePositive = [0,0,0]\n",
        "  trueNegative = [0,0,0]\n",
        "  falsePositive = [0,0,0]\n",
        "  falseNegative = [0,0,0]\n",
        "\n",
        "  for i in range(len(y_valid)):\n",
        "\n",
        "    if (y_valid[i] == 1) and (prediction1[i]== 1 ):\n",
        "      truePositive[0] += 1\n",
        "    if (y_valid[i] == 0) and (prediction1[i] == 0):\n",
        "      trueNegative[0] += 1\n",
        "    if (y_valid[i] == 0) and (prediction1[i]== 1 ):\n",
        "      falsePositive[0] += 1\n",
        "    if (y_valid[i] == 1) and (prediction1[i] == 0):\n",
        "      falseNegative[0] += 1\n",
        "\n",
        "    if (y_valid[i] == 1) and (prediction2[i]== 1 ):\n",
        "      truePositive[1] += 1\n",
        "    if (y_valid[i] == 0) and (prediction2[i] == 0):\n",
        "      trueNegative[1] += 1\n",
        "    if (y_valid[i] == 0) and (prediction2[i]== 1 ):\n",
        "      falsePositive[1] += 1\n",
        "    if (y_valid[i] == 1) and (prediction2[i] == 0):\n",
        "      falseNegative[1] += 1\n",
        "\n",
        "    if (y_valid[i] == 1) and (prediction3[i]== 1 ):\n",
        "      truePositive[2] += 1\n",
        "    if (y_valid[i] == 0) and (prediction3[i] == 0):\n",
        "      trueNegative[2] += 1\n",
        "    if (y_valid[i] == 0) and (prediction3[i]== 1 ):\n",
        "      falsePositive[2] += 1\n",
        "    if (y_valid[i] == 1) and (prediction3[i] == 0):\n",
        "      falseNegative[2] += 1\n",
        "  \n",
        "  return np.array([truePositive,trueNegative,falsePositive,falseNegative])"
      ]
    },
    {
      "cell_type": "code",
      "execution_count": 63,
      "metadata": {
        "id": "ceZBVQaYahN4"
      },
      "outputs": [],
      "source": [
        "def collect_rates_single_prediction(y_valid,prediction):\n",
        "  \"\"\"\n",
        "  This function returs the number of TP,TN,FP,FN\n",
        "\n",
        "  @params: y_valid: expected output\n",
        "  @params: prediction1: output predicted by the model trained with the ratio 50:50\n",
        "  @params: prediction2: output predicted by the model trained with the ratio 34:64\n",
        "  @params: prediction3: output predicted by the model trained with the ratio 25:75\n",
        "  @return: list[TP,TN,FP,FN]\n",
        "  \"\"\"\n",
        "\n",
        "  truePositive = 0\n",
        "  trueNegative = 0\n",
        "  falsePositive = 0\n",
        "  falseNegative = 0\n",
        "\n",
        "  for i in range(len(y_valid)):\n",
        "\n",
        "    if (y_valid[i] == 1) and (prediction[i]== 1 ):\n",
        "      truePositive += 1\n",
        "    if (y_valid[i] == 0) and (prediction[i] == 0):\n",
        "      trueNegative += 1\n",
        "    if (y_valid[i] == 0) and (prediction[i]== 1 ):\n",
        "      falsePositive += 1\n",
        "    if (y_valid[i] == 1) and (prediction[i] == 0):\n",
        "      falseNegative += 1\n",
        "  \n",
        "  return [truePositive,trueNegative,falsePositive,falseNegative]"
      ]
    },
    {
      "cell_type": "code",
      "source": [
        "def collect_rates_test_subsets(test_set1,test_set2,test_set3,prediction1,prediction2,prediction3):\n",
        "  \"\"\"\n",
        "  This function returs the number of TP,TN,FP,FN\n",
        "\n",
        "  @params: test_set1: expected output for prefiction1\n",
        "  @params: test_set2: expected output for prefiction2\n",
        "  @params: test_set3: expected output for prefiction3\n",
        "  @params: prediction1: output predicted by the model trained with the ratio 50:50\n",
        "  @params: prediction2: output predicted by the model trained with the ratio 34:64\n",
        "  @params: prediction3: output predicted by the model trained with the ratio 25:75\n",
        "  @return: list[TP,TN,FP,FN]\n",
        "  \"\"\"\n",
        "  #save just the last column\n",
        "\n",
        "  truePositive = [0,0,0]\n",
        "  trueNegative = [0,0,0]\n",
        "  falsePositive = [0,0,0]\n",
        "  falseNegative = [0,0,0]\n",
        "\n",
        "  for i in range(len(test_set1)):\n",
        "\n",
        "    if (test_set1[i][-1] == 1) and (prediction1[i]== 1 ):\n",
        "      truePositive[0] += 1\n",
        "    if (test_set1[i][-1] == 0) and (prediction1[i] == 0):\n",
        "      trueNegative[0] += 1\n",
        "    if (test_set1[i][-1] == 0) and (prediction1[i]== 1 ):\n",
        "      falsePositive[0] += 1\n",
        "    if (test_set1[i][-1] == 1) and (prediction1[i] == 0):\n",
        "      falseNegative[0] += 1\n",
        "\n",
        "  for i in range(len(test_set2)):\n",
        "\n",
        "    if (test_set2[i][-1] == 1) and (prediction2[i]== 1 ):\n",
        "      truePositive[1] += 1\n",
        "    if (test_set2[i][-1] == 0) and (prediction2[i] == 0):\n",
        "      trueNegative[1] += 1\n",
        "    if (test_set2[i][-1] == 0) and (prediction2[i]== 1 ):\n",
        "      falsePositive[1] += 1\n",
        "    if (test_set2[i][-1] == 1) and (prediction2[i] == 0):\n",
        "      falseNegative[1] += 1\n",
        "\n",
        "  for i in range(len(test_set3)):\n",
        "    if (test_set3[i][-1] == 1) and (prediction3[i]== 1 ):\n",
        "      truePositive[2] += 1\n",
        "    if (test_set3[i][-1] == 0) and (prediction3[i] == 0):\n",
        "      trueNegative[2] += 1\n",
        "    if (test_set3[i][-1] == 0) and (prediction3[i]== 1 ):\n",
        "      falsePositive[2] += 1\n",
        "    if (test_set3[i][-1] == 1) and (prediction3[i] == 0):\n",
        "      falseNegative[2] += 1\n",
        "  \n",
        "  return np.array([truePositive,trueNegative,falsePositive,falseNegative])"
      ],
      "metadata": {
        "id": "YTMb_9Q7BTK2"
      },
      "execution_count": 38,
      "outputs": []
    },
    {
      "cell_type": "code",
      "source": [
        "#performancesLR = collect_rates(y_valid,predictionsLR1,predictionsLR2,predictionsLR3)\n",
        "performancesKNN = collect_rates_test_subsets(test_set1,test_set2,test_set3,predictionsKNN1,predictionsKNN2,predictionsKNN3)\n",
        "performancesNB = collect_rates(y_valid,predictionsNB1,predictionsNB2,predictionsNB3)"
      ],
      "metadata": {
        "id": "sKzd8bwP306F",
        "colab": {
          "base_uri": "https://localhost:8080/",
          "height": 212
        },
        "outputId": "1abc458f-499c-46fa-c4fa-47915ad19390"
      },
      "execution_count": 40,
      "outputs": [
        {
          "output_type": "error",
          "ename": "NameError",
          "evalue": "ignored",
          "traceback": [
            "\u001b[0;31m---------------------------------------------------------------------------\u001b[0m",
            "\u001b[0;31mNameError\u001b[0m                                 Traceback (most recent call last)",
            "\u001b[0;32m<ipython-input-40-087e976f3631>\u001b[0m in \u001b[0;36m<module>\u001b[0;34m()\u001b[0m\n\u001b[1;32m      1\u001b[0m \u001b[0;31m#performancesLR = collect_rates(y_valid,predictionsLR1,predictionsLR2,predictionsLR3)\u001b[0m\u001b[0;34m\u001b[0m\u001b[0;34m\u001b[0m\u001b[0;34m\u001b[0m\u001b[0m\n\u001b[1;32m      2\u001b[0m \u001b[0mperformancesKNN\u001b[0m \u001b[0;34m=\u001b[0m \u001b[0mcollect_rates_test_subsets\u001b[0m\u001b[0;34m(\u001b[0m\u001b[0mtest_set1\u001b[0m\u001b[0;34m,\u001b[0m\u001b[0mtest_set2\u001b[0m\u001b[0;34m,\u001b[0m\u001b[0mtest_set3\u001b[0m\u001b[0;34m,\u001b[0m\u001b[0mpredictionsKNN1\u001b[0m\u001b[0;34m,\u001b[0m\u001b[0mpredictionsKNN2\u001b[0m\u001b[0;34m,\u001b[0m\u001b[0mpredictionsKNN3\u001b[0m\u001b[0;34m)\u001b[0m\u001b[0;34m\u001b[0m\u001b[0;34m\u001b[0m\u001b[0m\n\u001b[0;32m----> 3\u001b[0;31m \u001b[0mperformancesNB\u001b[0m \u001b[0;34m=\u001b[0m \u001b[0mcollect_rates\u001b[0m\u001b[0;34m(\u001b[0m\u001b[0my_valid\u001b[0m\u001b[0;34m,\u001b[0m\u001b[0mpredictionsNB1\u001b[0m\u001b[0;34m,\u001b[0m\u001b[0mpredictionsNB2\u001b[0m\u001b[0;34m,\u001b[0m\u001b[0mpredictionsNB3\u001b[0m\u001b[0;34m)\u001b[0m\u001b[0;34m\u001b[0m\u001b[0;34m\u001b[0m\u001b[0m\n\u001b[0m",
            "\u001b[0;31mNameError\u001b[0m: name 'y_valid' is not defined"
          ]
        }
      ]
    },
    {
      "cell_type": "code",
      "source": [
        "algorithms = [\"Logistic Regression\", \"K-Nearest Neighbours\", \"Naive Bayes\"]\n",
        "ratio = [\"ratio 50:50\", \"ratio 34:66\", \"ratio 25:75\"]\n",
        "values = [\"TP\", \"TN\", \"FP\", \"FN\"]\n",
        "\n",
        "print(\"\\033[1m\" + algorithms[0] + \"\\033[0m\")\n",
        "for i in range(len(performancesLR[0])):\n",
        "  print(ratio[i])\n",
        "  for j in range(len(performancesLR)):\n",
        "    print(values[j] + \" : %d\" % performancesLR[j][i])\n",
        "  print('\\n')\n",
        "\n",
        "print(\"\\033[1m\" + algorithms[1] + \"\\033[0m\")\n",
        "for i in range(len(performancesKNN[0])):\n",
        "  print(ratio[i])\n",
        "  for j in range(len(performancesKNN)):\n",
        "    print(values[j] + \" : %d\" % performancesKNN[j][i])\n",
        "  print('\\n')\n",
        "\n",
        "print(\"\\033[1m\" + algorithms[2] + \"\\033[0m\")\n",
        "for i in range(len(performancesNB[0])):\n",
        "  print(ratio[i])\n",
        "  for j in range(len(performancesNB)):\n",
        "    print(values[j] + \" : %d\" % performancesNB[j][i])\n",
        "  print('\\n')"
      ],
      "metadata": {
        "id": "xzl6oYjpP09w"
      },
      "execution_count": null,
      "outputs": []
    },
    {
      "cell_type": "markdown",
      "source": [
        "###Accuracy \n",
        "Defined as the ratio of the total number of predicted transactions that are correct"
      ],
      "metadata": {
        "id": "50BzHd89nNS8"
      }
    },
    {
      "cell_type": "code",
      "source": [
        "def accuracy(TP,TN,FP,FN):\n",
        "  return (TP + TN) / (TP + FP + TN + FN)"
      ],
      "metadata": {
        "id": "1i3Pwoj2mlxD"
      },
      "execution_count": 41,
      "outputs": []
    },
    {
      "cell_type": "markdown",
      "source": [
        "### Sensitivity \n",
        "\n",
        "The proportion of positive observed values correctly predicted as positive. It is also called as True Positive Rate (TPR) or Recall"
      ],
      "metadata": {
        "id": "gRWVmjQTnSE_"
      }
    },
    {
      "cell_type": "code",
      "source": [
        "def sensitivity(TP,FN):\n",
        "  return TP/(TP+FN)"
      ],
      "metadata": {
        "id": "w-eIQkNcmyyO"
      },
      "execution_count": 42,
      "outputs": []
    },
    {
      "cell_type": "markdown",
      "source": [
        "### Specificity \n",
        "Defined as, with how much accuracy the negative (legitimate) cases are classified and, in our case, it gives the accuracy on prediction of legitimate transactions classification. It is also called as True Negative Rate (TNR)"
      ],
      "metadata": {
        "id": "JawvV4DAnizH"
      }
    },
    {
      "cell_type": "code",
      "source": [
        "def specificity(TN,FP):\n",
        "  return TN/(FP+TN)"
      ],
      "metadata": {
        "id": "7YVnPoKGm6Pl"
      },
      "execution_count": 43,
      "outputs": []
    },
    {
      "cell_type": "markdown",
      "source": [
        "### Precision \n",
        "The proportion of positive (fraud) predictions that are actually correct "
      ],
      "metadata": {
        "id": "rNDPq35_npC3"
      }
    },
    {
      "cell_type": "code",
      "source": [
        "def precision(TP,FP):\n",
        "  return TP/(TP+FP)"
      ],
      "metadata": {
        "id": "CSoLnwIMnCyc"
      },
      "execution_count": 44,
      "outputs": []
    },
    {
      "cell_type": "markdown",
      "source": [
        "### F-measure \n",
        "It gives the accuracy of the test which means that it gives the accuracy of experiments performed. It uses the both precision and recall to compute its value. The best value for f1 score is considered at value 1"
      ],
      "metadata": {
        "id": "JV6gnawsnwet"
      }
    },
    {
      "cell_type": "code",
      "source": [
        "def F_measure(precision,sensitivity):\n",
        "  return (2 * ((precision * sensitivity)/(precision + sensitivity)))"
      ],
      "metadata": {
        "id": "4H4IkSEFnK6Y"
      },
      "execution_count": 45,
      "outputs": []
    },
    {
      "cell_type": "markdown",
      "source": [
        "### Area under curve (AUC) \n",
        "\n",
        "It represents degree or measure of separability that is how much model is capable of differentiating between the classes"
      ],
      "metadata": {
        "id": "-UQy0to_oK_r"
      }
    },
    {
      "cell_type": "markdown",
      "source": [
        "![Schermata 2021-12-26 alle 19.56.37.png](data:image/png;base64,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)"
      ],
      "metadata": {
        "id": "xvyzeZ4ZGumF"
      }
    },
    {
      "cell_type": "code",
      "source": [
        "def AUC(sensitivity, specificity):\n",
        "  return (0.5 * (sensitivity + specificity))"
      ],
      "metadata": {
        "id": "SQPBBEmInsyr"
      },
      "execution_count": 46,
      "outputs": []
    },
    {
      "cell_type": "markdown",
      "source": [
        "Summary :"
      ],
      "metadata": {
        "id": "CAyIc4JwAQ52"
      }
    },
    {
      "cell_type": "code",
      "source": [
        "logisticRegression = list()\n",
        "kNearestNeighbours = list()\n",
        "naiveBayes = list()\n",
        "\n",
        "print(\"\\033[1m\" + algorithms[0] + \"\\033[0m\")\n",
        "for i in range(3):\n",
        "  print(ratio[i])\n",
        "  acc = accuracy(performancesLR[0][i], performancesLR[1][i], performancesLR[2][i], performancesLR[3][i]),\n",
        "  sens = sensitivity(performancesLR[0][i], performancesLR[3][i]),\n",
        "  spec = specificity(performancesLR[1][i], performancesLR[2][i]),\n",
        "  prec = precision(performancesLR[0][i], performancesLR[2][i])\n",
        "  f_me = F_measure(prec,sens[0])\n",
        "  auc = AUC(sens[0],spec[0])\n",
        "  \n",
        "  print('Accurancy   ' + '{:.1%}'.format(acc[0]))\n",
        "  print('Sensitivity ' + '{:.1%}'.format(sens[0]))\n",
        "  print('Specificity ' + '{:.1%}'.format(spec[0]))\n",
        "  print('Precision   ' + '{:.1%}'.format(prec))\n",
        "  print('F_measure   ' + '{:.1%}'.format(f_me))\n",
        "  print('AUC         ' + '{:.1%}'.format(auc) + '\\n')\n",
        "\n",
        "  logisticRegression.append([acc[0], sens[0],spec[0],prec,f_me,auc])\n",
        "\n",
        "print(\"\\033[1m\" + algorithms[1] + \"\\033[0m\")\n",
        "for i in range(3):\n",
        "  print(ratio[i])\n",
        "  acc = accuracy(performancesKNN[0][i], performancesKNN[1][i], performancesKNN[2][i], performancesKNN[3][i]),\n",
        "  sens = sensitivity(performancesKNN[0][i], performancesKNN[3][i]),\n",
        "  spec = specificity(performancesKNN[1][i], performancesKNN[2][i]),\n",
        "  prec = precision(performancesKNN[0][i], performancesKNN[2][i])\n",
        "  f_me = F_measure(prec,sens[0])\n",
        "  auc = AUC(sens[0],spec[0])\n",
        "  \n",
        "  print('Accurancy   ' + '{:.1%}'.format(acc[0]))\n",
        "  print('Sensitivity ' + '{:.1%}'.format(sens[0]))\n",
        "  print('Specificity ' + '{:.1%}'.format(spec[0]))\n",
        "  print('Precision   ' + '{:.1%}'.format(prec))\n",
        "  print('F_measure   ' + '{:.1%}'.format(f_me))\n",
        "  print('AUC         ' + '{:.1%}'.format(auc) + '\\n')\n",
        "\n",
        "  kNearestNeighbours.append([acc[0], sens[0],spec[0],prec,f_me,auc])\n",
        "\n",
        "print(\"\\033[1m\" + algorithms[2] + \"\\033[0m\")\n",
        "for i in range(3):\n",
        "  print(ratio[i])\n",
        "  acc = accuracy(performancesNB[0][i], performancesNB[1][i], performancesNB[2][i], performancesNB[3][i]),\n",
        "  sens = sensitivity(performancesNB[0][i], performancesNB[3][i]),\n",
        "  spec = specificity(performancesNB[1][i], performancesNB[2][i]),\n",
        "  prec = precision(performancesNB[0][i], performancesNB[2][i])\n",
        "  f_me = F_measure(prec,sens[0])\n",
        "  auc = AUC(sens[0],spec[0])\n",
        "  \n",
        "  print('Accurancy   ' + '{:.1%}'.format(acc[0]))\n",
        "  print('Sensitivity ' + '{:.1%}'.format(sens[0]))\n",
        "  print('Specificity ' + '{:.1%}'.format(spec[0]))\n",
        "  print('Precision   ' + '{:.1%}'.format(prec))\n",
        "  print('F_measure   ' + '{:.1%}'.format(f_me))\n",
        "  print('AUC         ' + '{:.1%}'.format(auc) + '\\n')\n",
        "\n",
        "  naiveBayes.append([acc[0], sens[0],spec[0],prec,f_me,auc])\n"
      ],
      "metadata": {
        "colab": {
          "base_uri": "https://localhost:8080/",
          "height": 249
        },
        "id": "jh7Bbl5z9mgy",
        "outputId": "ef302c47-e95a-498f-dc96-2860a77e10af"
      },
      "execution_count": 47,
      "outputs": [
        {
          "output_type": "error",
          "ename": "NameError",
          "evalue": "ignored",
          "traceback": [
            "\u001b[0;31m---------------------------------------------------------------------------\u001b[0m",
            "\u001b[0;31mNameError\u001b[0m                                 Traceback (most recent call last)",
            "\u001b[0;32m<ipython-input-47-1e0639b1cde5>\u001b[0m in \u001b[0;36m<module>\u001b[0;34m()\u001b[0m\n\u001b[1;32m      3\u001b[0m \u001b[0mnaiveBayes\u001b[0m \u001b[0;34m=\u001b[0m \u001b[0mlist\u001b[0m\u001b[0;34m(\u001b[0m\u001b[0;34m)\u001b[0m\u001b[0;34m\u001b[0m\u001b[0;34m\u001b[0m\u001b[0m\n\u001b[1;32m      4\u001b[0m \u001b[0;34m\u001b[0m\u001b[0m\n\u001b[0;32m----> 5\u001b[0;31m \u001b[0mprint\u001b[0m\u001b[0;34m(\u001b[0m\u001b[0;34m\"\\033[1m\"\u001b[0m \u001b[0;34m+\u001b[0m \u001b[0malgorithms\u001b[0m\u001b[0;34m[\u001b[0m\u001b[0;36m0\u001b[0m\u001b[0;34m]\u001b[0m \u001b[0;34m+\u001b[0m \u001b[0;34m\"\\033[0m\"\u001b[0m\u001b[0;34m)\u001b[0m\u001b[0;34m\u001b[0m\u001b[0;34m\u001b[0m\u001b[0m\n\u001b[0m\u001b[1;32m      6\u001b[0m \u001b[0;32mfor\u001b[0m \u001b[0mi\u001b[0m \u001b[0;32min\u001b[0m \u001b[0mrange\u001b[0m\u001b[0;34m(\u001b[0m\u001b[0;36m3\u001b[0m\u001b[0;34m)\u001b[0m\u001b[0;34m:\u001b[0m\u001b[0;34m\u001b[0m\u001b[0;34m\u001b[0m\u001b[0m\n\u001b[1;32m      7\u001b[0m   \u001b[0mprint\u001b[0m\u001b[0;34m(\u001b[0m\u001b[0mratio\u001b[0m\u001b[0;34m[\u001b[0m\u001b[0mi\u001b[0m\u001b[0;34m]\u001b[0m\u001b[0;34m)\u001b[0m\u001b[0;34m\u001b[0m\u001b[0;34m\u001b[0m\u001b[0m\n",
            "\u001b[0;31mNameError\u001b[0m: name 'algorithms' is not defined"
          ]
        }
      ]
    },
    {
      "cell_type": "markdown",
      "source": [
        "The plots below show performance evaluations of the three algorithms separately"
      ],
      "metadata": {
        "id": "JDdR02_mT4gg"
      }
    },
    {
      "cell_type": "markdown",
      "source": [
        "Plot the results \n",
        "\n",
        "\n",
        "\n",
        "*   RUS 1 -> Random Under Sampling with ratio 50:50\n",
        "*   RUS 2 -> Random Under Sampling with ratio 34:66\n",
        "*   RUS 3 -> Random Under Sampling with ratio 25:75\n",
        "\n",
        "\n"
      ],
      "metadata": {
        "id": "DjPaxND9cHOA"
      }
    },
    {
      "cell_type": "code",
      "source": [
        "labels = ['Accurancy', 'Sensitivity', 'Specificity', 'Precision', 'F-Measure', 'AUC']\n",
        "\n",
        "RUS1 = [logisticRegression[0], kNearestNeighbours[0], naiveBayes[0]]\n",
        "RUS2 = [logisticRegression[1], kNearestNeighbours[1], naiveBayes[1]]\n",
        "RUS3 = [logisticRegression[2], kNearestNeighbours[2], naiveBayes[2]]\n",
        "\n",
        "x = np.arange(len(labels))  # the label locations\n",
        "width = 0.3  # the width of the bars\n",
        "\n",
        "fig, ax = plt.subplots(1,3, figsize=(30,10))\n",
        "fig.tight_layout() \n",
        "\n",
        "for i in range(3):\n",
        "  rects1 = ax[i].bar(x - width, RUS1[i], width, label='RUS 1')\n",
        "  rects2 = ax[i].bar(x, RUS2[i], width, label='RUS 2')\n",
        "  rects3 = ax[i].bar(x + width, RUS3[i], width, label='RUS 3')\n",
        "\n",
        "  # Add some text for labels, title and custom x-axis tick labels, etc.\n",
        "  ax[i].set_ylabel('Percentages')\n",
        "  ax[i].set_title(algorithms[i])\n",
        "  ax[i].set_xticks(x)\n",
        "  ax[i].set_xticklabels(labels)\n",
        "  ax[i].legend()\n",
        "  ax[i].yaxis.grid(True) # plot the grid\n"
      ],
      "metadata": {
        "id": "fUlRGTZEAo_Q"
      },
      "execution_count": null,
      "outputs": []
    },
    {
      "cell_type": "markdown",
      "source": [
        "# Additional Features \n"
      ],
      "metadata": {
        "id": "8uu6AdGJWNoi"
      }
    },
    {
      "cell_type": "markdown",
      "source": [
        "Apply Logistic Regression to all training data"
      ],
      "metadata": {
        "id": "y-vmK7wBXtwQ"
      }
    },
    {
      "cell_type": "code",
      "source": [
        "x_valid = list()\n",
        "y_valid = list()\n",
        "\n",
        "for sample in valid_set:\n",
        "  x_valid.append(sample[:-1])\n",
        "  y_valid.append(sample[-1])\n",
        "\n",
        "# train the model\n",
        "params = logistic_regression(train_set)\n",
        "\n",
        "# test the model \n",
        "print('validation loss 1: %1.3e \\n' % loss(x_valid,y_valid,params))"
      ],
      "metadata": {
        "colab": {
          "base_uri": "https://localhost:8080/",
          "height": 365,
          "referenced_widgets": [
            "00bf8343ec64460cafaddd6bdf8bc535",
            "997db63bd6fb41dda117f3f60d2af527",
            "c276adf222f64ba79f1a81ee79686012",
            "a509588803364a81827f38bf19c8989c",
            "6924f33a012b43c696d31ca5b1a28a54",
            "2b837fe5be704f0abe8a0cec950f64ed",
            "83e02cb7a8d449ae92df3bc3386fb7c2",
            "ee27bb324490445fa62d253ddb5a53ca",
            "8fb3d716cd364c6d92c4b4b359276f1f",
            "feb3394818f343b9988833a8676e334f",
            "0a627c2abf894fbcbd1d4b0434c6281e"
          ]
        },
        "id": "Pw2cul3GWfif",
        "outputId": "23fbbee3-2685-4943-e2c1-270dc4312f2b"
      },
      "execution_count": null,
      "outputs": [
        {
          "output_type": "display_data",
          "data": {
            "application/vnd.jupyter.widget-view+json": {
              "model_id": "00bf8343ec64460cafaddd6bdf8bc535",
              "version_minor": 0,
              "version_major": 2
            },
            "text/plain": [
              "  0%|          | 0/2000 [00:00<?, ?it/s]"
            ]
          },
          "metadata": {}
        },
        {
          "output_type": "stream",
          "name": "stdout",
          "text": [
            "train loss       : 4.199e-03\n",
            "validation loss 1: 1.084e+00 \n",
            "\n"
          ]
        },
        {
          "output_type": "display_data",
          "data": {
            "image/png": "[encoded data removed]",
            "text/plain": [
              "<Figure size 432x288 with 1 Axes>"
            ]
          },
          "metadata": {
            "needs_background": "light"
          }
        }
      ]
    },
    {
      "cell_type": "code",
      "source": [
        "pred = predicted_results(x_valid,params)"
      ],
      "metadata": {
        "id": "u0xoE_jIYGw5"
      },
      "execution_count": null,
      "outputs": []
    },
    {
      "cell_type": "code",
      "source": [
        "TP = 0\n",
        "TN = 0\n",
        "FP = 0\n",
        "FN = 0\n",
        "\n",
        "for i in range(len(y_valid)):\n",
        "\n",
        "    if (y_valid[i] == 1) and (pred[i]== 1 ):\n",
        "      TP += 1\n",
        "    if (y_valid[i] == 0) and (pred[i] == 0):\n",
        "      TN += 1\n",
        "    if (y_valid[i] == 0) and (pred[i]== 1 ):\n",
        "      FP += 1\n",
        "    if (y_valid[i] == 1) and (pred[i] == 0):\n",
        "      FN += 1\n",
        "\n",
        "print(\"TP %d \" % TP)\n",
        "print(\"TN %d \" % TN)\n",
        "print(\"FP %d \" % FP)\n",
        "print(\"FN %d \" % FN)"
      ],
      "metadata": {
        "colab": {
          "base_uri": "https://localhost:8080/"
        },
        "id": "qOL2mLD3YE9S",
        "outputId": "4aa43e7f-e4d5-4654-abfe-59d1a863d591"
      },
      "execution_count": null,
      "outputs": [
        {
          "output_type": "stream",
          "name": "stdout",
          "text": [
            "TP 45 \n",
            "TN 83676 \n",
            "FP 1612 \n",
            "FN 110 \n"
          ]
        }
      ]
    },
    {
      "cell_type": "markdown",
      "source": [
        "## Evaluate algorithm through cross-validation"
      ],
      "metadata": {
        "id": "gxKaMgiwMRwc"
      }
    },
    {
      "cell_type": "markdown",
      "source": [
        "**Cross validation:**\n",
        "\n",
        "Cross-validation, sometimes called rotation estimation or out-of-sample testing, is any of various similar model validation techniques for assessing how the results of a statistical analysis will generalize to an independent data set. Cross-validation is a resampling method that uses different portions of the data to test and train a model on different iterations. It is mainly used in settings where the goal is prediction, and one wants to estimate how accurately a predictive model will perform in practice."
      ],
      "metadata": {
        "id": "FXa1u6poP8gf"
      }
    },
    {
      "cell_type": "markdown",
      "source": [
        "**k-fold cross-validation:**\n",
        "\n",
        "In k-fold cross-validation, the original sample is randomly partitioned into k equal sized subsamples. Of the k subsamples, a single subsample is retained as the validation data for testing the model, and the remaining k − 1 subsamples are used as training data. The cross-validation process is then repeated k times, with each of the k subsamples used exactly once as the validation data. The k results can then be averaged to produce a single estimation. k = 10 is usually used."
      ],
      "metadata": {
        "id": "NdfIHlFFQuz0"
      }
    },
    {
      "cell_type": "markdown",
      "source": [
        "Create functions for evaluating the algorithm:"
      ],
      "metadata": {
        "id": "5IIuOn8EMoMl"
      }
    },
    {
      "cell_type": "code",
      "source": [
        "# Split a dataset into k folds\n",
        "def cross_validation_split(dataset, n_folds):\n",
        "  '''It returns the n_folds folds.\n",
        "  \n",
        "  @param: dataset It is the dataset to split.\n",
        "  @param: n_folds The number of folds to create.\n",
        "  '''\n",
        "\n",
        "  # the returned value will be a list of lists (folds)\n",
        "  dataset_split = list()\n",
        "\n",
        "  # create a list from the dataset\n",
        "  dataset_copy = dataset.tolist()\n",
        "\n",
        "  # compute the number of elements in each fold\n",
        "  fold_size = int(len(dataset) / n_folds)\n",
        "\n",
        "  # build each fold by popping values from the copy of the dataset\n",
        "  for _ in range(n_folds):\n",
        "  \tfold = list()\n",
        "    # build the fold\n",
        "  \twhile len(fold) < fold_size:\n",
        "  \t\tindex = randrange(len(dataset_copy))\n",
        "  \t\tfold.append(dataset_copy.pop(index))\n",
        "    # append the fold\n",
        "  \tdataset_split.append(fold)\n",
        "   \n",
        "  return dataset_split"
      ],
      "metadata": {
        "id": "BccwKl-8RMej"
      },
      "execution_count": 48,
      "outputs": []
    },
    {
      "cell_type": "code",
      "source": [
        "# Calculate accuracy percentage\n",
        "def accuracy_metric(actual, predicted):\n",
        "\t\"\"\"\n",
        "\tIt computes the accuracy between the two provided lists.\n",
        "\tAccuracy := n_correct / n_actual\n",
        "\n",
        "\t@param: actual It is the list with all the actual values.\n",
        "\t@param: predicted It is the list with all the predicted values.\n",
        "\t\"\"\"\n",
        "\n",
        "\tcorrect = 0\n",
        "\tfor i in range(len(actual)):\n",
        "\t\tif actual[i] == predicted[i]:\n",
        "\t\t\tcorrect += 1\n",
        "\t\n",
        "\treturn correct / float(len(actual)) * 100.0"
      ],
      "metadata": {
        "id": "wJg-cs46RLYs"
      },
      "execution_count": 49,
      "outputs": []
    },
    {
      "cell_type": "code",
      "source": [
        "def compute_metrics(actual, predicted):\n",
        "\t\"\"\"\n",
        "\tIt computes the metrics required.\n",
        "\n",
        "\t@param: actual It is the list with all the actual values.\n",
        "\t@param: predicted It is the list with all the predicted values.\n",
        "\n",
        "\treturns [acc,spec,sens,prec,f_meas,auc]\n",
        "\t\"\"\"\n",
        "\n",
        "\t[TP,TN,FP,FN]=collect_rates_single_prediction(actual,predicted)\n",
        "\tacc = accuracy(TP,TN,FP,FN)\n",
        "\tspec = specificity(TN,FP)\n",
        "\tsens = sensitivity(TP,FN)\n",
        "\tprec = precision(TP,FP)\n",
        "\tf_meas = F_measure(prec,sens)\n",
        "\tauc = AUC(sens, spec)\n",
        " \n",
        "\treturn [acc,sens,spec,prec,f_meas,auc]"
      ],
      "metadata": {
        "id": "T20YY3d5aNwo"
      },
      "execution_count": 59,
      "outputs": []
    },
    {
      "cell_type": "code",
      "source": [
        "# Evaluate an algorithm using a cross validation split\n",
        "def evaluate_algorithm(dataset, algorithm, n_folds, *args):\n",
        "  '''It returns a list of accuracies, each of them computed on a certain fold.\n",
        "  \n",
        "  @param: dataset It is the dataset on which evaluating the algorithm.\n",
        "  @param: algorithm It is the algorithm to evaluate; it is a lambda.\n",
        "  @param: n_folds It represents the number of folds on which divide the dataset.\n",
        "  @param: args It contains parameters of the algorithm (k in the case of KNN).\n",
        "  '''\n",
        "\n",
        "  # split the dataset into n_folds\n",
        "  folds = cross_validation_split(dataset, n_folds)\n",
        "\n",
        "  # this list contains the accuracy of the algorithm computed for each fold at a time\n",
        "  scores = list()\n",
        "\n",
        "  # for each fold compute the accuracy\n",
        "  for fold in folds:\n",
        "    training_set = list(folds) # copy the dataset\n",
        "    training_set.remove(fold) # remove the current fold\n",
        "    training_set = sum(training_set, []) # merge all the folds in training_set in one list\n",
        "    test_set = list()\n",
        "\n",
        "    # build the test_set by removing the class in each row of the current fold\n",
        "    for row in fold:\n",
        "      row_copy = list(row)\n",
        "      test_set.append(row_copy)\n",
        "      row_copy[-1] = None\n",
        "\n",
        "    # compute the accuracy and append it to scores\n",
        "    predicted = algorithm(training_set, test_set, *args)\n",
        "    actual = [row[-1] for row in fold] # actual values are in the last column of the fold\n",
        "\n",
        "    # compute the accuracy\n",
        "    [acc,spec,sens,prec,f_meas,auc] = compute_metrics(actual, predicted)    \n",
        "    scores.append([acc,spec,sens,prec,f_meas,auc])              \n",
        "\n",
        "  return scores"
      ],
      "metadata": {
        "id": "m2OlnrmqRJkY"
      },
      "execution_count": 58,
      "outputs": []
    },
    {
      "cell_type": "markdown",
      "source": [
        "Evaluate LR algorithm:"
      ],
      "metadata": {
        "id": "pRRbTD--Xorz"
      }
    },
    {
      "cell_type": "code",
      "source": [
        "n_folds = 3\n",
        "rus_dataset = np.asarray(RUS(0.5, dataset.to_numpy()))\n",
        "\n",
        "# I pass the result of the RUS function on the dataset\n",
        "scores = evaluate_algorithm(rus_dataset, logistic_regression, n_folds)\n",
        "print('Scores: %s\\n' % scores)\n",
        "print('Mean Accuracy: %.3f%%' % (sum(scores)/float(len(scores))))"
      ],
      "metadata": {
        "colab": {
          "base_uri": "https://localhost:8080/",
          "height": 548
        },
        "outputId": "59d7aee8-5b52-40d6-ed5c-9cc4dda221e5",
        "id": "pT3NPYxAXor7"
      },
      "execution_count": null,
      "outputs": [
        {
          "output_type": "stream",
          "name": "stdout",
          "text": [
            "train_fraud len        :  0\n",
            "train_not_fraud len    :  31\n",
            "new train_not_fraud len:  0\n",
            "new training set len   :  0\n",
            "\n",
            "\n"
          ]
        },
        {
          "output_type": "error",
          "ename": "IndexError",
          "evalue": "ignored",
          "traceback": [
            "\u001b[0;31m---------------------------------------------------------------------------\u001b[0m",
            "\u001b[0;31mIndexError\u001b[0m                                Traceback (most recent call last)",
            "\u001b[0;32m<ipython-input-354-c720bec381da>\u001b[0m in \u001b[0;36m<module>\u001b[0;34m()\u001b[0m\n\u001b[1;32m      4\u001b[0m \u001b[0;34m\u001b[0m\u001b[0m\n\u001b[1;32m      5\u001b[0m \u001b[0;31m# I pass the result of the RUS function on the dataset\u001b[0m\u001b[0;34m\u001b[0m\u001b[0;34m\u001b[0m\u001b[0;34m\u001b[0m\u001b[0m\n\u001b[0;32m----> 6\u001b[0;31m \u001b[0mscores\u001b[0m \u001b[0;34m=\u001b[0m \u001b[0mevaluate_algorithm\u001b[0m\u001b[0;34m(\u001b[0m\u001b[0mrus_dataset\u001b[0m\u001b[0;34m,\u001b[0m \u001b[0mlogistic_regression\u001b[0m\u001b[0;34m,\u001b[0m \u001b[0mn_folds\u001b[0m\u001b[0;34m)\u001b[0m\u001b[0;34m\u001b[0m\u001b[0;34m\u001b[0m\u001b[0m\n\u001b[0m\u001b[1;32m      7\u001b[0m \u001b[0mprint\u001b[0m\u001b[0;34m(\u001b[0m\u001b[0;34m'Scores: %s\\n'\u001b[0m \u001b[0;34m%\u001b[0m \u001b[0mscores\u001b[0m\u001b[0;34m)\u001b[0m\u001b[0;34m\u001b[0m\u001b[0;34m\u001b[0m\u001b[0m\n\u001b[1;32m      8\u001b[0m \u001b[0mprint\u001b[0m\u001b[0;34m(\u001b[0m\u001b[0;34m'Mean Accuracy: %.3f%%'\u001b[0m \u001b[0;34m%\u001b[0m \u001b[0;34m(\u001b[0m\u001b[0msum\u001b[0m\u001b[0;34m(\u001b[0m\u001b[0mscores\u001b[0m\u001b[0;34m)\u001b[0m\u001b[0;34m/\u001b[0m\u001b[0mfloat\u001b[0m\u001b[0;34m(\u001b[0m\u001b[0mlen\u001b[0m\u001b[0;34m(\u001b[0m\u001b[0mscores\u001b[0m\u001b[0;34m)\u001b[0m\u001b[0;34m)\u001b[0m\u001b[0;34m)\u001b[0m\u001b[0;34m)\u001b[0m\u001b[0;34m\u001b[0m\u001b[0;34m\u001b[0m\u001b[0m\n",
            "\u001b[0;32m<ipython-input-353-90d9cfe15379>\u001b[0m in \u001b[0;36mevaluate_algorithm\u001b[0;34m(dataset, algorithm, n_folds, *args)\u001b[0m\n\u001b[1;32m     29\u001b[0m \u001b[0;34m\u001b[0m\u001b[0m\n\u001b[1;32m     30\u001b[0m     \u001b[0;31m# compute the accuracy and append it to scores\u001b[0m\u001b[0;34m\u001b[0m\u001b[0;34m\u001b[0m\u001b[0;34m\u001b[0m\u001b[0m\n\u001b[0;32m---> 31\u001b[0;31m     \u001b[0mpredicted\u001b[0m \u001b[0;34m=\u001b[0m \u001b[0malgorithm\u001b[0m\u001b[0;34m(\u001b[0m\u001b[0mtraining_set\u001b[0m\u001b[0;34m,\u001b[0m \u001b[0mtest_set\u001b[0m\u001b[0;34m,\u001b[0m \u001b[0;34m*\u001b[0m\u001b[0margs\u001b[0m\u001b[0;34m)\u001b[0m\u001b[0;34m\u001b[0m\u001b[0;34m\u001b[0m\u001b[0m\n\u001b[0m\u001b[1;32m     32\u001b[0m     \u001b[0mactual\u001b[0m \u001b[0;34m=\u001b[0m \u001b[0;34m[\u001b[0m\u001b[0mrow\u001b[0m\u001b[0;34m[\u001b[0m\u001b[0;34m-\u001b[0m\u001b[0;36m1\u001b[0m\u001b[0;34m]\u001b[0m \u001b[0;32mfor\u001b[0m \u001b[0mrow\u001b[0m \u001b[0;32min\u001b[0m \u001b[0mfold\u001b[0m\u001b[0;34m]\u001b[0m \u001b[0;31m# actual values are in the last column of the fold\u001b[0m\u001b[0;34m\u001b[0m\u001b[0;34m\u001b[0m\u001b[0m\n\u001b[1;32m     33\u001b[0m \u001b[0;34m\u001b[0m\u001b[0m\n",
            "\u001b[0;32m<ipython-input-347-84eea0cbbb57>\u001b[0m in \u001b[0;36mlogistic_regression\u001b[0;34m(training_set, test_set)\u001b[0m\n\u001b[1;32m      8\u001b[0m \u001b[0;34m\u001b[0m\u001b[0m\n\u001b[1;32m      9\u001b[0m   \u001b[0;31m# train the model\u001b[0m\u001b[0;34m\u001b[0m\u001b[0;34m\u001b[0m\u001b[0;34m\u001b[0m\u001b[0m\n\u001b[0;32m---> 10\u001b[0;31m   \u001b[0mparams\u001b[0m \u001b[0;34m=\u001b[0m \u001b[0mtraining_gradient_descent\u001b[0m\u001b[0;34m(\u001b[0m\u001b[0mtraining_set\u001b[0m\u001b[0;34m)\u001b[0m\u001b[0;34m\u001b[0m\u001b[0;34m\u001b[0m\u001b[0m\n\u001b[0m\u001b[1;32m     11\u001b[0m \u001b[0;34m\u001b[0m\u001b[0m\n\u001b[1;32m     12\u001b[0m   \u001b[0;31m# test the model\u001b[0m\u001b[0;34m\u001b[0m\u001b[0;34m\u001b[0m\u001b[0;34m\u001b[0m\u001b[0m\n",
            "\u001b[0;32m<ipython-input-345-6e7f3d9630ae>\u001b[0m in \u001b[0;36mtraining_gradient_descent\u001b[0;34m(training_set)\u001b[0m\n\u001b[1;32m     19\u001b[0m   \u001b[0mnum_epochs\u001b[0m \u001b[0;34m=\u001b[0m \u001b[0;36m1000\u001b[0m\u001b[0;34m\u001b[0m\u001b[0;34m\u001b[0m\u001b[0m\n\u001b[1;32m     20\u001b[0m   \u001b[0mlearning_rate\u001b[0m \u001b[0;34m=\u001b[0m \u001b[0;36m1e-1\u001b[0m\u001b[0;34m\u001b[0m\u001b[0;34m\u001b[0m\u001b[0m\n\u001b[0;32m---> 21\u001b[0;31m   \u001b[0mparams\u001b[0m \u001b[0;34m=\u001b[0m \u001b[0minitialize_params\u001b[0m\u001b[0;34m(\u001b[0m\u001b[0mlen\u001b[0m\u001b[0;34m(\u001b[0m\u001b[0mx_train\u001b[0m\u001b[0;34m[\u001b[0m\u001b[0;36m0\u001b[0m\u001b[0;34m]\u001b[0m\u001b[0;34m)\u001b[0m\u001b[0;34m)\u001b[0m\u001b[0;34m\u001b[0m\u001b[0;34m\u001b[0m\u001b[0m\n\u001b[0m\u001b[1;32m     22\u001b[0m \u001b[0;34m\u001b[0m\u001b[0m\n\u001b[1;32m     23\u001b[0m   \u001b[0;31m# use `jax.jit` to speedup the evaluation of the loss and of the gradients\u001b[0m\u001b[0;34m\u001b[0m\u001b[0;34m\u001b[0m\u001b[0;34m\u001b[0m\u001b[0m\n",
            "\u001b[0;31mIndexError\u001b[0m: list index out of range"
          ]
        }
      ]
    },
    {
      "cell_type": "markdown",
      "source": [
        "Evaluate KNN algorithm:"
      ],
      "metadata": {
        "id": "lCIqeD2ZPrWx"
      }
    },
    {
      "cell_type": "code",
      "source": [
        "n_folds = 3\n",
        "rus_dataset = np.asarray(RUS(1/3, dataset.to_numpy()))\n",
        "\n",
        "# I pass the result of the RUS function on the dataset\n",
        "scores = evaluate_algorithm(rus_dataset,k_nearest_neighbors,n_folds,k)\n",
        "\n",
        "acc=0\n",
        "sens=0\n",
        "spec=0\n",
        "prec=0\n",
        "fmeas=0\n",
        "auc=0\n",
        "for score in scores:\n",
        "  acc += score[0]\n",
        "  sens += score[1]\n",
        "  spec += score[2]\n",
        "  prec += score[3]\n",
        "  fmeas += score[4]\n",
        "  auc += score[5]\n",
        "\n",
        "\n",
        "print('Mean Accuracy: %.3f%%' % (acc*100/float(len(scores))))\n",
        "print('Mean sensitivity: %.3f%%' % (sens*100/float(len(scores))))\n",
        "print('Mean specificity: %.3f%%' % (spec*100/float(len(scores))))\n",
        "print('Mean precision: %.3f%%' % (prec*100/float(len(scores))))\n",
        "print('Mean fmeas: %.3f%%' % (fmeas*100/float(len(scores))))\n",
        "print('Mean auc: %.3f%%' % (auc*100/float(len(scores))))"
      ],
      "metadata": {
        "colab": {
          "base_uri": "https://localhost:8080/"
        },
        "id": "Jq1AagVCPsy5",
        "outputId": "0367c9ba-777a-4deb-996c-ecbc6bf5ab9d"
      },
      "execution_count": 69,
      "outputs": [
        {
          "output_type": "stream",
          "name": "stdout",
          "text": [
            "train_fraud len        :  492\n",
            "train_not_fraud len    :  284315\n",
            "new train_not_fraud len:  1476\n",
            "new training set len   :  1968\n",
            "\n",
            "\n",
            "Mean Accuracy: 77.541%\n",
            "Mean sensitivity: 24.421%\n",
            "Mean specificity: 95.243%\n",
            "Mean precision: 64.038%\n",
            "Mean fmeas: 35.282%\n",
            "Mean auc: 59.832%\n"
          ]
        }
      ]
    },
    {
      "cell_type": "markdown",
      "source": [
        "Evaluate NB algorithm:"
      ],
      "metadata": {
        "id": "nlr8EMSlXeqW"
      }
    },
    {
      "cell_type": "code",
      "source": [
        "n_folds = 3\n",
        "rus_dataset = np.asarray(RUS(1/3, dataset.to_numpy()))\n",
        "\n",
        "# I pass the result of the RUS function on the dataset\n",
        "scores = evaluate_algorithm(rus_dataset, naive_bayes, n_folds)\n",
        "\n",
        "acc=0\n",
        "sens=0\n",
        "spec=0\n",
        "prec=0\n",
        "fmeas=0\n",
        "auc=0\n",
        "for score in scores:\n",
        "  acc += score[0]\n",
        "  sens += score[1]\n",
        "  spec += score[2]\n",
        "  prec += score[3]\n",
        "  fmeas += score[4]\n",
        "  auc += score[5]\n",
        "\n",
        "\n",
        "print('Mean Accuracy: %.3f%%' % (acc*100/float(len(scores))))\n",
        "print('Mean sensitivity: %.3f%%' % (sens*100/float(len(scores))))\n",
        "print('Mean specificity: %.3f%%' % (spec*100/float(len(scores))))\n",
        "print('Mean precision: %.3f%%' % (prec*100/float(len(scores))))\n",
        "print('Mean fmeas: %.3f%%' % (fmeas*100/float(len(scores))))\n",
        "print('Mean auc: %.3f%%' % (auc*100/float(len(scores))))"
      ],
      "metadata": {
        "colab": {
          "base_uri": "https://localhost:8080/"
        },
        "id": "Be6yEKNGXaPo",
        "outputId": "35d5243c-364e-4110-cef3-42987cde5126"
      },
      "execution_count": 68,
      "outputs": [
        {
          "output_type": "stream",
          "name": "stdout",
          "text": [
            "train_fraud len        :  492\n",
            "train_not_fraud len    :  284315\n",
            "new train_not_fraud len:  1476\n",
            "new training set len   :  1968\n",
            "\n",
            "\n",
            "Mean Accuracy: 94.817%\n",
            "Mean sensitivity: 86.445%\n",
            "Mean specificity: 97.636%\n",
            "Mean precision: 92.336%\n",
            "Mean fmeas: 89.251%\n",
            "Mean auc: 92.040%\n"
          ]
        }
      ]
    },
    {
      "cell_type": "markdown",
      "source": [
        "## Artificial Neural Network"
      ],
      "metadata": {
        "id": "fKonDqH0H7K-"
      }
    },
    {
      "cell_type": "markdown",
      "source": [
        "### Setup"
      ],
      "metadata": {
        "id": "8xjXGjhBIFUU"
      }
    },
    {
      "cell_type": "markdown",
      "source": [
        "To initialize the parameters:\n",
        "\n",
        "- Inizialize the biases with zero value.\n",
        "- Inizialize the weights sampling from a Gaussian distribution with zero mean and with standard deviation "
      ],
      "metadata": {
        "id": "0AAWve5XJoit"
      }
    },
    {
      "cell_type": "code",
      "source": [
        "def initialize_params(layers_size):\n",
        "  np.random.seed(0) # for reproducibility\n",
        "  params = list()\n",
        "  for i in range(len(layers_size) - 1):\n",
        "    W = np.random.randn(layers_size[i+1], layers_size[i]) * np.sqrt(2 / (layers_size[i+1] + layers_size[i]))\n",
        "    b = np.zeros((layers_size[i+1], 1))\n",
        "    params.append(W)\n",
        "    params.append(b)\n",
        "  return params\n",
        "\n"
      ],
      "metadata": {
        "id": "GiuQijWMH_MB"
      },
      "execution_count": null,
      "outputs": []
    },
    {
      "cell_type": "code",
      "source": [
        "params = initialize_params([2, 5, 1])"
      ],
      "metadata": {
        "id": "kflGZS5MKV-C"
      },
      "execution_count": null,
      "outputs": []
    },
    {
      "cell_type": "code",
      "source": [
        "dataset.shape\n"
      ],
      "metadata": {
        "colab": {
          "base_uri": "https://localhost:8080/"
        },
        "id": "xyKKVtQSZTht",
        "outputId": "826e515f-b5b7-4bd6-bf67-5cea4f8e2454"
      },
      "execution_count": 52,
      "outputs": [
        {
          "output_type": "execute_result",
          "data": {
            "text/plain": [
              "(284807, 31)"
            ]
          },
          "metadata": {},
          "execution_count": 52
        }
      ]
    }
  ],
  "metadata": {
    "colab": {
      "name": "CCFD.ipynb",
      "provenance": [],
      "collapsed_sections": [
        "5XvX5QJ4xdYq",
        "U3fiY9jV-hYf",
        "-zf1uUYSIn93",
        "Y9LkSghrIoEL",
        "oX4smqBgwcHW"
      ],
      "toc_visible": true
    },
    "kernelspec": {
      "display_name": "Python 3",
      "name": "python3"
    },
    "language_info": {
      "name": "python"
    },
    "widgets": {
      "application/vnd.jupyter.widget-state+json": {
        "00bf8343ec64460cafaddd6bdf8bc535": {
          "model_module": "@jupyter-widgets/controls",
          "model_name": "HBoxModel",
          "model_module_version": "1.5.0",
          "state": {
            "_view_name": "HBoxView",
            "_dom_classes": [],
            "_model_name": "HBoxModel",
            "_view_module": "@jupyter-widgets/controls",
            "_model_module_version": "1.5.0",
            "_view_count": null,
            "_view_module_version": "1.5.0",
            "box_style": "",
            "layout": "IPY_MODEL_997db63bd6fb41dda117f3f60d2af527",
            "_model_module": "@jupyter-widgets/controls",
            "children": [
              "IPY_MODEL_c276adf222f64ba79f1a81ee79686012",
              "IPY_MODEL_a509588803364a81827f38bf19c8989c",
              "IPY_MODEL_6924f33a012b43c696d31ca5b1a28a54"
            ]
          }
        },
        "997db63bd6fb41dda117f3f60d2af527": {
          "model_module": "@jupyter-widgets/base",
          "model_name": "LayoutModel",
          "model_module_version": "1.2.0",
          "state": {
            "_view_name": "LayoutView",
            "grid_template_rows": null,
            "right": null,
            "justify_content": null,
            "_view_module": "@jupyter-widgets/base",
            "overflow": null,
            "_model_module_version": "1.2.0",
            "_view_count": null,
            "flex_flow": null,
            "width": null,
            "min_width": null,
            "border": null,
            "align_items": null,
            "bottom": null,
            "_model_module": "@jupyter-widgets/base",
            "top": null,
            "grid_column": null,
            "overflow_y": null,
            "overflow_x": null,
            "grid_auto_flow": null,
            "grid_area": null,
            "grid_template_columns": null,
            "flex": null,
            "_model_name": "LayoutModel",
            "justify_items": null,
            "grid_row": null,
            "max_height": null,
            "align_content": null,
            "visibility": null,
            "align_self": null,
            "height": null,
            "min_height": null,
            "padding": null,
            "grid_auto_rows": null,
            "grid_gap": null,
            "max_width": null,
            "order": null,
            "_view_module_version": "1.2.0",
            "grid_template_areas": null,
            "object_position": null,
            "object_fit": null,
            "grid_auto_columns": null,
            "margin": null,
            "display": null,
            "left": null
          }
        },
        "c276adf222f64ba79f1a81ee79686012": {
          "model_module": "@jupyter-widgets/controls",
          "model_name": "HTMLModel",
          "model_module_version": "1.5.0",
          "state": {
            "_view_name": "HTMLView",
            "style": "IPY_MODEL_2b837fe5be704f0abe8a0cec950f64ed",
            "_dom_classes": [],
            "description": "",
            "_model_name": "HTMLModel",
            "placeholder": "​",
            "_view_module": "@jupyter-widgets/controls",
            "_model_module_version": "1.5.0",
            "value": "100%",
            "_view_count": null,
            "_view_module_version": "1.5.0",
            "description_tooltip": null,
            "_model_module": "@jupyter-widgets/controls",
            "layout": "IPY_MODEL_83e02cb7a8d449ae92df3bc3386fb7c2"
          }
        },
        "a509588803364a81827f38bf19c8989c": {
          "model_module": "@jupyter-widgets/controls",
          "model_name": "FloatProgressModel",
          "model_module_version": "1.5.0",
          "state": {
            "_view_name": "ProgressView",
            "style": "IPY_MODEL_ee27bb324490445fa62d253ddb5a53ca",
            "_dom_classes": [],
            "description": "",
            "_model_name": "FloatProgressModel",
            "bar_style": "success",
            "max": 2000,
            "_view_module": "@jupyter-widgets/controls",
            "_model_module_version": "1.5.0",
            "value": 2000,
            "_view_count": null,
            "_view_module_version": "1.5.0",
            "orientation": "horizontal",
            "min": 0,
            "description_tooltip": null,
            "_model_module": "@jupyter-widgets/controls",
            "layout": "IPY_MODEL_8fb3d716cd364c6d92c4b4b359276f1f"
          }
        },
        "6924f33a012b43c696d31ca5b1a28a54": {
          "model_module": "@jupyter-widgets/controls",
          "model_name": "HTMLModel",
          "model_module_version": "1.5.0",
          "state": {
            "_view_name": "HTMLView",
            "style": "IPY_MODEL_feb3394818f343b9988833a8676e334f",
            "_dom_classes": [],
            "description": "",
            "_model_name": "HTMLModel",
            "placeholder": "​",
            "_view_module": "@jupyter-widgets/controls",
            "_model_module_version": "1.5.0",
            "value": " 2000/2000 [08:35&lt;00:00,  2.53it/s]",
            "_view_count": null,
            "_view_module_version": "1.5.0",
            "description_tooltip": null,
            "_model_module": "@jupyter-widgets/controls",
            "layout": "IPY_MODEL_0a627c2abf894fbcbd1d4b0434c6281e"
          }
        },
        "2b837fe5be704f0abe8a0cec950f64ed": {
          "model_module": "@jupyter-widgets/controls",
          "model_name": "DescriptionStyleModel",
          "model_module_version": "1.5.0",
          "state": {
            "_view_name": "StyleView",
            "_model_name": "DescriptionStyleModel",
            "description_width": "",
            "_view_module": "@jupyter-widgets/base",
            "_model_module_version": "1.5.0",
            "_view_count": null,
            "_view_module_version": "1.2.0",
            "_model_module": "@jupyter-widgets/controls"
          }
        },
        "83e02cb7a8d449ae92df3bc3386fb7c2": {
          "model_module": "@jupyter-widgets/base",
          "model_name": "LayoutModel",
          "model_module_version": "1.2.0",
          "state": {
            "_view_name": "LayoutView",
            "grid_template_rows": null,
            "right": null,
            "justify_content": null,
            "_view_module": "@jupyter-widgets/base",
            "overflow": null,
            "_model_module_version": "1.2.0",
            "_view_count": null,
            "flex_flow": null,
            "width": null,
            "min_width": null,
            "border": null,
            "align_items": null,
            "bottom": null,
            "_model_module": "@jupyter-widgets/base",
            "top": null,
            "grid_column": null,
            "overflow_y": null,
            "overflow_x": null,
            "grid_auto_flow": null,
            "grid_area": null,
            "grid_template_columns": null,
            "flex": null,
            "_model_name": "LayoutModel",
            "justify_items": null,
            "grid_row": null,
            "max_height": null,
            "align_content": null,
            "visibility": null,
            "align_self": null,
            "height": null,
            "min_height": null,
            "padding": null,
            "grid_auto_rows": null,
            "grid_gap": null,
            "max_width": null,
            "order": null,
            "_view_module_version": "1.2.0",
            "grid_template_areas": null,
            "object_position": null,
            "object_fit": null,
            "grid_auto_columns": null,
            "margin": null,
            "display": null,
            "left": null
          }
        },
        "ee27bb324490445fa62d253ddb5a53ca": {
          "model_module": "@jupyter-widgets/controls",
          "model_name": "ProgressStyleModel",
          "model_module_version": "1.5.0",
          "state": {
            "_view_name": "StyleView",
            "_model_name": "ProgressStyleModel",
            "description_width": "",
            "_view_module": "@jupyter-widgets/base",
            "_model_module_version": "1.5.0",
            "_view_count": null,
            "_view_module_version": "1.2.0",
            "bar_color": null,
            "_model_module": "@jupyter-widgets/controls"
          }
        },
        "8fb3d716cd364c6d92c4b4b359276f1f": {
          "model_module": "@jupyter-widgets/base",
          "model_name": "LayoutModel",
          "model_module_version": "1.2.0",
          "state": {
            "_view_name": "LayoutView",
            "grid_template_rows": null,
            "right": null,
            "justify_content": null,
            "_view_module": "@jupyter-widgets/base",
            "overflow": null,
            "_model_module_version": "1.2.0",
            "_view_count": null,
            "flex_flow": null,
            "width": null,
            "min_width": null,
            "border": null,
            "align_items": null,
            "bottom": null,
            "_model_module": "@jupyter-widgets/base",
            "top": null,
            "grid_column": null,
            "overflow_y": null,
            "overflow_x": null,
            "grid_auto_flow": null,
            "grid_area": null,
            "grid_template_columns": null,
            "flex": null,
            "_model_name": "LayoutModel",
            "justify_items": null,
            "grid_row": null,
            "max_height": null,
            "align_content": null,
            "visibility": null,
            "align_self": null,
            "height": null,
            "min_height": null,
            "padding": null,
            "grid_auto_rows": null,
            "grid_gap": null,
            "max_width": null,
            "order": null,
            "_view_module_version": "1.2.0",
            "grid_template_areas": null,
            "object_position": null,
            "object_fit": null,
            "grid_auto_columns": null,
            "margin": null,
            "display": null,
            "left": null
          }
        },
        "feb3394818f343b9988833a8676e334f": {
          "model_module": "@jupyter-widgets/controls",
          "model_name": "DescriptionStyleModel",
          "model_module_version": "1.5.0",
          "state": {
            "_view_name": "StyleView",
            "_model_name": "DescriptionStyleModel",
            "description_width": "",
            "_view_module": "@jupyter-widgets/base",
            "_model_module_version": "1.5.0",
            "_view_count": null,
            "_view_module_version": "1.2.0",
            "_model_module": "@jupyter-widgets/controls"
          }
        },
        "0a627c2abf894fbcbd1d4b0434c6281e": {
          "model_module": "@jupyter-widgets/base",
          "model_name": "LayoutModel",
          "model_module_version": "1.2.0",
          "state": {
            "_view_name": "LayoutView",
            "grid_template_rows": null,
            "right": null,
            "justify_content": null,
            "_view_module": "@jupyter-widgets/base",
            "overflow": null,
            "_model_module_version": "1.2.0",
            "_view_count": null,
            "flex_flow": null,
            "width": null,
            "min_width": null,
            "border": null,
            "align_items": null,
            "bottom": null,
            "_model_module": "@jupyter-widgets/base",
            "top": null,
            "grid_column": null,
            "overflow_y": null,
            "overflow_x": null,
            "grid_auto_flow": null,
            "grid_area": null,
            "grid_template_columns": null,
            "flex": null,
            "_model_name": "LayoutModel",
            "justify_items": null,
            "grid_row": null,
            "max_height": null,
            "align_content": null,
            "visibility": null,
            "align_self": null,
            "height": null,
            "min_height": null,
            "padding": null,
            "grid_auto_rows": null,
            "grid_gap": null,
            "max_width": null,
            "order": null,
            "_view_module_version": "1.2.0",
            "grid_template_areas": null,
            "object_position": null,
            "object_fit": null,
            "grid_auto_columns": null,
            "margin": null,
            "display": null,
            "left": null
          }
        }
      }
    }
  },
  "nbformat": 4,
  "nbformat_minor": 0
}